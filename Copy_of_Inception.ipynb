{
  "cells": [
    {
      "cell_type": "code",
      "execution_count": null,
      "metadata": {
        "id": "nrBU9VQj7yf4"
      },
      "outputs": [],
      "source": [
        "import requests, zipfile, io\n",
        "import cv2\n",
        "import glob\n",
        "from tensorflow.keras.utils import array_to_img, img_to_array, load_img\n",
        "import matplotlib.pyplot as plt\n",
        "import numpy as np \n",
        "from PIL import Image\n",
        "import os \n",
        "from dask import bag, diagnostics\n",
        "import pandas as pd\n",
        "from keras.preprocessing.image import ImageDataGenerator \n",
        "from sklearn.model_selection import train_test_split\n",
        "import tensorflow_hub as hub\n",
        "from keras.callbacks import EarlyStopping\n",
        "import keras\n",
        "import tensorflow as tf\n",
        "import random\n",
        "from keras.utils import to_categorical\n",
        "import albumentations as A\n",
        "from google.colab import drive,files\n",
        "from sklearn.metrics import confusion_matrix\n",
        "from sklearn.metrics import classification_report\n",
        "from tensorflow.keras.applications.inception_v3 import InceptionV3\n",
        "from tensorflow.keras import layers\n",
        "# Set the seed for TensorFlow\n",
        "tf.random.set_seed(1)\n",
        "# Set the seed for NumPy\n",
        "np.random.seed(1)\n",
        "# Set the seed for the Python random module\n",
        "random.seed(1)"
      ]
    },
    {
      "cell_type": "code",
      "execution_count": null,
      "metadata": {
        "colab": {
          "base_uri": "https://localhost:8080/"
        },
        "id": "04B1-OKN72wJ",
        "outputId": "4e36284e-f479-4a02-e79a-2623f74da066"
      },
      "outputs": [
        {
          "output_type": "stream",
          "name": "stdout",
          "text": [
            "Mounted at /content/gdrive\n"
          ]
        }
      ],
      "source": [
        "drive.mount('/content/gdrive')"
      ]
    },
    {
      "cell_type": "code",
      "execution_count": null,
      "metadata": {
        "id": "Heiq4QyF7_0x"
      },
      "outputs": [],
      "source": [
        "os.mkdir('gdrive/MyDrive/data')\n",
        "os.mkdir('gdrive/MyDrive/data/Resized-cocci')\n",
        "os.mkdir('gdrive/MyDrive/data/Resized-healthy')\n",
        "os.mkdir('gdrive/MyDrive/data/Resized-salmo')\n",
        "os.mkdir('gdrive/MyDrive/data/Resized-ncd')"
      ]
    },
    {
      "cell_type": "code",
      "execution_count": null,
      "metadata": {
        "id": "L1UTRLC-8C3M"
      },
      "outputs": [],
      "source": [
        "r = requests.get(\"https://zenodo.org/record/4628934/files/healthy.zip\")\n",
        "z = zipfile.ZipFile(io.BytesIO(r.content))\n",
        "z.extractall('gdrive/MyDrive/data')"
      ]
    },
    {
      "cell_type": "code",
      "execution_count": null,
      "metadata": {
        "id": "6oLvDmBH8FD6"
      },
      "outputs": [],
      "source": [
        "r = requests.get(\"https://zenodo.org/record/4628934/files/salmo.zip\")\n",
        "z = zipfile.ZipFile(io.BytesIO(r.content))\n",
        "z.extractall('gdrive/MyDrive/data')"
      ]
    },
    {
      "cell_type": "code",
      "execution_count": null,
      "metadata": {
        "id": "Y6czy5GB8Hri"
      },
      "outputs": [],
      "source": [
        "r = requests.get(\"https://zenodo.org/record/4628934/files/ncd.zip\")\n",
        "z = zipfile.ZipFile(io.BytesIO(r.content))\n",
        "z.extractall('gdrive/MyDrive/data')"
      ]
    },
    {
      "cell_type": "code",
      "execution_count": null,
      "metadata": {
        "id": "_Q65P_ik8JcV"
      },
      "outputs": [],
      "source": [
        "r = requests.get(\"https://zenodo.org/record/4628934/files/cocci.zip\")\n",
        "z = zipfile.ZipFile(io.BytesIO(r.content))\n",
        "z.extractall('gdrive/MyDrive/data')"
      ]
    },
    {
      "cell_type": "code",
      "execution_count": null,
      "metadata": {
        "id": "SXRrTeDh8M-i"
      },
      "outputs": [],
      "source": [
        "def resize(folder,save_to):\n",
        "  i= 0\n",
        "  images = glob.glob(folder + \"/*.jpg\")\n",
        "  for img in  images[:500]:\n",
        "    image= Image.open(img)\n",
        "    image= image.resize((299,299))\n",
        "    image.save(f\"{save_to}/resized{i}.jpg\")\n",
        "    i+=1\n",
        "  print(f'successfully saved to {save_to}')"
      ]
    },
    {
      "cell_type": "code",
      "execution_count": null,
      "metadata": {
        "id": "nDRDQ8A58R9_",
        "outputId": "4d113642-6fce-4453-90ee-7feaba69cd03",
        "colab": {
          "base_uri": "https://localhost:8080/"
        }
      },
      "outputs": [
        {
          "output_type": "stream",
          "name": "stdout",
          "text": [
            "successfully saved to gdrive/MyDrive/data/Resized-salmo-150\n",
            "successfully saved to gdrive/MyDrive/data/Resized-healthy-150\n",
            "successfully saved to gdrive/MyDrive/data/Resized-cocci-150\n"
          ]
        }
      ],
      "source": [
        "resize('gdrive/MyDrive/data/salmo','gdrive/MyDrive/data/Resized-salmo')\n",
        "resize('gdrive/MyDrive/data/healthy','gdrive/MyDrive/data/Resized-healthy')\n",
        "resize('gdrive/MyDrive/data/cocci','gdrive/MyDrive/data/Resized-cocci')\n",
        "resize('gdrive/MyDrive/data/ncd','gdrive/MyDrive/data/Resized-ncd')"
      ]
    },
    {
      "cell_type": "code",
      "source": [
        "# We will take only 500 images of each class \n",
        "cocci = glob.glob('gdrive/MyDrive/data/Resized-cocci/*.jpg')[:500]\n",
        "healthy = glob.glob('gdrive/MyDrive/data/Resized-healthy/*.jpg')[:500]\n",
        "salmo = glob.glob('gdrive/MyDrive/data/Resized-salmo/*.jpg')[:500]\n",
        "ncd = glob.glob('gdrive/MyDrive/data/Resized-ncd/*.jpg')[:500]"
      ],
      "metadata": {
        "id": "2s78UfFVFXCN"
      },
      "execution_count": null,
      "outputs": []
    },
    {
      "cell_type": "code",
      "source": [
        "# we need to fix data imbalance (class NCD )\n",
        "#Using Data Augmentation we can quickly increase the amount of data for our imbalanced classes,\n",
        "#this will ensure that our model does not see the same image twice and helps avoid overfitting and aids the model to generalise better.\n",
        "datagen = ImageDataGenerator(\n",
        "        rotation_range=90,\n",
        "        width_shift_range=0.2,\n",
        "        height_shift_range=0.2,\n",
        "        rescale=1./255,\n",
        "        shear_range=0.2,\n",
        "        zoom_range=0.2,\n",
        "        horizontal_flip=True,\n",
        "        fill_mode='nearest')"
      ],
      "metadata": {
        "id": "M980AtUWFO5F"
      },
      "execution_count": null,
      "outputs": []
    },
    {
      "cell_type": "code",
      "source": [
        "# we need to increase number of images in NCD class to be 500, which is the same as other classes \n",
        "# 376 + 124 = 500\n",
        "#os.mkdir('ncd_over-sampling')\n",
        "total = 0\n",
        "for img in ncd:\n",
        "  x = load_img(img) \n",
        "  x = img_to_array(x) # this is a Numpy array with shape (3, 150, 150)\n",
        "  x = x.reshape((1,) + x.shape) # this is a Numpy array with shape (1, 3, 150, 150)\n",
        "  for i in datagen.flow(x,save_to_dir=\"ncd_over-sampling\",save_format=\"jpg\"):\n",
        "    break \n",
        "  if total == 124:\n",
        "    break\n",
        "  total = total + 1  "
      ],
      "metadata": {
        "id": "98Kxgxo2FShU"
      },
      "execution_count": null,
      "outputs": []
    },
    {
      "cell_type": "code",
      "source": [
        "x = load_img(ncd[0])\n",
        "x = img_to_array(x)\n",
        "x.shape"
      ],
      "metadata": {
        "colab": {
          "base_uri": "https://localhost:8080/"
        },
        "id": "uSLVQN3JEqrq",
        "outputId": "0f0144c7-bca2-47c8-802a-ad4936c9b206"
      },
      "execution_count": null,
      "outputs": [
        {
          "output_type": "execute_result",
          "data": {
            "text/plain": [
              "(299, 299, 3)"
            ]
          },
          "metadata": {},
          "execution_count": 6
        }
      ]
    },
    {
      "cell_type": "markdown",
      "source": [],
      "metadata": {
        "id": "ibWGp4UCw9N5"
      }
    },
    {
      "cell_type": "code",
      "execution_count": null,
      "metadata": {
        "id": "m7vBSyp18Uip",
        "outputId": "688d6cf7-7a60-4e60-b72f-e495602ef8a8",
        "colab": {
          "base_uri": "https://localhost:8080/",
          "height": 295
        }
      },
      "outputs": [
        {
          "output_type": "display_data",
          "data": {
            "text/plain": [
              "<Figure size 432x288 with 1 Axes>"
            ],
            "image/png": "[encoded data removed]"
          },
          "metadata": {
            "needs_background": "light"
          }
        }
      ],
      "source": [
        "dict_ = {\"Cocci\":len(cocci) ,\n",
        "         \"Healthy\":len(healthy),\n",
        "         \"Salmo\":len(salmo),\n",
        "         \"NCD\":len(ncd)}\n",
        "plt.bar(dict_.keys(), dict_.values(), width = .5)\n",
        "plt.title(\"Number of Images by Class\")\n",
        "plt.xlabel('Class Name');\n",
        "plt.ylabel('# Images');\n",
        "plt.show()"
      ]
    },
    {
      "cell_type": "code",
      "execution_count": null,
      "metadata": {
        "id": "iKNMwxZF8cI2",
        "outputId": "44d20f28-2f28-4fc3-dd54-ef9a08ee71a5",
        "colab": {
          "base_uri": "https://localhost:8080/",
          "height": 537
        }
      },
      "outputs": [
        {
          "output_type": "display_data",
          "data": {
            "text/plain": [
              "<Figure size 1152x648 with 1 Axes>"
            ],
            "image/png": "[encoded data removed]"
          },
          "metadata": {}
        }
      ],
      "source": [
        "labels = dict_.keys()\n",
        "targets = dict_.values()\n",
        "plt.style.use(\"ggplot\")\n",
        "plt.figure(figsize=(16, 9))\n",
        "plt.pie(x=targets, labels=labels, autopct=\"%1.1f%%\")\n",
        "plt.title(\"Image Category Distribution\")\n",
        "plt.show()"
      ]
    },
    {
      "cell_type": "code",
      "execution_count": null,
      "metadata": {
        "id": "qzFUUYJ08cyk"
      },
      "outputs": [],
      "source": [
        "labels = []\n",
        "data =[] "
      ]
    },
    {
      "cell_type": "code",
      "execution_count": null,
      "metadata": {
        "id": "7ZyPpdu-8gGZ"
      },
      "outputs": [],
      "source": [
        "def prepare_images(array,class_no):\n",
        "  for img in array:\n",
        "    x = load_img(img)\n",
        "    x = img_to_array(x)\n",
        "    data.append(x)\n",
        "    labels.append(class_no)"
      ]
    },
    {
      "cell_type": "code",
      "execution_count": null,
      "metadata": {
        "id": "FPhuXctN8iBD"
      },
      "outputs": [],
      "source": [
        "prepare_images(cocci,0)\n",
        "prepare_images(healthy,1)\n",
        "prepare_images(salmo,2)\n",
        "prepare_images(ncd,3)"
      ]
    },
    {
      "cell_type": "code",
      "execution_count": null,
      "metadata": {
        "id": "uViqZ10B8j78"
      },
      "outputs": [],
      "source": [
        "data = np.array(data)\n",
        "labels = to_categorical(labels)"
      ]
    },
    {
      "cell_type": "code",
      "execution_count": null,
      "metadata": {
        "id": "p2zJf-cK8mmL"
      },
      "outputs": [],
      "source": [
        "X_train, X_test, ytrain, ytest = train_test_split(data, labels, test_size=0.2, random_state=1,shuffle=True)"
      ]
    },
    {
      "cell_type": "code",
      "execution_count": null,
      "metadata": {
        "id": "HUclXyoD8otN",
        "colab": {
          "base_uri": "https://localhost:8080/"
        },
        "outputId": "41d89731-7dc1-496f-9982-5fbad09fc322"
      },
      "outputs": [
        {
          "output_type": "stream",
          "name": "stdout",
          "text": [
            "Downloading data from https://storage.googleapis.com/tensorflow/keras-applications/inception_v3/inception_v3_weights_tf_dim_ordering_tf_kernels_notop.h5\n",
            "87910968/87910968 [==============================] - 6s 0us/step\n"
          ]
        }
      ],
      "source": [
        "base_model = InceptionV3(input_shape = (299, 299, 3), include_top = False, weights = 'imagenet')"
      ]
    },
    {
      "cell_type": "code",
      "execution_count": null,
      "metadata": {
        "id": "lUqLMe_Y8ueC"
      },
      "outputs": [],
      "source": [
        "base_model.trainable = False"
      ]
    },
    {
      "cell_type": "code",
      "execution_count": null,
      "metadata": {
        "id": "AYgnDEp886pd"
      },
      "outputs": [],
      "source": [
        "# Add a classification head\n",
        "model = tf.keras.Sequential([\n",
        "  base_model,\n",
        "  tf.keras.layers.GlobalAveragePooling2D(),\n",
        "  tf.keras.layers.Dense(64, activation='relu'),\n",
        "  tf.keras.layers.Dense(4, activation='softmax')\n",
        "])"
      ]
    },
    {
      "cell_type": "code",
      "execution_count": null,
      "metadata": {
        "id": "aidCB1h-9AMM",
        "outputId": "38a256b2-35d0-4792-c035-6b95f824937e",
        "colab": {
          "base_uri": "https://localhost:8080/"
        }
      },
      "outputs": [
        {
          "output_type": "stream",
          "name": "stdout",
          "text": [
            "Model: \"sequential\"\n",
            "_________________________________________________________________\n",
            " Layer (type)                Output Shape              Param #   \n",
            "=================================================================\n",
            " inception_v3 (Functional)   (None, 8, 8, 2048)        21802784  \n",
            "                                                                 \n",
            " global_average_pooling2d (G  (None, 2048)             0         \n",
            " lobalAveragePooling2D)                                          \n",
            "                                                                 \n",
            " dense (Dense)               (None, 64)                131136    \n",
            "                                                                 \n",
            " dense_1 (Dense)             (None, 4)                 260       \n",
            "                                                                 \n",
            "=================================================================\n",
            "Total params: 21,934,180\n",
            "Trainable params: 131,396\n",
            "Non-trainable params: 21,802,784\n",
            "_________________________________________________________________\n"
          ]
        }
      ],
      "source": [
        "model.summary()"
      ]
    },
    {
      "cell_type": "code",
      "execution_count": null,
      "metadata": {
        "id": "OOiqv2uN9DP8"
      },
      "outputs": [],
      "source": [
        "early_stopping = EarlyStopping(monitor='val_loss', patience=10, mode='min')\n",
        "model_checkpoint = keras.callbacks.ModelCheckpoint(filepath='best_model_tl.h5', monitor='val_accuracy', save_best_only=True, mode='max')"
      ]
    },
    {
      "cell_type": "code",
      "execution_count": null,
      "metadata": {
        "id": "Zl91A-Qo9N9-"
      },
      "outputs": [],
      "source": [
        "model.compile(loss='categorical_crossentropy', optimizer=keras.optimizers.Adam(learning_rate=1e-3),  metrics=['accuracy'])"
      ]
    },
    {
      "cell_type": "code",
      "execution_count": null,
      "metadata": {
        "id": "FqSKCiKu9fsD",
        "outputId": "cbe8e5c2-5f42-42ea-b24c-dfb72b2ee7f9",
        "colab": {
          "base_uri": "https://localhost:8080/"
        }
      },
      "outputs": [
        {
          "output_type": "stream",
          "name": "stdout",
          "text": [
            "Epoch 1/100\n",
            "134/134 [==============================] - 25s 95ms/step - loss: 5.8246 - accuracy: 0.4787 - val_loss: 2.7165 - val_accuracy: 0.4525\n",
            "Epoch 2/100\n",
            "134/134 [==============================] - 10s 73ms/step - loss: 2.7496 - accuracy: 0.5531 - val_loss: 1.8567 - val_accuracy: 0.6175\n",
            "Epoch 3/100\n",
            "134/134 [==============================] - 9s 68ms/step - loss: 1.8597 - accuracy: 0.6194 - val_loss: 2.1004 - val_accuracy: 0.5425\n",
            "Epoch 4/100\n",
            "134/134 [==============================] - 11s 80ms/step - loss: 1.7978 - accuracy: 0.6037 - val_loss: 1.9430 - val_accuracy: 0.6300\n",
            "Epoch 5/100\n",
            "134/134 [==============================] - 9s 71ms/step - loss: 1.3924 - accuracy: 0.6244 - val_loss: 1.5289 - val_accuracy: 0.5925\n",
            "Epoch 6/100\n",
            "134/134 [==============================] - 10s 71ms/step - loss: 1.1090 - accuracy: 0.6687 - val_loss: 1.1448 - val_accuracy: 0.6175\n",
            "Epoch 7/100\n",
            "134/134 [==============================] - 9s 70ms/step - loss: 1.1944 - accuracy: 0.6825 - val_loss: 3.2984 - val_accuracy: 0.4325\n",
            "Epoch 8/100\n",
            "134/134 [==============================] - 10s 72ms/step - loss: 1.1666 - accuracy: 0.6694 - val_loss: 1.2420 - val_accuracy: 0.6225\n",
            "Epoch 9/100\n",
            "134/134 [==============================] - 10s 76ms/step - loss: 0.8376 - accuracy: 0.7025 - val_loss: 1.0729 - val_accuracy: 0.6350\n",
            "Epoch 10/100\n",
            "134/134 [==============================] - 10s 76ms/step - loss: 0.8541 - accuracy: 0.7156 - val_loss: 0.9733 - val_accuracy: 0.6950\n",
            "Epoch 11/100\n",
            "134/134 [==============================] - 10s 76ms/step - loss: 0.8448 - accuracy: 0.7113 - val_loss: 1.1558 - val_accuracy: 0.5925\n",
            "Epoch 12/100\n",
            "134/134 [==============================] - 9s 71ms/step - loss: 0.7825 - accuracy: 0.7194 - val_loss: 1.0357 - val_accuracy: 0.6325\n",
            "Epoch 13/100\n",
            "134/134 [==============================] - 10s 72ms/step - loss: 0.6719 - accuracy: 0.7494 - val_loss: 1.0674 - val_accuracy: 0.6850\n",
            "Epoch 14/100\n",
            "134/134 [==============================] - 9s 70ms/step - loss: 0.6236 - accuracy: 0.7563 - val_loss: 0.8751 - val_accuracy: 0.6950\n",
            "Epoch 15/100\n",
            "134/134 [==============================] - 10s 77ms/step - loss: 0.6194 - accuracy: 0.7656 - val_loss: 1.0292 - val_accuracy: 0.6400\n",
            "Epoch 16/100\n",
            "134/134 [==============================] - 11s 82ms/step - loss: 0.6140 - accuracy: 0.7688 - val_loss: 0.9356 - val_accuracy: 0.7025\n",
            "Epoch 17/100\n",
            "134/134 [==============================] - 10s 71ms/step - loss: 0.6055 - accuracy: 0.7631 - val_loss: 1.1661 - val_accuracy: 0.6450\n",
            "Epoch 18/100\n",
            "134/134 [==============================] - 9s 69ms/step - loss: 0.7007 - accuracy: 0.7375 - val_loss: 1.3285 - val_accuracy: 0.5950\n",
            "Epoch 19/100\n",
            "134/134 [==============================] - 10s 76ms/step - loss: 0.6266 - accuracy: 0.7719 - val_loss: 0.8648 - val_accuracy: 0.6675\n",
            "Epoch 20/100\n",
            "134/134 [==============================] - 10s 76ms/step - loss: 0.6083 - accuracy: 0.7806 - val_loss: 0.8503 - val_accuracy: 0.7000\n",
            "Epoch 21/100\n",
            "134/134 [==============================] - 10s 71ms/step - loss: 0.6040 - accuracy: 0.7663 - val_loss: 0.8221 - val_accuracy: 0.6950\n",
            "Epoch 22/100\n",
            "134/134 [==============================] - 9s 70ms/step - loss: 0.5156 - accuracy: 0.7837 - val_loss: 0.7749 - val_accuracy: 0.6900\n",
            "Epoch 23/100\n",
            "134/134 [==============================] - 10s 75ms/step - loss: 0.5830 - accuracy: 0.7794 - val_loss: 0.7754 - val_accuracy: 0.7400\n",
            "Epoch 24/100\n",
            "134/134 [==============================] - 10s 75ms/step - loss: 0.5940 - accuracy: 0.7837 - val_loss: 0.6998 - val_accuracy: 0.7600\n",
            "Epoch 25/100\n",
            "134/134 [==============================] - 9s 70ms/step - loss: 0.4848 - accuracy: 0.8169 - val_loss: 0.7262 - val_accuracy: 0.7175\n",
            "Epoch 26/100\n",
            "134/134 [==============================] - 9s 70ms/step - loss: 0.5150 - accuracy: 0.8069 - val_loss: 0.7570 - val_accuracy: 0.7325\n",
            "Epoch 27/100\n",
            "134/134 [==============================] - 9s 70ms/step - loss: 0.4735 - accuracy: 0.8087 - val_loss: 0.7358 - val_accuracy: 0.7400\n",
            "Epoch 28/100\n",
            "134/134 [==============================] - 9s 71ms/step - loss: 0.5722 - accuracy: 0.7731 - val_loss: 0.7063 - val_accuracy: 0.7375\n",
            "Epoch 29/100\n",
            "134/134 [==============================] - 9s 69ms/step - loss: 0.5662 - accuracy: 0.7719 - val_loss: 0.8477 - val_accuracy: 0.6975\n",
            "Epoch 30/100\n",
            "134/134 [==============================] - 9s 71ms/step - loss: 0.6148 - accuracy: 0.7694 - val_loss: 0.9936 - val_accuracy: 0.6500\n",
            "Epoch 31/100\n",
            "134/134 [==============================] - 9s 70ms/step - loss: 0.4876 - accuracy: 0.8231 - val_loss: 0.7254 - val_accuracy: 0.7350\n",
            "Epoch 32/100\n",
            "134/134 [==============================] - 9s 69ms/step - loss: 0.4914 - accuracy: 0.8075 - val_loss: 1.0820 - val_accuracy: 0.6225\n",
            "Epoch 33/100\n",
            "134/134 [==============================] - 9s 70ms/step - loss: 0.4943 - accuracy: 0.8131 - val_loss: 1.3004 - val_accuracy: 0.5875\n",
            "Epoch 34/100\n",
            "134/134 [==============================] - 9s 71ms/step - loss: 0.4897 - accuracy: 0.8150 - val_loss: 0.7028 - val_accuracy: 0.7575\n"
          ]
        }
      ],
      "source": [
        "history = model.fit(\n",
        "    X_train,ytrain, epochs = 100 , batch_size=12,validation_data=(X_test, ytest),callbacks=[early_stopping,model_checkpoint])"
      ]
    },
    {
      "cell_type": "code",
      "source": [
        "plt.plot(history.history['accuracy'])\n",
        "plt.plot(history.history['val_accuracy'])\n",
        "plt.title('Model accuracy')\n",
        "plt.ylabel('Accuracy')\n",
        "plt.xlabel('Epoch')\n",
        "plt.legend(['Train', 'Validation'], loc='lower right')\n",
        "plt.show()"
      ],
      "metadata": {
        "id": "u0jLJMMzg57Y",
        "outputId": "2fc9b7c2-e579-467f-b2ae-00b03c9d7e58",
        "colab": {
          "base_uri": "https://localhost:8080/",
          "height": 299
        }
      },
      "execution_count": null,
      "outputs": [
        {
          "output_type": "display_data",
          "data": {
            "text/plain": [
              "<Figure size 432x288 with 1 Axes>"
            ],
            "image/png": "[encoded data removed]"
          },
          "metadata": {}
        }
      ]
    },
    {
      "cell_type": "code",
      "source": [
        "best_model_tl = keras.models.load_model('best_model_tl.h5')"
      ],
      "metadata": {
        "id": "9q7DjKChhL83"
      },
      "execution_count": null,
      "outputs": []
    },
    {
      "cell_type": "code",
      "source": [
        "# Get predictions\n",
        "y_pred = best_model_tl.predict(X_test)\n",
        "\n",
        "# Convert predictions to class labels\n",
        "y_pred_class = np.argmax(y_pred, axis=1)\n",
        "\n",
        "# Convert true labels to class labels\n",
        "y_true_class = np.argmax(ytest, axis=1)\n",
        "\n",
        "# Get confusion matrix\n",
        "confusion_mat = confusion_matrix(y_true_class, y_pred_class)\n",
        "print(\"\\n--- Confusion Matrix ---\\n\")\n",
        "print(confusion_mat)\n",
        "# Get classification report\n",
        "classification = classification_report(y_true_class, y_pred_class)\n",
        "print(\"\\n\\n\\t\\t--- Classification Report ---\\n\")\n",
        "print(classification)"
      ],
      "metadata": {
        "id": "u6rDVBYmhUbV",
        "outputId": "db0620ce-e51e-4cd7-dfe7-aae8d0e37234",
        "colab": {
          "base_uri": "https://localhost:8080/"
        }
      },
      "execution_count": null,
      "outputs": [
        {
          "output_type": "stream",
          "name": "stdout",
          "text": [
            "13/13 [==============================] - 6s 222ms/step\n",
            "\n",
            "--- Confusion Matrix ---\n",
            "\n",
            "[[78  5  6  6]\n",
            " [ 3 86  5  6]\n",
            " [ 5  4 85  8]\n",
            " [12 14 22 55]]\n",
            "\n",
            "\n",
            "\t\t--- Classification Report ---\n",
            "\n",
            "              precision    recall  f1-score   support\n",
            "\n",
            "           0       0.80      0.82      0.81        95\n",
            "           1       0.79      0.86      0.82       100\n",
            "           2       0.72      0.83      0.77       102\n",
            "           3       0.73      0.53      0.62       103\n",
            "\n",
            "    accuracy                           0.76       400\n",
            "   macro avg       0.76      0.76      0.76       400\n",
            "weighted avg       0.76      0.76      0.75       400\n",
            "\n"
          ]
        }
      ]
    },
    {
      "cell_type": "code",
      "source": [
        "# Unfreeze some layers in the base model\n",
        "base_model.trainable = True\n",
        "# free some memory \n",
        "del best_model_tl\n",
        "del data \n",
        "del labels "
      ],
      "metadata": {
        "id": "QfG9ucJOhU7g"
      },
      "execution_count": null,
      "outputs": []
    },
    {
      "cell_type": "code",
      "source": [
        "model.compile(loss='categorical_crossentropy', optimizer=keras.optimizers.Adam(learning_rate=1e-4),  metrics=['accuracy'])"
      ],
      "metadata": {
        "id": "CcLI3ty1hX-C"
      },
      "execution_count": null,
      "outputs": []
    },
    {
      "cell_type": "code",
      "source": [
        "early_stopping = EarlyStopping(monitor='val_loss', patience=10, mode='min')\n",
        "model_checkpoint = keras.callbacks.ModelCheckpoint(filepath='best_model_fn.h5', monitor='val_accuracy', save_best_only=True, mode='max')"
      ],
      "metadata": {
        "id": "YmWBpJnWhfGd"
      },
      "execution_count": null,
      "outputs": []
    },
    {
      "cell_type": "code",
      "source": [
        "history = model.fit(\n",
        "    X_train,ytrain, epochs = 100 , batch_size=32,validation_data=(X_test, ytest),callbacks=[early_stopping,model_checkpoint])"
      ],
      "metadata": {
        "id": "-HFUoW7Bhfr8",
        "outputId": "2796b9a6-aa7c-46c9-ede2-2f5f5627946f",
        "colab": {
          "base_uri": "https://localhost:8080/"
        }
      },
      "execution_count": null,
      "outputs": [
        {
          "output_type": "stream",
          "name": "stdout",
          "text": [
            "Epoch 1/100\n",
            "50/50 [==============================] - 40s 556ms/step - loss: 0.5191 - accuracy: 0.8256 - val_loss: 1.6819 - val_accuracy: 0.3575\n",
            "Epoch 2/100\n",
            "50/50 [==============================] - 26s 515ms/step - loss: 0.1140 - accuracy: 0.9663 - val_loss: 0.4511 - val_accuracy: 0.8625\n",
            "Epoch 3/100\n",
            "50/50 [==============================] - 25s 506ms/step - loss: 0.0594 - accuracy: 0.9850 - val_loss: 0.1689 - val_accuracy: 0.9450\n",
            "Epoch 4/100\n",
            "50/50 [==============================] - 25s 511ms/step - loss: 0.0284 - accuracy: 0.9919 - val_loss: 0.1985 - val_accuracy: 0.9500\n",
            "Epoch 5/100\n",
            "50/50 [==============================] - 24s 484ms/step - loss: 0.0227 - accuracy: 0.9962 - val_loss: 0.2253 - val_accuracy: 0.9450\n",
            "Epoch 6/100\n",
            "50/50 [==============================] - 24s 479ms/step - loss: 0.0090 - accuracy: 0.9987 - val_loss: 0.2185 - val_accuracy: 0.9425\n",
            "Epoch 7/100\n",
            "50/50 [==============================] - 24s 481ms/step - loss: 0.0128 - accuracy: 0.9950 - val_loss: 0.2445 - val_accuracy: 0.9400\n",
            "Epoch 8/100\n",
            "50/50 [==============================] - 25s 507ms/step - loss: 0.0292 - accuracy: 0.9894 - val_loss: 0.1648 - val_accuracy: 0.9575\n",
            "Epoch 9/100\n",
            "50/50 [==============================] - 24s 483ms/step - loss: 0.0163 - accuracy: 0.9950 - val_loss: 0.2246 - val_accuracy: 0.9500\n",
            "Epoch 10/100\n",
            "50/50 [==============================] - 24s 484ms/step - loss: 0.0118 - accuracy: 0.9969 - val_loss: 0.1842 - val_accuracy: 0.9475\n",
            "Epoch 11/100\n",
            "50/50 [==============================] - 25s 508ms/step - loss: 0.0364 - accuracy: 0.9881 - val_loss: 0.1220 - val_accuracy: 0.9700\n",
            "Epoch 12/100\n",
            "50/50 [==============================] - 24s 482ms/step - loss: 0.0051 - accuracy: 0.9987 - val_loss: 0.1419 - val_accuracy: 0.9700\n",
            "Epoch 13/100\n",
            "50/50 [==============================] - 24s 483ms/step - loss: 0.0026 - accuracy: 1.0000 - val_loss: 0.1550 - val_accuracy: 0.9675\n",
            "Epoch 14/100\n",
            "50/50 [==============================] - 25s 503ms/step - loss: 0.0014 - accuracy: 0.9994 - val_loss: 0.1493 - val_accuracy: 0.9700\n",
            "Epoch 15/100\n",
            "50/50 [==============================] - 24s 483ms/step - loss: 0.0114 - accuracy: 0.9962 - val_loss: 0.1454 - val_accuracy: 0.9550\n",
            "Epoch 16/100\n",
            "50/50 [==============================] - 24s 482ms/step - loss: 0.0144 - accuracy: 0.9975 - val_loss: 0.1292 - val_accuracy: 0.9575\n",
            "Epoch 17/100\n",
            "50/50 [==============================] - 24s 485ms/step - loss: 0.0189 - accuracy: 0.9919 - val_loss: 0.1499 - val_accuracy: 0.9550\n",
            "Epoch 18/100\n",
            "50/50 [==============================] - 24s 482ms/step - loss: 0.0120 - accuracy: 0.9981 - val_loss: 0.1622 - val_accuracy: 0.9525\n",
            "Epoch 19/100\n",
            "50/50 [==============================] - 24s 482ms/step - loss: 0.0196 - accuracy: 0.9937 - val_loss: 0.1918 - val_accuracy: 0.9625\n",
            "Epoch 20/100\n",
            "50/50 [==============================] - 24s 482ms/step - loss: 0.0112 - accuracy: 0.9981 - val_loss: 0.2473 - val_accuracy: 0.9525\n",
            "Epoch 21/100\n",
            "50/50 [==============================] - 24s 484ms/step - loss: 0.0060 - accuracy: 0.9981 - val_loss: 0.1760 - val_accuracy: 0.9625\n"
          ]
        }
      ]
    },
    {
      "cell_type": "code",
      "source": [
        "plt.plot(history.history['accuracy'])\n",
        "plt.plot(history.history['val_accuracy'])\n",
        "plt.title('Model accuracy')\n",
        "plt.ylabel('Accuracy')\n",
        "plt.xlabel('Epoch')\n",
        "plt.legend(['Train', 'Validation'], loc='lower right')\n",
        "plt.show()"
      ],
      "metadata": {
        "id": "YJJ3lNRRhkIC",
        "outputId": "8b4eec9a-1e27-46d0-e182-2451b0f4502b",
        "colab": {
          "base_uri": "https://localhost:8080/",
          "height": 299
        }
      },
      "execution_count": null,
      "outputs": [
        {
          "output_type": "display_data",
          "data": {
            "text/plain": [
              "<Figure size 432x288 with 1 Axes>"
            ],
            "image/png": "[encoded data removed]"
          },
          "metadata": {}
        }
      ]
    },
    {
      "cell_type": "code",
      "source": [
        "# load the best model\n",
        "best_model_fn = keras.models.load_model('best_model_fn.h5')"
      ],
      "metadata": {
        "id": "hw2nZPR_hku6"
      },
      "execution_count": null,
      "outputs": []
    },
    {
      "cell_type": "code",
      "source": [
        "# Get predictions\n",
        "y_pred = best_model_fn.predict(X_test)\n",
        "\n",
        "# Convert predictions to class labels\n",
        "y_pred_class = np.argmax(y_pred, axis=1)\n",
        "\n",
        "# Convert true labels to class labels\n",
        "y_true_class = np.argmax(ytest, axis=1)\n",
        "\n",
        "# Get confusion matrix\n",
        "confusion_mat = confusion_matrix(y_true_class, y_pred_class)\n",
        "print(\"\\n--- Confusion Matrix ---\\n\")\n",
        "print(confusion_mat)\n",
        "# Get classification report\n",
        "classification = classification_report(y_true_class, y_pred_class)\n",
        "print(\"\\n\\n\\t\\t--- Classification Report ---\\n\")\n",
        "print(classification)"
      ],
      "metadata": {
        "id": "N7a-fc5FhnPP",
        "outputId": "4a4bbbd5-6515-4d00-c4eb-f13162740509",
        "colab": {
          "base_uri": "https://localhost:8080/"
        }
      },
      "execution_count": null,
      "outputs": [
        {
          "output_type": "stream",
          "name": "stdout",
          "text": [
            "13/13 [==============================] - 3s 121ms/step\n",
            "\n",
            "--- Confusion Matrix ---\n",
            "\n",
            "[[ 95   0   0   0]\n",
            " [  0  92   4   4]\n",
            " [  1   1 100   0]\n",
            " [  0   1   1 101]]\n",
            "\n",
            "\n",
            "\t\t--- Classification Report ---\n",
            "\n",
            "              precision    recall  f1-score   support\n",
            "\n",
            "           0       0.99      1.00      0.99        95\n",
            "           1       0.98      0.92      0.95       100\n",
            "           2       0.95      0.98      0.97       102\n",
            "           3       0.96      0.98      0.97       103\n",
            "\n",
            "    accuracy                           0.97       400\n",
            "   macro avg       0.97      0.97      0.97       400\n",
            "weighted avg       0.97      0.97      0.97       400\n",
            "\n"
          ]
        }
      ]
    }
  ],
  "metadata": {
    "colab": {
      "provenance": []
    },
    "kernelspec": {
      "display_name": "Python 3",
      "name": "python3"
    },
    "language_info": {
      "name": "python"
    },
    "accelerator": "GPU",
    "gpuClass": "standard"
  },
  "nbformat": 4,
  "nbformat_minor": 0
}