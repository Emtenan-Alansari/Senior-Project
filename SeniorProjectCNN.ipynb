{
  "cells": [
    {
      "cell_type": "code",
      "execution_count": null,
      "metadata": {
        "id": "j1MRnD3WlSJu"
      },
      "outputs": [],
      "source": [
        "import pandas as pd"
      ]
    },
    {
      "cell_type": "code",
      "execution_count": null,
      "metadata": {
        "id": "C-QnL2yHlhMA"
      },
      "outputs": [],
      "source": [
        "import requests, zipfile, io\n",
        "import cv2\n",
        "import glob\n",
        "from tensorflow.keras.utils import load_img\n",
        "import matplotlib.pyplot as plt\n",
        "import numpy as np \n",
        "from PIL import Image\n",
        "import os \n",
        "from dask import bag, diagnostics\n",
        "import pandas as pd\n",
        "# For image augmentation  to increase the quality of trained models\n",
        "import albumentations as A\n",
        "import tensorflow as tf\n",
        "from tensorflow.keras.preprocessing.image import ImageDataGenerator\n",
        "import os\n",
        "import numpy as np\n",
        "import matplotlib.pyplot as plt"
      ]
    },
    {
      "cell_type": "code",
      "execution_count": null,
      "metadata": {
        "id": "gEUYrd2PDUAu"
      },
      "outputs": [],
      "source": [
        "from google.colab import drive,files"
      ]
    },
    {
      "cell_type": "code",
      "execution_count": null,
      "metadata": {
        "colab": {
          "base_uri": "https://localhost:8080/"
        },
        "id": "MV5W4PPnDZb6",
        "outputId": "057e53ea-01bf-4c90-d34f-396f50f886c7"
      },
      "outputs": [
        {
          "output_type": "stream",
          "name": "stdout",
          "text": [
            "Mounted at /content/gdrive\n"
          ]
        }
      ],
      "source": [
        "drive.mount('/content/gdrive')"
      ]
    },
    {
      "cell_type": "code",
      "source": [
        "# os.mkdir('gdrive/MyDrive/data')\n",
        "# os.mkdir('gdrive/MyDrive/data/Resized-cocci-224')\n",
        "# os.mkdir('gdrive/MyDrive/data/Resized-healthy-224')\n",
        "# os.mkdir('gdrive/MyDrive/data/Resized-salmo-224')"
      ],
      "metadata": {
        "id": "K5_MM6rPz_Ea"
      },
      "execution_count": null,
      "outputs": []
    },
    {
      "cell_type": "code",
      "source": [
        "r = requests.get(\"https://zenodo.org/record/4628934/files/cocci.zip\")\n",
        "z = zipfile.ZipFile(io.BytesIO(r.content))\n",
        "z.extractall('gdrive/MyDrive/data')"
      ],
      "metadata": {
        "id": "ljhp55la0Cc7"
      },
      "execution_count": null,
      "outputs": []
    },
    {
      "cell_type": "code",
      "source": [
        "r = requests.get(\"https://zenodo.org/record/4628934/files/healthy.zip\")\n",
        "z = zipfile.ZipFile(io.BytesIO(r.content))\n",
        "z.extractall('gdrive/MyDrive/data')"
      ],
      "metadata": {
        "id": "EZ1wAIgr0GvE"
      },
      "execution_count": null,
      "outputs": []
    },
    {
      "cell_type": "code",
      "source": [
        "r = requests.get(\"https://zenodo.org/record/4628934/files/salmo.zip\")\n",
        "z = zipfile.ZipFile(io.BytesIO(r.content))\n",
        "z.extractall('gdrive/MyDrive/data')"
      ],
      "metadata": {
        "id": "2MY7jIQh0JGG"
      },
      "execution_count": null,
      "outputs": []
    },
    {
      "cell_type": "code",
      "source": [
        "def resize(folder,save_to):\n",
        "  i= 0\n",
        "  images = glob.glob(folder + \"/*.jpg\")\n",
        "  for img in  images[:500]:\n",
        "    image= Image.open(img)\n",
        "    image= image.resize((224,224))\n",
        "    image.save(f\"{save_to}/resized{i}.jpg\")\n",
        "    i+=1\n",
        "  print(f'successfully saved to {save_to}')"
      ],
      "metadata": {
        "id": "rQWItsv80MM2"
      },
      "execution_count": null,
      "outputs": []
    },
    {
      "cell_type": "code",
      "source": [
        "resize('gdrive/MyDrive/data/salmo','/content/gdrive/MyDrive/data/Resized-salmo')\n",
        "resize('gdrive/MyDrive/data/healthy','/content/gdrive/MyDrive/data/Resized-healthy')\n",
        "resize('gdrive/MyDrive/data/cocci','/content/gdrive/MyDrive/data/Resized-cocci')"
      ],
      "metadata": {
        "id": "aWBnSw9O0ROK"
      },
      "execution_count": null,
      "outputs": []
    },
    {
      "cell_type": "code",
      "source": [
        "cocci = list(glob.glob('/content/gdrive/MyDrive/data/Resized-cocci/*'))\n",
        "healthy = list(glob.glob('/content/gdrive/MyDrive/data/Resized-healthy/*'))\n",
        "ncd = list(glob.glob('/content/gdrive/MyDrive/data/Resized-ncd/*'))\n",
        "salmo = list(glob.glob('/content/gdrive/MyDrive/data/Resized-salmo/*'))"
      ],
      "metadata": {
        "id": "jFahKu81a4rJ"
      },
      "execution_count": null,
      "outputs": []
    },
    {
      "cell_type": "code",
      "source": [
        "(\"Cocci\",len(cocci)) ,(\"Healthy\",len(healthy)),(\"NCD\", len(ncd)),(\"Salmo\",len(salmo))"
      ],
      "metadata": {
        "colab": {
          "base_uri": "https://localhost:8080/"
        },
        "id": "E-hn00fAa9Tb",
        "outputId": "481d40ec-ff98-4d17-d3e1-18995df774a2"
      },
      "execution_count": null,
      "outputs": [
        {
          "output_type": "execute_result",
          "data": {
            "text/plain": [
              "(('Cocci', 2103), ('Healthy', 2057), ('NCD', 501), ('Salmo', 2276))"
            ]
          },
          "metadata": {},
          "execution_count": 5
        }
      ]
    },
    {
      "cell_type": "code",
      "source": [
        "dict_ = {\"Cocci\":len(cocci) ,\"Healthy\":len(healthy),\"NCD\": len(ncd),\"Salmo\":len(salmo)}\n",
        "plt.bar(dict_.keys(), dict_.values(), width = .5)\n",
        "plt.title(\"Number of Images by Class\")\n",
        "plt.xlabel('Class Name');\n",
        "plt.ylabel('# Images');\n",
        "plt.show()"
      ],
      "metadata": {
        "id": "jlJ2lrLG0Sls",
        "colab": {
          "base_uri": "https://localhost:8080/",
          "height": 295
        },
        "outputId": "db90f722-f79e-4b9a-95ce-a666d276959a"
      },
      "execution_count": null,
      "outputs": [
        {
          "output_type": "display_data",
          "data": {
            "text/plain": [
              "<Figure size 432x288 with 1 Axes>"
            ],
            "image/png": "[encoded data removed]"
          },
          "metadata": {
            "needs_background": "light"
          }
        }
      ]
    },
    {
      "cell_type": "code",
      "source": [
        "labels = dict_.keys()\n",
        "targets = dict_.values()\n",
        "plt.style.use(\"ggplot\")\n",
        "plt.figure(figsize=(16, 9))\n",
        "plt.pie(x=targets, labels=labels, autopct=\"%1.1f%%\")\n",
        "plt.title(\"Image Category Distribution\")\n",
        "plt.show()"
      ],
      "metadata": {
        "id": "U-NZFiSJ0dVa",
        "colab": {
          "base_uri": "https://localhost:8080/",
          "height": 537
        },
        "outputId": "43d5f0b4-c4f0-43e0-98b3-0ccadfbb2c6c"
      },
      "execution_count": null,
      "outputs": [
        {
          "output_type": "display_data",
          "data": {
            "text/plain": [
              "<Figure size 1152x648 with 1 Axes>"
            ],
            "image/png": "[encoded data removed]"
          },
          "metadata": {}
        }
      ]
    },
    {
      "cell_type": "markdown",
      "metadata": {
        "id": "OvYQvJ89eGjX"
      },
      "source": [
        "**The Over-Sampling**"
      ]
    },
    {
      "cell_type": "markdown",
      "metadata": {
        "id": "YzeJQ2v9edbO"
      },
      "source": [
        "Augmentaion of images"
      ]
    },
    {
      "cell_type": "code",
      "execution_count": null,
      "metadata": {
        "id": "xCLIsTwtX8cx"
      },
      "outputs": [],
      "source": [
        "# we need to fix data imbalance (class NCD )\n",
        "#Using Data Augmentation we can quickly increase the amount of data for our imbalanced classes,\n",
        "#this will ensure that our model does not see the same image twice and helps avoid overfitting and aids the model to generalise better.\n",
        "datagen = ImageDataGenerator(\n",
        "        rotation_range=40,\n",
        "        width_shift_range=0.2,\n",
        "        height_shift_range=0.2,\n",
        "        rescale=1./255,\n",
        "        shear_range=0.2,\n",
        "        zoom_range=0.2,\n",
        "        horizontal_flip=True,\n",
        "        fill_mode='nearest')"
      ]
    },
    {
      "cell_type": "markdown",
      "source": [
        "**CNN  Model**"
      ],
      "metadata": {
        "id": "pxm5SdDtffiC"
      }
    },
    {
      "cell_type": "code",
      "source": [
        "batch_size = 64\n",
        "img_height = 299\n",
        "img_width = 299\n",
        "     "
      ],
      "metadata": {
        "id": "9v3s7AhOd4-p"
      },
      "execution_count": null,
      "outputs": []
    },
    {
      "cell_type": "code",
      "source": [
        "data_dir = \"/content/gdrive/MyDrive/data\"\n",
        "train_ds = tf.keras.preprocessing.image_dataset_from_directory(\n",
        "  data_dir,\n",
        "  validation_split=0.2,\n",
        "  subset=\"training\",\n",
        "  seed=123,\n",
        "  image_size=(img_height, img_width),\n",
        "  batch_size=batch_size)"
      ],
      "metadata": {
        "colab": {
          "base_uri": "https://localhost:8080/"
        },
        "id": "RCLX_7wSd-Gd",
        "outputId": "d35390d4-e55a-4b09-ed04-a026a429a194"
      },
      "execution_count": null,
      "outputs": [
        {
          "output_type": "stream",
          "name": "stdout",
          "text": [
            "Found 6937 files belonging to 4 classes.\n",
            "Using 5550 files for training.\n"
          ]
        }
      ]
    },
    {
      "cell_type": "code",
      "source": [
        "val_ds = tf.keras.preprocessing.image_dataset_from_directory(\n",
        "  data_dir,\n",
        "  validation_split=0.2,\n",
        "  subset=\"validation\",\n",
        "  seed=123,\n",
        "  image_size=(img_height, img_width),\n",
        "  batch_size=batch_size)"
      ],
      "metadata": {
        "colab": {
          "base_uri": "https://localhost:8080/"
        },
        "id": "SE8mC8caeCan",
        "outputId": "427de66c-af8e-4293-b368-d6ca40e2af60"
      },
      "execution_count": null,
      "outputs": [
        {
          "output_type": "stream",
          "name": "stdout",
          "text": [
            "Found 6937 files belonging to 4 classes.\n",
            "Using 1387 files for validation.\n"
          ]
        }
      ]
    },
    {
      "cell_type": "code",
      "execution_count": null,
      "metadata": {
        "id": "vEm5tL31zWYa"
      },
      "outputs": [],
      "source": [
        "AUTOTUNE = tf.data.AUTOTUNE\n",
        "\n",
        "train_ds = train_ds.cache().shuffle(1000).prefetch(buffer_size=AUTOTUNE)\n",
        "val_ds = val_ds.cache().prefetch(buffer_size=AUTOTUNE)"
      ]
    },
    {
      "cell_type": "code",
      "source": [
        "from tensorflow.keras.models import Sequential\n",
        "from tensorflow import keras\n",
        "from tensorflow.keras import layers"
      ],
      "metadata": {
        "id": "F3gVtgrmjAto"
      },
      "execution_count": null,
      "outputs": []
    },
    {
      "cell_type": "code",
      "execution_count": null,
      "metadata": {
        "id": "Mfzb4efOze9V"
      },
      "outputs": [],
      "source": [
        "num_classes = 4\n",
        "\n",
        "model = Sequential([\n",
        "  layers.experimental.preprocessing.Rescaling(1./255, input_shape=(img_height, img_width, 3)),\n",
        "  layers.Conv2D(16, 3, padding='same', activation='relu'),\n",
        "  layers.MaxPooling2D(),\n",
        "  layers.Conv2D(32, 3, padding='same', activation='relu'),\n",
        "  layers.MaxPooling2D(),\n",
        "  layers.Conv2D(64, 3, padding='same', activation='relu'),\n",
        "  layers.MaxPooling2D(),\n",
        "  layers.Flatten(),\n",
        "  layers.Dense(128, activation='softmax'),\n",
        "  layers.Dense(num_classes)\n",
        "])"
      ]
    },
    {
      "cell_type": "code",
      "execution_count": null,
      "metadata": {
        "id": "mNq1ZKp7znK0"
      },
      "outputs": [],
      "source": [
        "model.compile(optimizer='RMSprop',\n",
        "              loss=tf.keras.losses.SparseCategoricalCrossentropy(from_logits=True),\n",
        "              metrics=['accuracy'])"
      ]
    },
    {
      "cell_type": "code",
      "execution_count": null,
      "metadata": {
        "colab": {
          "base_uri": "https://localhost:8080/"
        },
        "id": "rHmXU-tkzvfz",
        "outputId": "91d018c0-9b3b-46b4-ae93-284877ad6ea7"
      },
      "outputs": [
        {
          "output_type": "stream",
          "name": "stdout",
          "text": [
            "Model: \"sequential\"\n",
            "_________________________________________________________________\n",
            " Layer (type)                Output Shape              Param #   \n",
            "=================================================================\n",
            " rescaling (Rescaling)       (None, 299, 299, 3)       0         \n",
            "                                                                 \n",
            " conv2d (Conv2D)             (None, 299, 299, 16)      448       \n",
            "                                                                 \n",
            " max_pooling2d (MaxPooling2D  (None, 149, 149, 16)     0         \n",
            " )                                                               \n",
            "                                                                 \n",
            " conv2d_1 (Conv2D)           (None, 149, 149, 32)      4640      \n",
            "                                                                 \n",
            " max_pooling2d_1 (MaxPooling  (None, 74, 74, 32)       0         \n",
            " 2D)                                                             \n",
            "                                                                 \n",
            " conv2d_2 (Conv2D)           (None, 74, 74, 64)        18496     \n",
            "                                                                 \n",
            " max_pooling2d_2 (MaxPooling  (None, 37, 37, 64)       0         \n",
            " 2D)                                                             \n",
            "                                                                 \n",
            " flatten (Flatten)           (None, 87616)             0         \n",
            "                                                                 \n",
            " dense (Dense)               (None, 128)               11214976  \n",
            "                                                                 \n",
            " dense_1 (Dense)             (None, 4)                 516       \n",
            "                                                                 \n",
            "=================================================================\n",
            "Total params: 11,239,076\n",
            "Trainable params: 11,239,076\n",
            "Non-trainable params: 0\n",
            "_________________________________________________________________\n"
          ]
        }
      ],
      "source": [
        "model.summary()\n",
        "     "
      ]
    },
    {
      "cell_type": "code",
      "execution_count": null,
      "metadata": {
        "colab": {
          "base_uri": "https://localhost:8080/"
        },
        "id": "0BMln-bmz5bD",
        "outputId": "c0e1423e-aaf2-48e8-92ca-d2fa44e152ba"
      },
      "outputs": [
        {
          "output_type": "stream",
          "name": "stdout",
          "text": [
            "Epoch 1/100\n"
          ]
        }
      ],
      "source": [
        "epochs=100\n",
        "history = model.fit(\n",
        "  train_ds,\n",
        "  validation_data=val_ds,\n",
        "  epochs=epochs, \n",
        "  batch_size = 64 \n",
        ")"
      ]
    },
    {
      "cell_type": "code",
      "execution_count": null,
      "metadata": {
        "colab": {
          "base_uri": "https://localhost:8080/",
          "height": 500
        },
        "id": "LG2RttRJTJVv",
        "outputId": "c92124c5-a597-4c74-9693-6d1309574934"
      },
      "outputs": [
        {
          "data": {
            "image/png": "[encoded data removed]",
            "text/plain": [
              "<Figure size 576x576 with 2 Axes>"
            ]
          },
          "metadata": {},
          "output_type": "display_data"
        }
      ],
      "source": [
        "acc = history.history['accuracy']\n",
        "val_acc = history.history['val_accuracy']\n",
        "\n",
        "loss = history.history['loss']\n",
        "val_loss = history.history['val_loss']\n",
        "\n",
        "epochs_range = range(epochs)\n",
        "\n",
        "plt.figure(figsize=(8, 8))\n",
        "plt.subplot(1, 2, 1)\n",
        "plt.plot(epochs_range, acc, label='Training Accuracy')\n",
        "plt.plot(epochs_range, val_acc, label='Validation Accuracy')\n",
        "plt.legend(loc='lower right')\n",
        "plt.title('Training and Validation Accuracy')\n",
        "\n",
        "plt.subplot(1, 2, 2)\n",
        "plt.plot(epochs_range, loss, label='Training Loss')\n",
        "plt.plot(epochs_range, val_loss, label='Validation Loss')\n",
        "plt.legend(loc='upper right')\n",
        "plt.title('Training and Validation Loss')\n",
        "plt.show()"
      ]
    }
  ],
  "metadata": {
    "colab": {
      "provenance": []
    },
    "kernelspec": {
      "display_name": "Python 3",
      "name": "python3"
    },
    "language_info": {
      "name": "python"
    },
    "accelerator": "GPU",
    "gpuClass": "standard"
  },
  "nbformat": 4,
  "nbformat_minor": 0
}