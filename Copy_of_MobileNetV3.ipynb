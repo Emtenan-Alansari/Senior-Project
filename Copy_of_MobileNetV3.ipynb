{
  "nbformat": 4,
  "nbformat_minor": 0,
  "metadata": {
    "colab": {
      "provenance": []
    },
    "kernelspec": {
      "name": "python3",
      "display_name": "Python 3"
    },
    "language_info": {
      "name": "python"
    },
    "accelerator": "GPU",
    "gpuClass": "standard"
  },
  "cells": [
    {
      "cell_type": "code",
      "execution_count": 1,
      "metadata": {
        "id": "_oTwOYmAkl9y"
      },
      "outputs": [],
      "source": [
        "import requests, zipfile, io\n",
        "import cv2\n",
        "import glob\n",
        "from tensorflow.keras.utils import array_to_img, img_to_array, load_img\n",
        "import matplotlib.pyplot as plt\n",
        "import numpy as np \n",
        "from PIL import Image\n",
        "import os \n",
        "import pandas as pd\n",
        "from keras.preprocessing.image import ImageDataGenerator \n",
        "from sklearn.model_selection import train_test_split\n",
        "from keras.callbacks import EarlyStopping\n",
        "import keras\n",
        "import tensorflow as tf\n",
        "import random\n",
        "from keras.utils import to_categorical\n",
        "from google.colab import drive,files\n",
        "from sklearn.metrics import confusion_matrix\n",
        "from sklearn.metrics import classification_report\n",
        "# Set the seed for TensorFlow\n",
        "tf.random.set_seed(1)\n",
        "# Set the seed for NumPy\n",
        "np.random.seed(1)\n",
        "# Set the seed for the Python random module\n",
        "random.seed(1)"
      ]
    },
    {
      "cell_type": "markdown",
      "source": [
        "Connect to Google drive "
      ],
      "metadata": {
        "id": "o-lSoRHBkvbp"
      }
    },
    {
      "cell_type": "code",
      "source": [
        "drive.mount('/content/gdrive')"
      ],
      "metadata": {
        "colab": {
          "base_uri": "https://localhost:8080/"
        },
        "id": "fQWZpRzTko0H",
        "outputId": "e24dbd5b-f43d-418b-facb-5684c46c007c"
      },
      "execution_count": 2,
      "outputs": [
        {
          "output_type": "stream",
          "name": "stdout",
          "text": [
            "Drive already mounted at /content/gdrive; to attempt to forcibly remount, call drive.mount(\"/content/gdrive\", force_remount=True).\n"
          ]
        }
      ]
    },
    {
      "cell_type": "code",
      "source": [
        "#os.mkdir('gdrive/MyDrive/data')\n",
        "#os.mkdir('gdrive/MyDrive/data/Resized-cocci')\n",
        "#os.mkdir('gdrive/MyDrive/data/Resized-healthy')\n",
        "#os.mkdir('gdrive/MyDrive/data/Resized-salmo')"
      ],
      "metadata": {
        "id": "OW74cAy0kx2u"
      },
      "execution_count": null,
      "outputs": []
    },
    {
      "cell_type": "code",
      "source": [
        "#r = requests.get(\"https://zenodo.org/record/4628934/files/cocci.zip\")\n",
        "#z = zipfile.ZipFile(io.BytesIO(r.content))\n",
        "#z.extractall('gdrive/MyDrive/data')"
      ],
      "metadata": {
        "id": "udqrH59GmJCU"
      },
      "execution_count": null,
      "outputs": []
    },
    {
      "cell_type": "code",
      "source": [
        "#r = requests.get(\"https://zenodo.org/record/4628934/files/healthy.zip\")\n",
        "#z = zipfile.ZipFile(io.BytesIO(r.content))\n",
        "#z.extractall('gdrive/MyDrive/data')"
      ],
      "metadata": {
        "id": "v35tO8rZmLfY"
      },
      "execution_count": null,
      "outputs": []
    },
    {
      "cell_type": "code",
      "source": [
        "#r = requests.get(\"https://zenodo.org/record/4628934/files/salmo.zip\")\n",
        "#z = zipfile.ZipFile(io.BytesIO(r.content))\n",
        "#z.extractall('gdrive/MyDrive/data')"
      ],
      "metadata": {
        "id": "wEl6k-nVmN6q"
      },
      "execution_count": null,
      "outputs": []
    },
    {
      "cell_type": "code",
      "source": [
        "#def resize(folder,save_to):\n",
        "#  i= 0\n",
        "#  images = glob.glob(folder + \"/*.jpg\")\n",
        "#  for img in  images[:500]:\n",
        "#    image= Image.open(img)\n",
        "#    image= image.resize((224,224))\n",
        "#    image.save(f\"{save_to}/resized{i}.jpg\")\n",
        "#    i+=1\n",
        "#  print(f'successfully saved to {save_to}')"
      ],
      "metadata": {
        "id": "o0VjrmJcmQ3Y"
      },
      "execution_count": null,
      "outputs": []
    },
    {
      "cell_type": "code",
      "source": [
        "#resize('gdrive/MyDrive/data/salmo','gdrive/MyDrive/data/Resized-salmo-224')\n",
        "#resize('gdrive/MyDrive/data/healthy','gdrive/MyDrive/data/Resized-healthy-224')\n",
        "#resize('gdrive/MyDrive/data/cocci','gdrive/MyDrive/data/Resized-cocci-224')"
      ],
      "metadata": {
        "id": "ezqKOobVmQ5d"
      },
      "execution_count": null,
      "outputs": []
    },
    {
      "cell_type": "markdown",
      "source": [
        "Reading data from drive"
      ],
      "metadata": {
        "id": "6axakL8mcYUD"
      }
    },
    {
      "cell_type": "code",
      "source": [
        "# We will take only 500 images of each class \n",
        "cocci = glob.glob('/content/gdrive/MyDrive/data/Resized-cocci/*.jpg')[:500]\n",
        "healthy = glob.glob('/content/gdrive/MyDrive/data/Resized-healthy/*.jpg')[:500]\n",
        "salmo = glob.glob('/content/gdrive/MyDrive/data/Resized-salmo/*.jpg')[:500]"
      ],
      "metadata": {
        "id": "DWqRUSfOmQ-v"
      },
      "execution_count": 3,
      "outputs": []
    },
    {
      "cell_type": "code",
      "source": [
        "dict_ = {\"Cocci\":len(cocci) ,\n",
        "         \"Healthy\":len(healthy),\n",
        "         \"Salmo\":len(salmo)}\n",
        "plt.bar(dict_.keys(), dict_.values(), width = .5)\n",
        "plt.title(\"Number of Images by Class\")\n",
        "plt.xlabel('Class Name');\n",
        "plt.ylabel('# Images');\n",
        "plt.show()"
      ],
      "metadata": {
        "colab": {
          "base_uri": "https://localhost:8080/",
          "height": 295
        },
        "id": "dSKdC1P6mRCa",
        "outputId": "ac534393-27e2-4bf0-dd16-d5d754eed8e9"
      },
      "execution_count": 4,
      "outputs": [
        {
          "output_type": "display_data",
          "data": {
            "text/plain": [
              "<Figure size 432x288 with 1 Axes>"
            ],
            "image/png": "[encoded data removed]"
          },
          "metadata": {
            "needs_background": "light"
          }
        }
      ]
    },
    {
      "cell_type": "code",
      "source": [
        "labels = dict_.keys()\n",
        "targets = dict_.values()\n",
        "plt.style.use(\"ggplot\")\n",
        "plt.figure(figsize=(16, 9))\n",
        "plt.pie(x=targets, labels=labels, autopct=\"%1.1f%%\")\n",
        "plt.title(\"Image Category Distribution\")\n",
        "plt.show()"
      ],
      "metadata": {
        "colab": {
          "base_uri": "https://localhost:8080/",
          "height": 537
        },
        "id": "IXSVIzaZmRFQ",
        "outputId": "c565ba79-a328-49df-f755-4c5792ada2e9"
      },
      "execution_count": 5,
      "outputs": [
        {
          "output_type": "display_data",
          "data": {
            "text/plain": [
              "<Figure size 1152x648 with 1 Axes>"
            ],
            "image/png": "[encoded data removed]"
          },
          "metadata": {}
        }
      ]
    },
    {
      "cell_type": "code",
      "source": [
        "labels = []\n",
        "data =[] "
      ],
      "metadata": {
        "id": "v5Yerfmtns2p"
      },
      "execution_count": 6,
      "outputs": []
    },
    {
      "cell_type": "code",
      "source": [
        "def prepare_images(array,class_no):\n",
        "  for img in array:\n",
        "    x = load_img(img)\n",
        "    x = img_to_array(x)\n",
        "    data.append(x)\n",
        "    labels.append(class_no)"
      ],
      "metadata": {
        "id": "oiezjR5bnvoM"
      },
      "execution_count": 7,
      "outputs": []
    },
    {
      "cell_type": "code",
      "source": [
        "prepare_images(cocci,0)\n",
        "prepare_images(healthy,1)\n",
        "prepare_images(salmo,2)"
      ],
      "metadata": {
        "id": "x-LVAYtXnyMU"
      },
      "execution_count": 8,
      "outputs": []
    },
    {
      "cell_type": "code",
      "source": [
        "data = np.array(data)\n",
        "labels = to_categorical(labels)"
      ],
      "metadata": {
        "id": "RQrnoC4zn2_e"
      },
      "execution_count": 9,
      "outputs": []
    },
    {
      "cell_type": "code",
      "source": [
        "X_train, X_test, ytrain, ytest = train_test_split(data, labels, test_size=0.2, random_state=1,shuffle=True)"
      ],
      "metadata": {
        "id": "4KBgyDFOn5ye"
      },
      "execution_count": 10,
      "outputs": []
    },
    {
      "cell_type": "markdown",
      "source": [
        "**Transfer** **Learning**"
      ],
      "metadata": {
        "id": "-E_77A8adMPQ"
      }
    },
    {
      "cell_type": "code",
      "source": [
        "base_model = tf.keras.applications.MobileNetV3Large(input_shape=(224,224,3),include_top=False, # Transfer learning\n",
        "                                                weights=\"imagenet\")"
      ],
      "metadata": {
        "id": "ajHDf30in9-3"
      },
      "execution_count": 11,
      "outputs": []
    },
    {
      "cell_type": "code",
      "source": [
        "# freeze the base model \n",
        "base_model.trainable = False"
      ],
      "metadata": {
        "id": "QA_S0Ha3qQIu"
      },
      "execution_count": 13,
      "outputs": []
    },
    {
      "cell_type": "code",
      "source": [
        "# Add a classification head\n",
        "model = tf.keras.Sequential([\n",
        "  base_model,\n",
        "  tf.keras.layers.GlobalAveragePooling2D(),\n",
        "  tf.keras.layers.Dense(128, activation='relu'),\n",
        "  tf.keras.layers.Dense(3, activation='softmax')\n",
        "])"
      ],
      "metadata": {
        "id": "ZXA61lhhsJFT"
      },
      "execution_count": 14,
      "outputs": []
    },
    {
      "cell_type": "code",
      "source": [
        "model.summary()"
      ],
      "metadata": {
        "colab": {
          "base_uri": "https://localhost:8080/"
        },
        "id": "NIC3FdxHsNT9",
        "outputId": "057f2fc6-cd54-47a4-de77-a45dd1b40b0b"
      },
      "execution_count": 15,
      "outputs": [
        {
          "output_type": "stream",
          "name": "stdout",
          "text": [
            "Model: \"sequential_1\"\n",
            "_________________________________________________________________\n",
            " Layer (type)                Output Shape              Param #   \n",
            "=================================================================\n",
            " MobilenetV3large (Functiona  (None, 7, 7, 960)        2996352   \n",
            " l)                                                              \n",
            "                                                                 \n",
            " global_average_pooling2d_1   (None, 960)              0         \n",
            " (GlobalAveragePooling2D)                                        \n",
            "                                                                 \n",
            " dense_2 (Dense)             (None, 128)               123008    \n",
            "                                                                 \n",
            " dense_3 (Dense)             (None, 3)                 387       \n",
            "                                                                 \n",
            "=================================================================\n",
            "Total params: 3,119,747\n",
            "Trainable params: 123,395\n",
            "Non-trainable params: 2,996,352\n",
            "_________________________________________________________________\n"
          ]
        }
      ]
    },
    {
      "cell_type": "code",
      "source": [
        "early_stopping = EarlyStopping(monitor='val_loss', patience=10, mode='min')\n",
        "model_checkpoint = keras.callbacks.ModelCheckpoint(filepath='best_model_tl.h5', monitor='val_accuracy', save_best_only=True, mode='max')"
      ],
      "metadata": {
        "id": "wW9cwwQisQOs"
      },
      "execution_count": 16,
      "outputs": []
    },
    {
      "cell_type": "code",
      "source": [
        "model.compile(loss='categorical_crossentropy', optimizer=keras.optimizers.Adam(learning_rate=1e-3),  metrics=['accuracy'])"
      ],
      "metadata": {
        "id": "d8huUNKKsUNS"
      },
      "execution_count": 17,
      "outputs": []
    },
    {
      "cell_type": "code",
      "source": [
        "history = model.fit(\n",
        "    X_train,ytrain,epochs=100,batch_size=32,validation_data=(X_test, ytest),callbacks=[early_stopping,model_checkpoint])"
      ],
      "metadata": {
        "colab": {
          "base_uri": "https://localhost:8080/"
        },
        "id": "WOqmh19-sWgP",
        "outputId": "515eebe1-80ee-491b-da5e-c14d1caa071b"
      },
      "execution_count": 18,
      "outputs": [
        {
          "output_type": "stream",
          "name": "stdout",
          "text": [
            "Epoch 1/100\n",
            "38/38 [==============================] - 14s 135ms/step - loss: 0.2351 - accuracy: 0.9100 - val_loss: 0.0711 - val_accuracy: 0.9800\n",
            "Epoch 2/100\n",
            "38/38 [==============================] - 2s 57ms/step - loss: 0.0442 - accuracy: 0.9858 - val_loss: 0.0745 - val_accuracy: 0.9767\n",
            "Epoch 3/100\n",
            "38/38 [==============================] - 2s 59ms/step - loss: 0.0231 - accuracy: 0.9950 - val_loss: 0.0635 - val_accuracy: 0.9800\n",
            "Epoch 4/100\n",
            "38/38 [==============================] - 2s 52ms/step - loss: 0.0144 - accuracy: 0.9992 - val_loss: 0.0634 - val_accuracy: 0.9800\n",
            "Epoch 5/100\n",
            "38/38 [==============================] - 2s 52ms/step - loss: 0.0090 - accuracy: 1.0000 - val_loss: 0.0708 - val_accuracy: 0.9767\n",
            "Epoch 6/100\n",
            "38/38 [==============================] - 2s 59ms/step - loss: 0.0049 - accuracy: 1.0000 - val_loss: 0.0678 - val_accuracy: 0.9767\n",
            "Epoch 7/100\n",
            "38/38 [==============================] - 2s 52ms/step - loss: 0.0037 - accuracy: 1.0000 - val_loss: 0.0705 - val_accuracy: 0.9800\n",
            "Epoch 8/100\n",
            "38/38 [==============================] - 2s 59ms/step - loss: 0.0028 - accuracy: 1.0000 - val_loss: 0.0686 - val_accuracy: 0.9767\n",
            "Epoch 9/100\n",
            "38/38 [==============================] - 2s 64ms/step - loss: 0.0023 - accuracy: 1.0000 - val_loss: 0.0698 - val_accuracy: 0.9800\n",
            "Epoch 10/100\n",
            "38/38 [==============================] - 2s 60ms/step - loss: 0.0018 - accuracy: 1.0000 - val_loss: 0.0703 - val_accuracy: 0.9767\n",
            "Epoch 11/100\n",
            "38/38 [==============================] - 2s 52ms/step - loss: 0.0017 - accuracy: 1.0000 - val_loss: 0.0713 - val_accuracy: 0.9800\n",
            "Epoch 12/100\n",
            "38/38 [==============================] - 2s 59ms/step - loss: 0.0014 - accuracy: 1.0000 - val_loss: 0.0731 - val_accuracy: 0.9800\n",
            "Epoch 13/100\n",
            "38/38 [==============================] - 2s 53ms/step - loss: 0.0012 - accuracy: 1.0000 - val_loss: 0.0712 - val_accuracy: 0.9767\n",
            "Epoch 14/100\n",
            "38/38 [==============================] - 2s 58ms/step - loss: 0.0011 - accuracy: 1.0000 - val_loss: 0.0747 - val_accuracy: 0.9800\n"
          ]
        }
      ]
    },
    {
      "cell_type": "code",
      "source": [
        "plt.plot(history.history['accuracy'])\n",
        "plt.plot(history.history['val_accuracy'])\n",
        "plt.title('Model accuracy')\n",
        "plt.ylabel('Accuracy')\n",
        "plt.xlabel('Epoch')\n",
        "plt.legend(['Train', 'Validation'], loc='lower right')\n",
        "plt.show()"
      ],
      "metadata": {
        "colab": {
          "base_uri": "https://localhost:8080/",
          "height": 299
        },
        "id": "Vpf1L8mAj4W8",
        "outputId": "687df7dc-4791-4f66-d297-4c81e26976c4"
      },
      "execution_count": 19,
      "outputs": [
        {
          "output_type": "display_data",
          "data": {
            "text/plain": [
              "<Figure size 432x288 with 1 Axes>"
            ],
            "image/png": "[encoded data removed]"
          },
          "metadata": {}
        }
      ]
    },
    {
      "cell_type": "code",
      "source": [
        "# load the best model\n",
        "best_model_tl = keras.models.load_model('best_model_tl.h5')"
      ],
      "metadata": {
        "id": "TvUnfW6-kIf2"
      },
      "execution_count": 20,
      "outputs": []
    },
    {
      "cell_type": "code",
      "source": [
        "# Get predictions\n",
        "y_pred = best_model_tl.predict(X_test)\n",
        "\n",
        "# Convert predictions to class labels\n",
        "y_pred_class = np.argmax(y_pred, axis=1)\n",
        "\n",
        "# Convert true labels to class labels\n",
        "y_true_class = np.argmax(ytest, axis=1)\n",
        "\n",
        "# Get confusion matrix\n",
        "confusion_mat = confusion_matrix(y_true_class, y_pred_class)\n",
        "print(\"\\n--- Confusion Matrix ---\\n\")\n",
        "print(confusion_mat)\n",
        "# Get classification report\n",
        "classification = classification_report(y_true_class, y_pred_class)\n",
        "print(\"\\n\\n\\t\\t--- Classification Report ---\\n\")\n",
        "print(classification)"
      ],
      "metadata": {
        "colab": {
          "base_uri": "https://localhost:8080/"
        },
        "id": "SugDOlPdkYw3",
        "outputId": "ccbf6449-9e3a-4c0a-99b8-960085fbeb6e"
      },
      "execution_count": 21,
      "outputs": [
        {
          "output_type": "stream",
          "name": "stdout",
          "text": [
            "10/10 [==============================] - 2s 45ms/step\n",
            "\n",
            "--- Confusion Matrix ---\n",
            "\n",
            "[[ 95   0   0]\n",
            " [  1 104   2]\n",
            " [  0   3  95]]\n",
            "\n",
            "\n",
            "\t\t--- Classification Report ---\n",
            "\n",
            "              precision    recall  f1-score   support\n",
            "\n",
            "           0       0.99      1.00      0.99        95\n",
            "           1       0.97      0.97      0.97       107\n",
            "           2       0.98      0.97      0.97        98\n",
            "\n",
            "    accuracy                           0.98       300\n",
            "   macro avg       0.98      0.98      0.98       300\n",
            "weighted avg       0.98      0.98      0.98       300\n",
            "\n"
          ]
        }
      ]
    },
    {
      "cell_type": "markdown",
      "source": [
        "**Fine**-**Tuning**"
      ],
      "metadata": {
        "id": "wUFsqzyIg_m1"
      }
    },
    {
      "cell_type": "code",
      "source": [
        "# Unfreeze some layers in the base model\n",
        "base_model.trainable = True"
      ],
      "metadata": {
        "id": "_IOds_A8sYyM"
      },
      "execution_count": 22,
      "outputs": []
    },
    {
      "cell_type": "code",
      "source": [
        "model.compile(loss='categorical_crossentropy', optimizer=keras.optimizers.Adam(learning_rate=1e-4),  metrics=['accuracy'])"
      ],
      "metadata": {
        "id": "e8Q_rKkstDmN"
      },
      "execution_count": 23,
      "outputs": []
    },
    {
      "cell_type": "code",
      "source": [
        "early_stopping = EarlyStopping(monitor='val_loss', patience=10, mode='min')\n",
        "model_checkpoint = keras.callbacks.ModelCheckpoint(filepath='best_model_fn.h5', monitor='val_accuracy', save_best_only=True, mode='max')"
      ],
      "metadata": {
        "id": "pbnOmcWwo9QX"
      },
      "execution_count": 24,
      "outputs": []
    },
    {
      "cell_type": "code",
      "source": [
        "history = model.fit(\n",
        "    X_train,ytrain,epochs=100,batch_size=32,validation_data=(X_test, ytest),callbacks=[early_stopping,model_checkpoint])"
      ],
      "metadata": {
        "colab": {
          "base_uri": "https://localhost:8080/"
        },
        "id": "mI99PCDqtQ2c",
        "outputId": "a7c0f35e-797c-4ec2-9195-3901562fb711"
      },
      "execution_count": 25,
      "outputs": [
        {
          "output_type": "stream",
          "name": "stdout",
          "text": [
            "Epoch 1/100\n",
            "38/38 [==============================] - 15s 202ms/step - loss: 0.1245 - accuracy: 0.9550 - val_loss: 0.0822 - val_accuracy: 0.9700\n",
            "Epoch 2/100\n",
            "38/38 [==============================] - 6s 153ms/step - loss: 0.0185 - accuracy: 0.9958 - val_loss: 0.0878 - val_accuracy: 0.9767\n",
            "Epoch 3/100\n",
            "38/38 [==============================] - 5s 142ms/step - loss: 0.0061 - accuracy: 0.9992 - val_loss: 0.0924 - val_accuracy: 0.9733\n",
            "Epoch 4/100\n",
            "38/38 [==============================] - 5s 139ms/step - loss: 0.0078 - accuracy: 0.9983 - val_loss: 0.1002 - val_accuracy: 0.9733\n",
            "Epoch 5/100\n",
            "38/38 [==============================] - 5s 140ms/step - loss: 0.0029 - accuracy: 0.9992 - val_loss: 0.0920 - val_accuracy: 0.9733\n",
            "Epoch 6/100\n",
            "38/38 [==============================] - 5s 141ms/step - loss: 0.0051 - accuracy: 0.9992 - val_loss: 0.0927 - val_accuracy: 0.9767\n",
            "Epoch 7/100\n",
            "38/38 [==============================] - 5s 131ms/step - loss: 0.0029 - accuracy: 1.0000 - val_loss: 0.1158 - val_accuracy: 0.9700\n",
            "Epoch 8/100\n",
            "38/38 [==============================] - 5s 141ms/step - loss: 0.0015 - accuracy: 1.0000 - val_loss: 0.1215 - val_accuracy: 0.9700\n",
            "Epoch 9/100\n",
            "38/38 [==============================] - 5s 138ms/step - loss: 0.0018 - accuracy: 1.0000 - val_loss: 0.1070 - val_accuracy: 0.9733\n",
            "Epoch 10/100\n",
            "38/38 [==============================] - 6s 161ms/step - loss: 0.0021 - accuracy: 1.0000 - val_loss: 0.0920 - val_accuracy: 0.9800\n",
            "Epoch 11/100\n",
            "38/38 [==============================] - 5s 132ms/step - loss: 0.0012 - accuracy: 1.0000 - val_loss: 0.1078 - val_accuracy: 0.9767\n"
          ]
        }
      ]
    },
    {
      "cell_type": "code",
      "source": [
        "plt.plot(history.history['accuracy'])\n",
        "plt.plot(history.history['val_accuracy'])\n",
        "plt.title('Model accuracy')\n",
        "plt.ylabel('Accuracy')\n",
        "plt.xlabel('Epoch')\n",
        "plt.legend(['Train', 'Validation'], loc='lower right')\n",
        "plt.show()"
      ],
      "metadata": {
        "id": "spuPfW5DtTW8",
        "colab": {
          "base_uri": "https://localhost:8080/",
          "height": 299
        },
        "outputId": "92aec8f0-4e2a-4a47-fe0c-4f320ef4e65f"
      },
      "execution_count": 26,
      "outputs": [
        {
          "output_type": "display_data",
          "data": {
            "text/plain": [
              "<Figure size 432x288 with 1 Axes>"
            ],
            "image/png": "[encoded data removed]"
          },
          "metadata": {}
        }
      ]
    },
    {
      "cell_type": "code",
      "source": [
        "# load the best model\n",
        "best_model_fn = keras.models.load_model('best_model_fn.h5')"
      ],
      "metadata": {
        "id": "FO_zJwPgk0um"
      },
      "execution_count": 27,
      "outputs": []
    },
    {
      "cell_type": "code",
      "source": [
        "# Get predictions\n",
        "y_pred = best_model_fn.predict(X_test)\n",
        "\n",
        "# Convert predictions to class labels\n",
        "y_pred_class = np.argmax(y_pred, axis=1)\n",
        "\n",
        "# Convert true labels to class labels\n",
        "y_true_class = np.argmax(ytest, axis=1)\n",
        "\n",
        "# Get confusion matrix\n",
        "confusion_mat = confusion_matrix(y_true_class, y_pred_class)\n",
        "print(\"\\n--- Confusion Matrix ---\\n\")\n",
        "print(confusion_mat)\n",
        "# Get classification report\n",
        "classification = classification_report(y_true_class, y_pred_class)\n",
        "print(\"\\n\\n\\t\\t--- Classification Report ---\\n\")\n",
        "print(classification)"
      ],
      "metadata": {
        "colab": {
          "base_uri": "https://localhost:8080/"
        },
        "id": "aAkJ-DaUjmlj",
        "outputId": "9605f313-8629-4d7c-91fc-b027205f4bcd"
      },
      "execution_count": 28,
      "outputs": [
        {
          "output_type": "stream",
          "name": "stdout",
          "text": [
            "10/10 [==============================] - 1s 41ms/step\n",
            "\n",
            "--- Confusion Matrix ---\n",
            "\n",
            "[[ 94   0   1]\n",
            " [  1 102   4]\n",
            " [  0   0  98]]\n",
            "\n",
            "\n",
            "\t\t--- Classification Report ---\n",
            "\n",
            "              precision    recall  f1-score   support\n",
            "\n",
            "           0       0.99      0.99      0.99        95\n",
            "           1       1.00      0.95      0.98       107\n",
            "           2       0.95      1.00      0.98        98\n",
            "\n",
            "    accuracy                           0.98       300\n",
            "   macro avg       0.98      0.98      0.98       300\n",
            "weighted avg       0.98      0.98      0.98       300\n",
            "\n"
          ]
        }
      ]
    },
    {
      "cell_type": "code",
      "source": [],
      "metadata": {
        "id": "j-GMu092lmXV"
      },
      "execution_count": null,
      "outputs": []
    }
  ]
}