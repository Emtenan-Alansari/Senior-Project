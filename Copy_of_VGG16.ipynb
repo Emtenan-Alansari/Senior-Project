{
  "nbformat": 4,
  "nbformat_minor": 0,
  "metadata": {
    "colab": {
      "provenance": []
    },
    "kernelspec": {
      "name": "python3",
      "display_name": "Python 3"
    },
    "language_info": {
      "name": "python"
    },
    "accelerator": "GPU",
    "gpuClass": "standard"
  },
  "cells": [
    {
      "cell_type": "code",
      "source": [
        "import requests, zipfile, io\n",
        "import cv2\n",
        "import glob\n",
        "from tensorflow.keras.utils import array_to_img, img_to_array, load_img\n",
        "import matplotlib.pyplot as plt\n",
        "import numpy as np \n",
        "from PIL import Image\n",
        "import os \n",
        "from dask import bag, diagnostics\n",
        "import pandas as pd\n",
        "from keras.preprocessing.image import ImageDataGenerator \n",
        "from sklearn.model_selection import train_test_split\n",
        "import tensorflow_hub as hub\n",
        "from keras.callbacks import EarlyStopping\n",
        "import keras\n",
        "import tensorflow as tf\n",
        "import random\n",
        "from keras.utils import to_categorical\n",
        "from google.colab import drive,files\n",
        "from sklearn.metrics import confusion_matrix\n",
        "from sklearn.metrics import classification_report\n",
        "import numpy as np \n",
        "from PIL import Image\n",
        "import os \n",
        "from tensorflow.keras.applications.vgg16 import VGG16\n",
        "# For image augmentation  to increase the quality of trained models\n",
        "import albumentations as A\n",
        "# Set the seed for TensorFlow\n",
        "tf.random.set_seed(1)\n",
        "# Set the seed for NumPy\n",
        "np.random.seed(1)\n",
        "# Set the seed for the Python random module\n",
        "random.seed(1)"
      ],
      "metadata": {
        "id": "LTgZjAimxbTG"
      },
      "execution_count": null,
      "outputs": []
    },
    {
      "cell_type": "code",
      "source": [
        "drive.mount('/content/gdrive')"
      ],
      "metadata": {
        "colab": {
          "base_uri": "https://localhost:8080/"
        },
        "id": "1UxGnRpMxgjT",
        "outputId": "ab8c98d0-aeb9-46a9-c12a-2ee235b8e5e6"
      },
      "execution_count": null,
      "outputs": [
        {
          "output_type": "stream",
          "name": "stdout",
          "text": [
            "Mounted at /content/gdrive\n"
          ]
        }
      ]
    },
    {
      "cell_type": "markdown",
      "source": [
        "RUN ONLY ONCE "
      ],
      "metadata": {
        "id": "reOnTtWzmBHo"
      }
    },
    {
      "cell_type": "code",
      "source": [
        "os.mkdir('gdrive/MyDrive/data')\n",
        "os.mkdir('gdrive/MyDrive/data/Resized-cocci')\n",
        "os.mkdir('gdrive/MyDrive/data/Resized-healthy')\n",
        "os.mkdir('gdrive/MyDrive/data/Resized-salmo')\n",
        "os.mkdir('gdrive/MyDrive/data/Resized-ncd')"
      ],
      "metadata": {
        "id": "N0YIO_YXxjFG"
      },
      "execution_count": null,
      "outputs": []
    },
    {
      "cell_type": "code",
      "source": [
        "r = requests.get(\"https://zenodo.org/record/4628934/files/healthy.zip\")\n",
        "z = zipfile.ZipFile(io.BytesIO(r.content))\n",
        "z.extractall('gdrive/MyDrive/data')"
      ],
      "metadata": {
        "id": "KIM0z26_xoeH"
      },
      "execution_count": null,
      "outputs": []
    },
    {
      "cell_type": "code",
      "source": [
        "r = requests.get(\"https://zenodo.org/record/4628934/files/salmo.zip\")\n",
        "z = zipfile.ZipFile(io.BytesIO(r.content))\n",
        "z.extractall('gdrive/MyDrive/data')"
      ],
      "metadata": {
        "id": "h5vvEw0Sxq9x"
      },
      "execution_count": null,
      "outputs": []
    },
    {
      "cell_type": "code",
      "source": [
        "r = requests.get(\"https://zenodo.org/record/4628934/files/ncd.zip\")\n",
        "z = zipfile.ZipFile(io.BytesIO(r.content))\n",
        "z.extractall('gdrive/MyDrive/data')"
      ],
      "metadata": {
        "id": "lCQ7aYXQxrHZ"
      },
      "execution_count": null,
      "outputs": []
    },
    {
      "cell_type": "code",
      "source": [
        "r = requests.get(\"https://zenodo.org/record/4628934/files/cocci.zip\")\n",
        "z = zipfile.ZipFile(io.BytesIO(r.content))\n",
        "z.extractall('gdrive/MyDrive/data')"
      ],
      "metadata": {
        "id": "-n3kZ8sfxvjD"
      },
      "execution_count": null,
      "outputs": []
    },
    {
      "cell_type": "code",
      "source": [
        "def resize(folder,save_to):\n",
        "  i= 0\n",
        "  images = glob.glob(folder + \"/*.jpg\")\n",
        "  for img in  images[:500]:\n",
        "    image= Image.open(img)\n",
        "    image= image.resize((224,224))\n",
        "    image.save(f\"{save_to}/resized{i}.jpg\")\n",
        "    i+=1\n",
        "  print(f'successfully saved to {save_to}')"
      ],
      "metadata": {
        "id": "txWJSpZIyV_D"
      },
      "execution_count": null,
      "outputs": []
    },
    {
      "cell_type": "code",
      "source": [
        "resize('gdrive/MyDrive/data/salmo','gdrive/MyDrive/data/Resized-salmo')\n",
        "resize('gdrive/MyDrive/data/healthy','gdrive/MyDrive/data/Resized-healthy') \n",
        "resize('gdrive/MyDrive/data/cocci','gdrive/MyDrive/data/Resized-cocci') \n",
        "resize('gdrive/MyDrive/data/ncd','gdrive/MyDrive/data/Resized-ncd')"
      ],
      "metadata": {
        "id": "f-xBpNmoy7Os"
      },
      "execution_count": null,
      "outputs": []
    },
    {
      "cell_type": "markdown",
      "source": [
        "END OF SKIPED PART"
      ],
      "metadata": {
        "id": "XqNpI997uoIK"
      }
    },
    {
      "cell_type": "code",
      "source": [
        "# We will take only 500 images of each class \n",
        "cocci = glob.glob('gdrive/MyDrive/data/Resized-cocci/*.jpg')[:500]\n",
        "healthy = glob.glob('gdrive/MyDrive/data/Resized-healthy/*.jpg')[:500]\n",
        "salmo = glob.glob('gdrive/MyDrive/data/Resized-salmo/*.jpg')[:500]\n",
        "ncd = glob.glob('gdrive/MyDrive/data/Resized-ncd/*.jpg')[:500]"
      ],
      "metadata": {
        "id": "dtV9d3Roy7gH"
      },
      "execution_count": null,
      "outputs": []
    },
    {
      "cell_type": "code",
      "source": [
        "# we need to fix data imbalance (class NCD )\n",
        "#Using Data Augmentation we can quickly increase the amount of data for our imbalanced classes,\n",
        "#this will ensure that our model does not see the same image twice and helps avoid overfitting and aids the model to generalise better.\n",
        "datagen = ImageDataGenerator(\n",
        "        rotation_range=90,\n",
        "        width_shift_range=0.2,\n",
        "        height_shift_range=0.2,\n",
        "        rescale=1./255,\n",
        "        shear_range=0.2,\n",
        "        zoom_range=0.2,\n",
        "        horizontal_flip=True,\n",
        "        fill_mode='nearest')"
      ],
      "metadata": {
        "id": "gUX5F9Jsillw"
      },
      "execution_count": null,
      "outputs": []
    },
    {
      "cell_type": "code",
      "source": [
        "(\"Cocci\",len(cocci)) ,(\"Healthy\",len(healthy)),(\"NCD\", len(ncd)),(\"Salmo\",len(salmo))"
      ],
      "metadata": {
        "id": "7DMBLBowkLRa",
        "outputId": "fff363e3-7e7c-4f7c-84db-457d3c3a0d4d",
        "colab": {
          "base_uri": "https://localhost:8080/"
        }
      },
      "execution_count": null,
      "outputs": [
        {
          "output_type": "execute_result",
          "data": {
            "text/plain": [
              "(('Cocci', 500), ('Healthy', 500), ('NCD', 376), ('Salmo', 500))"
            ]
          },
          "metadata": {},
          "execution_count": 21
        }
      ]
    },
    {
      "cell_type": "code",
      "source": [
        "# we need to increase number of images in NCD class to be 500, which is the same as other classes \n",
        "# 376 + 124 = 500\n",
        "#os.mkdir('ncd_over-sampling')\n",
        "total = 0\n",
        "for img in ncd:\n",
        "  x = load_img(img) \n",
        "  x = img_to_array(x) # this is a Numpy array with shape (3, 150, 150)\n",
        "  x = x.reshape((1,) + x.shape) # this is a Numpy array with shape (1, 3, 150, 150)\n",
        "  for i in datagen.flow(x,save_to_dir=\"ncd_over-sampling\",save_format=\"jpg\"):\n",
        "    break \n",
        "  if total == 124:\n",
        "    break\n",
        "  total = total + 1  "
      ],
      "metadata": {
        "id": "kvVWOhkDkSN3"
      },
      "execution_count": null,
      "outputs": []
    },
    {
      "cell_type": "code",
      "source": [
        "over = glob.glob('ncd_over-sampling/*.jpg')[:500]\n",
        "print(len(over))\n",
        "ncd = ncd + over\n",
        "print(\"NCD : \",len(ncd))"
      ],
      "metadata": {
        "id": "wnE9E6MulF7a",
        "outputId": "20ff0a2a-7a74-4c4d-b3be-3e1c834ae3ab",
        "colab": {
          "base_uri": "https://localhost:8080/"
        }
      },
      "execution_count": null,
      "outputs": [
        {
          "output_type": "stream",
          "name": "stdout",
          "text": [
            "124\n",
            "NCD :  500\n"
          ]
        }
      ]
    },
    {
      "cell_type": "code",
      "source": [
        "dict_ = {\"Cocci\":len(cocci) ,\n",
        "         \"Healthy\":len(healthy),\n",
        "         \"Salmo\":len(salmo),\n",
        "         \"NCD\":len(ncd)}\n",
        "plt.bar(dict_.keys(), dict_.values(), width = .5)\n",
        "plt.title(\"Number of Images by Class\")\n",
        "plt.xlabel('Class Name');\n",
        "plt.ylabel('# Images');\n",
        "plt.show()"
      ],
      "metadata": {
        "colab": {
          "base_uri": "https://localhost:8080/",
          "height": 299
        },
        "id": "VMoKVcRty_96",
        "outputId": "13f26764-c8c2-48e3-d6b3-7f4485a301cd"
      },
      "execution_count": null,
      "outputs": [
        {
          "output_type": "display_data",
          "data": {
            "text/plain": [
              "<Figure size 432x288 with 1 Axes>"
            ],
            "image/png": "[encoded data removed]"
          },
          "metadata": {}
        }
      ]
    },
    {
      "cell_type": "code",
      "source": [
        "labels = dict_.keys()\n",
        "targets = dict_.values()\n",
        "plt.style.use(\"ggplot\")\n",
        "plt.figure(figsize=(16, 9))\n",
        "plt.pie(x=targets, labels=labels, autopct=\"%1.1f%%\")\n",
        "plt.title(\"Image Category Distribution\")\n",
        "plt.show()"
      ],
      "metadata": {
        "colab": {
          "base_uri": "https://localhost:8080/",
          "height": 537
        },
        "id": "f46MthJDzCsi",
        "outputId": "acaf8a81-3cfa-4b7c-deb4-be12c5644934"
      },
      "execution_count": null,
      "outputs": [
        {
          "output_type": "display_data",
          "data": {
            "text/plain": [
              "<Figure size 1152x648 with 1 Axes>"
            ],
            "image/png": "[encoded data removed]"
          },
          "metadata": {}
        }
      ]
    },
    {
      "cell_type": "code",
      "source": [
        "labels = []\n",
        "data =[] "
      ],
      "metadata": {
        "id": "6xMM2fvIzHvU"
      },
      "execution_count": null,
      "outputs": []
    },
    {
      "cell_type": "code",
      "source": [
        "def prepare_images(array,class_no):\n",
        "  for img in array:\n",
        "    x = load_img(img)\n",
        "    x = img_to_array(x)\n",
        "    data.append(x)\n",
        "    labels.append(class_no)"
      ],
      "metadata": {
        "id": "ICiaKZmCzKmK"
      },
      "execution_count": null,
      "outputs": []
    },
    {
      "cell_type": "code",
      "source": [
        "prepare_images(cocci,0)\n",
        "prepare_images(healthy,1)\n",
        "prepare_images(salmo,2)\n",
        "prepare_images(ncd,3)"
      ],
      "metadata": {
        "id": "2Pp2d3HfzN-o"
      },
      "execution_count": null,
      "outputs": []
    },
    {
      "cell_type": "code",
      "source": [
        "data = np.array(data)\n",
        "labels = to_categorical(labels)"
      ],
      "metadata": {
        "id": "pW3TbSZezRRL"
      },
      "execution_count": null,
      "outputs": []
    },
    {
      "cell_type": "code",
      "source": [
        "X_train, X_test, ytrain, ytest = train_test_split(data, labels, test_size=0.2, random_state=1,shuffle=True)"
      ],
      "metadata": {
        "id": "YFljDpABzUKz"
      },
      "execution_count": null,
      "outputs": []
    },
    {
      "cell_type": "code",
      "source": [
        "base_model = VGG16(input_shape = (224, 224, 3), # Shape of our images\n",
        "include_top = False, # Leave out the last fully connected layer\n",
        "weights = 'imagenet')"
      ],
      "metadata": {
        "id": "TrAbH_onzYKK"
      },
      "execution_count": null,
      "outputs": []
    },
    {
      "cell_type": "code",
      "source": [
        "base_model.trainable = False"
      ],
      "metadata": {
        "id": "MBFt9wJazcI-"
      },
      "execution_count": null,
      "outputs": []
    },
    {
      "cell_type": "code",
      "source": [
        "x = tf.keras.layers.GlobalAveragePooling2D()(base_model.output)\n",
        "\n",
        "# Add a fully connected layer with 512 hidden units and ReLU activation\n",
        "x = tf.keras.layers.Dense(512, activation='relu')(x)\n",
        "\n",
        "# Add a dropout rate of 0.2\n",
        "x = tf.keras.layers.Dropout(0.2)(x)\n",
        "\n",
        "# Add a final sigmoid layer with 1 node for classification output\n",
        "x = tf.keras.layers.Dense(4, activation='softmax')(x)\n",
        "\n",
        "model = tf.keras.models.Model(base_model.input, x)"
      ],
      "metadata": {
        "id": "atBIvpb3zh0s"
      },
      "execution_count": null,
      "outputs": []
    },
    {
      "cell_type": "code",
      "source": [
        "model.summary()"
      ],
      "metadata": {
        "colab": {
          "base_uri": "https://localhost:8080/"
        },
        "id": "so0HJjeiznZv",
        "outputId": "3f9151d6-9240-43d3-af36-f746fbaa7903"
      },
      "execution_count": null,
      "outputs": [
        {
          "output_type": "stream",
          "name": "stdout",
          "text": [
            "Model: \"model_1\"\n",
            "_________________________________________________________________\n",
            " Layer (type)                Output Shape              Param #   \n",
            "=================================================================\n",
            " input_1 (InputLayer)        [(None, 224, 224, 3)]     0         \n",
            "                                                                 \n",
            " block1_conv1 (Conv2D)       (None, 224, 224, 64)      1792      \n",
            "                                                                 \n",
            " block1_conv2 (Conv2D)       (None, 224, 224, 64)      36928     \n",
            "                                                                 \n",
            " block1_pool (MaxPooling2D)  (None, 112, 112, 64)      0         \n",
            "                                                                 \n",
            " block2_conv1 (Conv2D)       (None, 112, 112, 128)     73856     \n",
            "                                                                 \n",
            " block2_conv2 (Conv2D)       (None, 112, 112, 128)     147584    \n",
            "                                                                 \n",
            " block2_pool (MaxPooling2D)  (None, 56, 56, 128)       0         \n",
            "                                                                 \n",
            " block3_conv1 (Conv2D)       (None, 56, 56, 256)       295168    \n",
            "                                                                 \n",
            " block3_conv2 (Conv2D)       (None, 56, 56, 256)       590080    \n",
            "                                                                 \n",
            " block3_conv3 (Conv2D)       (None, 56, 56, 256)       590080    \n",
            "                                                                 \n",
            " block3_pool (MaxPooling2D)  (None, 28, 28, 256)       0         \n",
            "                                                                 \n",
            " block4_conv1 (Conv2D)       (None, 28, 28, 512)       1180160   \n",
            "                                                                 \n",
            " block4_conv2 (Conv2D)       (None, 28, 28, 512)       2359808   \n",
            "                                                                 \n",
            " block4_conv3 (Conv2D)       (None, 28, 28, 512)       2359808   \n",
            "                                                                 \n",
            " block4_pool (MaxPooling2D)  (None, 14, 14, 512)       0         \n",
            "                                                                 \n",
            " block5_conv1 (Conv2D)       (None, 14, 14, 512)       2359808   \n",
            "                                                                 \n",
            " block5_conv2 (Conv2D)       (None, 14, 14, 512)       2359808   \n",
            "                                                                 \n",
            " block5_conv3 (Conv2D)       (None, 14, 14, 512)       2359808   \n",
            "                                                                 \n",
            " block5_pool (MaxPooling2D)  (None, 7, 7, 512)         0         \n",
            "                                                                 \n",
            " global_average_pooling2d_1   (None, 512)              0         \n",
            " (GlobalAveragePooling2D)                                        \n",
            "                                                                 \n",
            " dense_3 (Dense)             (None, 512)               262656    \n",
            "                                                                 \n",
            " dropout_1 (Dropout)         (None, 512)               0         \n",
            "                                                                 \n",
            " dense_4 (Dense)             (None, 3)                 1539      \n",
            "                                                                 \n",
            "=================================================================\n",
            "Total params: 14,978,883\n",
            "Trainable params: 264,195\n",
            "Non-trainable params: 14,714,688\n",
            "_________________________________________________________________\n"
          ]
        }
      ]
    },
    {
      "cell_type": "code",
      "source": [
        "early_stopping = EarlyStopping(monitor='val_loss', patience=10, mode='min')\n",
        "model_checkpoint = keras.callbacks.ModelCheckpoint(filepath='best_model_tl.h5', monitor='val_accuracy', save_best_only=True, mode='max')"
      ],
      "metadata": {
        "id": "4QlwjKgqzpjF"
      },
      "execution_count": null,
      "outputs": []
    },
    {
      "cell_type": "code",
      "source": [
        "model.compile(loss='categorical_crossentropy', optimizer=keras.optimizers.Adam(learning_rate=1e-3),  metrics=['accuracy'])"
      ],
      "metadata": {
        "id": "XUVbUFs6zt9C"
      },
      "execution_count": null,
      "outputs": []
    },
    {
      "cell_type": "code",
      "source": [
        "history = model.fit(\n",
        "    X_train,ytrain, epochs = 100 , batch_size=32,validation_data=(X_test, ytest),callbacks=[early_stopping,model_checkpoint])"
      ],
      "metadata": {
        "colab": {
          "base_uri": "https://localhost:8080/"
        },
        "id": "XVaNwwU7zxIn",
        "outputId": "50f133b9-e322-49c5-a2e7-ee56a545a9cb"
      },
      "execution_count": null,
      "outputs": [
        {
          "output_type": "stream",
          "name": "stdout",
          "text": [
            "Epoch 1/100\n",
            "50/50 [==============================] - 21s 221ms/step - loss: 0.9267 - accuracy: 0.7469 - val_loss: 0.3300 - val_accuracy: 0.8775\n",
            "Epoch 2/100\n",
            "50/50 [==============================] - 9s 183ms/step - loss: 0.2933 - accuracy: 0.8913 - val_loss: 0.3740 - val_accuracy: 0.8650\n",
            "Epoch 3/100\n",
            "50/50 [==============================] - 9s 187ms/step - loss: 0.1976 - accuracy: 0.9344 - val_loss: 0.2424 - val_accuracy: 0.9100\n",
            "Epoch 4/100\n",
            "50/50 [==============================] - 9s 184ms/step - loss: 0.1478 - accuracy: 0.9500 - val_loss: 0.3103 - val_accuracy: 0.8800\n",
            "Epoch 5/100\n",
            "50/50 [==============================] - 9s 190ms/step - loss: 0.1143 - accuracy: 0.9631 - val_loss: 0.2156 - val_accuracy: 0.9275\n",
            "Epoch 6/100\n",
            "50/50 [==============================] - 9s 187ms/step - loss: 0.0825 - accuracy: 0.9725 - val_loss: 0.2062 - val_accuracy: 0.9250\n",
            "Epoch 7/100\n",
            "50/50 [==============================] - 10s 191ms/step - loss: 0.0655 - accuracy: 0.9794 - val_loss: 0.2094 - val_accuracy: 0.9325\n",
            "Epoch 8/100\n",
            "50/50 [==============================] - 9s 189ms/step - loss: 0.0476 - accuracy: 0.9881 - val_loss: 0.2362 - val_accuracy: 0.9275\n",
            "Epoch 9/100\n",
            "50/50 [==============================] - 10s 192ms/step - loss: 0.0407 - accuracy: 0.9887 - val_loss: 0.2191 - val_accuracy: 0.9225\n",
            "Epoch 10/100\n",
            "50/50 [==============================] - 10s 192ms/step - loss: 0.0491 - accuracy: 0.9850 - val_loss: 0.2710 - val_accuracy: 0.9175\n",
            "Epoch 11/100\n",
            "50/50 [==============================] - 10s 196ms/step - loss: 0.0341 - accuracy: 0.9919 - val_loss: 0.2302 - val_accuracy: 0.9325\n",
            "Epoch 12/100\n",
            "50/50 [==============================] - 10s 208ms/step - loss: 0.0319 - accuracy: 0.9937 - val_loss: 0.2345 - val_accuracy: 0.9350\n",
            "Epoch 13/100\n",
            "50/50 [==============================] - 10s 210ms/step - loss: 0.0278 - accuracy: 0.9919 - val_loss: 0.2421 - val_accuracy: 0.9275\n",
            "Epoch 14/100\n",
            "50/50 [==============================] - 10s 203ms/step - loss: 0.0175 - accuracy: 0.9987 - val_loss: 0.2588 - val_accuracy: 0.9300\n",
            "Epoch 15/100\n",
            "50/50 [==============================] - 11s 211ms/step - loss: 0.0128 - accuracy: 0.9987 - val_loss: 0.2261 - val_accuracy: 0.9350\n",
            "Epoch 16/100\n",
            "50/50 [==============================] - 10s 196ms/step - loss: 0.0097 - accuracy: 0.9994 - val_loss: 0.2480 - val_accuracy: 0.9325\n"
          ]
        }
      ]
    },
    {
      "cell_type": "code",
      "source": [
        "plt.plot(history.history['accuracy'])\n",
        "plt.plot(history.history['val_accuracy'])\n",
        "plt.title('Model accuracy')\n",
        "plt.ylabel('Accuracy')\n",
        "plt.xlabel('Epoch')\n",
        "plt.legend(['Train', 'Validation'], loc='lower right')\n",
        "plt.show()"
      ],
      "metadata": {
        "colab": {
          "base_uri": "https://localhost:8080/",
          "height": 299
        },
        "id": "Lbl6-zkd0OQR",
        "outputId": "9e8e8b72-9d1d-4d8e-c402-484856324d9a"
      },
      "execution_count": null,
      "outputs": [
        {
          "output_type": "display_data",
          "data": {
            "text/plain": [
              "<Figure size 432x288 with 1 Axes>"
            ],
            "image/png": "[encoded data removed]"
          },
          "metadata": {}
        }
      ]
    },
    {
      "cell_type": "code",
      "source": [
        "# load the best model\n",
        "best_model_tl = keras.models.load_model('best_model_tl.h5')"
      ],
      "metadata": {
        "id": "KefQwttc0UUp"
      },
      "execution_count": null,
      "outputs": []
    },
    {
      "cell_type": "code",
      "source": [
        "# Get predictions\n",
        "y_pred = best_model_tl.predict(X_test)\n",
        "\n",
        "# Convert predictions to class labels\n",
        "y_pred_class = np.argmax(y_pred, axis=1)\n",
        "\n",
        "# Convert true labels to class labels\n",
        "y_true_class = np.argmax(ytest, axis=1)\n",
        "\n",
        "# Get confusion matrix\n",
        "confusion_mat = confusion_matrix(y_true_class, y_pred_class)\n",
        "print(\"\\n--- Confusion Matrix ---\\n\")\n",
        "print(confusion_mat)\n",
        "# Get classification report\n",
        "classification = classification_report(y_true_class, y_pred_class)\n",
        "print(\"\\n\\n\\t\\t--- Classification Report ---\\n\")\n",
        "print(classification)"
      ],
      "metadata": {
        "colab": {
          "base_uri": "https://localhost:8080/"
        },
        "id": "8Mk68yZ91I0y",
        "outputId": "eb6f21c1-8df6-4204-9bcb-43f88672b654"
      },
      "execution_count": null,
      "outputs": [
        {
          "output_type": "stream",
          "name": "stdout",
          "text": [
            "13/13 [==============================] - 2s 151ms/step\n",
            "\n",
            "--- Confusion Matrix ---\n",
            "\n",
            "[[92  1  1  1]\n",
            " [ 0 96  2  2]\n",
            " [ 2  2 94  4]\n",
            " [ 4  3  4 92]]\n",
            "\n",
            "\n",
            "\t\t--- Classification Report ---\n",
            "\n",
            "              precision    recall  f1-score   support\n",
            "\n",
            "           0       0.94      0.97      0.95        95\n",
            "           1       0.94      0.96      0.95       100\n",
            "           2       0.93      0.92      0.93       102\n",
            "           3       0.93      0.89      0.91       103\n",
            "\n",
            "    accuracy                           0.94       400\n",
            "   macro avg       0.93      0.94      0.94       400\n",
            "weighted avg       0.93      0.94      0.93       400\n",
            "\n"
          ]
        }
      ]
    },
    {
      "cell_type": "code",
      "source": [
        "# Unfreeze some layers in the base model\n",
        "base_model.trainable = True\n",
        "# free some memory \n",
        "del best_model_tl\n",
        "del data \n",
        "del labels "
      ],
      "metadata": {
        "id": "yaJmisJU1MRG"
      },
      "execution_count": null,
      "outputs": []
    },
    {
      "cell_type": "code",
      "source": [
        "model.compile(loss='categorical_crossentropy', optimizer=keras.optimizers.Adam(learning_rate=1e-4),  metrics=['accuracy'])"
      ],
      "metadata": {
        "id": "d8ZXumxT1PCI"
      },
      "execution_count": null,
      "outputs": []
    },
    {
      "cell_type": "code",
      "source": [
        "early_stopping = EarlyStopping(monitor='val_loss', patience=10, mode='min')\n",
        "model_checkpoint = keras.callbacks.ModelCheckpoint(filepath='best_model_fn.h5', monitor='val_accuracy', save_best_only=True, mode='max')"
      ],
      "metadata": {
        "id": "oKc5tNTQ1SED"
      },
      "execution_count": null,
      "outputs": []
    },
    {
      "cell_type": "code",
      "source": [
        "history = model.fit(\n",
        "    X_train,ytrain, epochs = 100 , batch_size=12,validation_data=(X_test, ytest),callbacks=[early_stopping,model_checkpoint])"
      ],
      "metadata": {
        "colab": {
          "base_uri": "https://localhost:8080/"
        },
        "id": "Fq4ThN_f1VA8",
        "outputId": "093ef71f-8729-411a-f991-2f35438b38b9"
      },
      "execution_count": null,
      "outputs": [
        {
          "output_type": "stream",
          "name": "stdout",
          "text": [
            "Epoch 1/100\n",
            "134/134 [==============================] - 34s 219ms/step - loss: 1.9758 - accuracy: 0.4769 - val_loss: 1.0516 - val_accuracy: 0.5025\n",
            "Epoch 2/100\n",
            "134/134 [==============================] - 27s 201ms/step - loss: 0.8977 - accuracy: 0.6150 - val_loss: 0.5918 - val_accuracy: 0.7850\n",
            "Epoch 3/100\n",
            "134/134 [==============================] - 27s 203ms/step - loss: 0.5948 - accuracy: 0.7719 - val_loss: 0.5206 - val_accuracy: 0.8200\n",
            "Epoch 4/100\n",
            "134/134 [==============================] - 27s 203ms/step - loss: 0.5293 - accuracy: 0.7962 - val_loss: 0.4461 - val_accuracy: 0.8300\n",
            "Epoch 5/100\n",
            "134/134 [==============================] - 27s 205ms/step - loss: 0.4930 - accuracy: 0.8075 - val_loss: 0.3663 - val_accuracy: 0.8625\n",
            "Epoch 6/100\n",
            "134/134 [==============================] - 27s 204ms/step - loss: 0.4521 - accuracy: 0.8163 - val_loss: 0.3079 - val_accuracy: 0.8675\n",
            "Epoch 7/100\n",
            "134/134 [==============================] - 27s 201ms/step - loss: 0.3564 - accuracy: 0.8500 - val_loss: 0.3383 - val_accuracy: 0.8650\n",
            "Epoch 8/100\n",
            "134/134 [==============================] - 27s 204ms/step - loss: 0.3437 - accuracy: 0.8719 - val_loss: 0.4540 - val_accuracy: 0.7950\n",
            "Epoch 9/100\n",
            "134/134 [==============================] - 27s 204ms/step - loss: 0.3739 - accuracy: 0.8406 - val_loss: 0.4847 - val_accuracy: 0.8150\n",
            "Epoch 10/100\n",
            "134/134 [==============================] - 28s 210ms/step - loss: 0.2404 - accuracy: 0.9150 - val_loss: 0.2360 - val_accuracy: 0.9275\n",
            "Epoch 11/100\n",
            "134/134 [==============================] - 27s 203ms/step - loss: 0.2902 - accuracy: 0.9006 - val_loss: 0.3991 - val_accuracy: 0.8725\n",
            "Epoch 12/100\n",
            "134/134 [==============================] - 28s 207ms/step - loss: 0.3119 - accuracy: 0.8950 - val_loss: 0.1856 - val_accuracy: 0.9400\n",
            "Epoch 13/100\n",
            "134/134 [==============================] - 28s 208ms/step - loss: 0.2188 - accuracy: 0.9275 - val_loss: 0.1426 - val_accuracy: 0.9550\n",
            "Epoch 14/100\n",
            "134/134 [==============================] - 28s 206ms/step - loss: 0.1367 - accuracy: 0.9575 - val_loss: 0.1663 - val_accuracy: 0.9450\n",
            "Epoch 15/100\n",
            "134/134 [==============================] - 27s 204ms/step - loss: 0.0936 - accuracy: 0.9706 - val_loss: 0.2153 - val_accuracy: 0.9425\n",
            "Epoch 16/100\n",
            "134/134 [==============================] - 27s 203ms/step - loss: 0.1231 - accuracy: 0.9556 - val_loss: 0.2299 - val_accuracy: 0.9425\n",
            "Epoch 17/100\n",
            "134/134 [==============================] - 28s 207ms/step - loss: 0.0973 - accuracy: 0.9688 - val_loss: 0.1225 - val_accuracy: 0.9625\n",
            "Epoch 18/100\n",
            "134/134 [==============================] - 27s 203ms/step - loss: 0.0660 - accuracy: 0.9756 - val_loss: 0.2033 - val_accuracy: 0.9525\n",
            "Epoch 19/100\n",
            "134/134 [==============================] - 27s 204ms/step - loss: 0.1073 - accuracy: 0.9613 - val_loss: 0.1456 - val_accuracy: 0.9350\n",
            "Epoch 20/100\n",
            "134/134 [==============================] - 28s 206ms/step - loss: 0.1142 - accuracy: 0.9650 - val_loss: 0.0857 - val_accuracy: 0.9725\n",
            "Epoch 21/100\n",
            "134/134 [==============================] - 28s 205ms/step - loss: 0.0378 - accuracy: 0.9887 - val_loss: 0.0790 - val_accuracy: 0.9725\n",
            "Epoch 22/100\n",
            "134/134 [==============================] - 28s 205ms/step - loss: 0.0535 - accuracy: 0.9831 - val_loss: 0.3442 - val_accuracy: 0.8750\n",
            "Epoch 23/100\n",
            "134/134 [==============================] - 28s 205ms/step - loss: 0.0556 - accuracy: 0.9819 - val_loss: 0.1004 - val_accuracy: 0.9700\n",
            "Epoch 24/100\n",
            "134/134 [==============================] - 27s 204ms/step - loss: 0.0582 - accuracy: 0.9812 - val_loss: 0.0844 - val_accuracy: 0.9725\n",
            "Epoch 25/100\n",
            "134/134 [==============================] - 27s 203ms/step - loss: 0.0787 - accuracy: 0.9775 - val_loss: 0.3679 - val_accuracy: 0.8975\n",
            "Epoch 26/100\n",
            "134/134 [==============================] - 27s 202ms/step - loss: 0.2701 - accuracy: 0.9194 - val_loss: 0.2298 - val_accuracy: 0.9575\n",
            "Epoch 27/100\n",
            "134/134 [==============================] - 27s 202ms/step - loss: 0.1133 - accuracy: 0.9631 - val_loss: 0.1086 - val_accuracy: 0.9625\n",
            "Epoch 28/100\n",
            "134/134 [==============================] - 27s 202ms/step - loss: 0.0493 - accuracy: 0.9806 - val_loss: 0.1917 - val_accuracy: 0.9625\n",
            "Epoch 29/100\n",
            "134/134 [==============================] - 27s 202ms/step - loss: 0.0042 - accuracy: 0.9994 - val_loss: 0.1608 - val_accuracy: 0.9725\n",
            "Epoch 30/100\n",
            "134/134 [==============================] - 27s 202ms/step - loss: 0.0506 - accuracy: 0.9837 - val_loss: 0.1123 - val_accuracy: 0.9650\n",
            "Epoch 31/100\n",
            "134/134 [==============================] - 28s 206ms/step - loss: 0.0277 - accuracy: 0.9912 - val_loss: 0.1395 - val_accuracy: 0.9750\n"
          ]
        }
      ]
    },
    {
      "cell_type": "code",
      "source": [
        "plt.plot(history.history['accuracy'])\n",
        "plt.plot(history.history['val_accuracy'])\n",
        "plt.title('Model accuracy')\n",
        "plt.ylabel('Accuracy')\n",
        "plt.xlabel('Epoch')\n",
        "plt.legend(['Train', 'Validation'], loc='lower right')\n",
        "plt.show()"
      ],
      "metadata": {
        "colab": {
          "base_uri": "https://localhost:8080/",
          "height": 299
        },
        "id": "tquGVunr1YnQ",
        "outputId": "b1dd86ef-e0f7-4fb5-8ba2-44cc064beea3"
      },
      "execution_count": null,
      "outputs": [
        {
          "output_type": "display_data",
          "data": {
            "text/plain": [
              "<Figure size 432x288 with 1 Axes>"
            ],
            "image/png": "[encoded data removed]"
          },
          "metadata": {}
        }
      ]
    },
    {
      "cell_type": "code",
      "source": [
        "# load the best model\n",
        "best_model_fn = keras.models.load_model('best_model_fn.h5')"
      ],
      "metadata": {
        "id": "J5l0YXmL1eRv"
      },
      "execution_count": null,
      "outputs": []
    },
    {
      "cell_type": "code",
      "source": [
        "# Get predictions\n",
        "y_pred = best_model_fn.predict(X_test)\n",
        "\n",
        "# Convert predictions to class labels\n",
        "y_pred_class = np.argmax(y_pred, axis=1)\n",
        "\n",
        "# Convert true labels to class labels\n",
        "y_true_class = np.argmax(ytest, axis=1)\n",
        "\n",
        "# Get confusion matrix\n",
        "confusion_mat = confusion_matrix(y_true_class, y_pred_class)\n",
        "print(\"\\n--- Confusion Matrix ---\\n\")\n",
        "print(confusion_mat)\n",
        "# Get classification report\n",
        "classification = classification_report(y_true_class, y_pred_class)\n",
        "print(\"\\n\\n\\t\\t--- Classification Report ---\\n\")\n",
        "print(classification)"
      ],
      "metadata": {
        "colab": {
          "base_uri": "https://localhost:8080/"
        },
        "id": "kQBRZIuE1g61",
        "outputId": "3f2d931c-9584-4038-8edc-fc79ed73832b"
      },
      "execution_count": null,
      "outputs": [
        {
          "output_type": "stream",
          "name": "stdout",
          "text": [
            "13/13 [==============================] - 2s 157ms/step\n",
            "\n",
            "--- Confusion Matrix ---\n",
            "\n",
            "[[ 94   0   0   1]\n",
            " [  0  95   3   2]\n",
            " [  1   0 101   0]\n",
            " [  1   1   1 100]]\n",
            "\n",
            "\n",
            "\t\t--- Classification Report ---\n",
            "\n",
            "              precision    recall  f1-score   support\n",
            "\n",
            "           0       0.98      0.99      0.98        95\n",
            "           1       0.99      0.95      0.97       100\n",
            "           2       0.96      0.99      0.98       102\n",
            "           3       0.97      0.97      0.97       103\n",
            "\n",
            "    accuracy                           0.97       400\n",
            "   macro avg       0.98      0.98      0.98       400\n",
            "weighted avg       0.98      0.97      0.97       400\n",
            "\n"
          ]
        }
      ]
    }
  ]
}