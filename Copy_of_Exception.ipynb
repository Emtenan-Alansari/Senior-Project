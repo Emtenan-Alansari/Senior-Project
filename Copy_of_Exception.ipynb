{
  "cells": [
    {
      "cell_type": "code",
      "execution_count": null,
      "metadata": {
        "id": "j1MRnD3WlSJu"
      },
      "outputs": [],
      "source": [
        "import requests, zipfile, io\n",
        "import cv2\n",
        "import glob\n",
        "from tensorflow.keras.utils import array_to_img, img_to_array, load_img\n",
        "import matplotlib.pyplot as plt\n",
        "import numpy as np \n",
        "from PIL import Image\n",
        "import os \n",
        "from dask import bag, diagnostics\n",
        "import pandas as pd\n",
        "from keras.preprocessing.image import ImageDataGenerator \n",
        "from sklearn.model_selection import train_test_split\n",
        "import tensorflow_hub as hub\n",
        "from keras.callbacks import EarlyStopping\n",
        "import keras\n",
        "import tensorflow as tf\n",
        "from keras.utils import to_categorical\n",
        "import albumentations as A\n",
        "from google.colab import drive,files\n",
        "from tensorflow.keras.applications.xception import Xception\n",
        "from sklearn.metrics import confusion_matrix\n",
        "from sklearn.metrics import classification_report"
      ]
    },
    {
      "cell_type": "markdown",
      "metadata": {
        "id": "lDCKD5AAOWga"
      },
      "source": [
        "**Importing Data files**"
      ]
    },
    {
      "cell_type": "code",
      "execution_count": null,
      "metadata": {
        "colab": {
          "base_uri": "https://localhost:8080/"
        },
        "id": "Iee30jzBFoMw",
        "outputId": "eb8bd8d5-02f8-40e4-fa7d-d37d551dd7c5"
      },
      "outputs": [
        {
          "output_type": "stream",
          "name": "stdout",
          "text": [
            "Mounted at /content/gdrive\n"
          ]
        }
      ],
      "source": [
        "drive.mount('/content/gdrive')"
      ]
    },
    {
      "cell_type": "code",
      "execution_count": null,
      "metadata": {
        "colab": {
          "base_uri": "https://localhost:8080/"
        },
        "id": "CLPVIJPnH5Kz",
        "outputId": "b54a41fb-2240-4859-9e6b-5cf8cf163078"
      },
      "outputs": [
        {
          "name": "stdout",
          "output_type": "stream",
          "text": [
            "--2023-01-28 11:24:56--  https://zenodo.org/record/4628934/files/ncd.zip?download=1\n",
            "Resolving zenodo.org (zenodo.org)... 188.185.124.72\n",
            "Connecting to zenodo.org (zenodo.org)|188.185.124.72|:443... connected.\n",
            "HTTP request sent, awaiting response... 200 OK\n",
            "Length: 353537126 (337M) [application/octet-stream]\n",
            "Saving to: ‘ncd.zip?download=1’\n",
            "\n",
            "ncd.zip?download=1  100%[===================>] 337.16M  12.5MB/s    in 30s     \n",
            "\n",
            "2023-01-28 11:25:28 (11.4 MB/s) - ‘ncd.zip?download=1’ saved [353537126/353537126]\n",
            "\n"
          ]
        }
      ],
      "source": [
        "!wget https://zenodo.org/record/4628934/files/ncd.zip?download=1"
      ]
    },
    {
      "cell_type": "code",
      "execution_count": null,
      "metadata": {
        "colab": {
          "base_uri": "https://localhost:8080/"
        },
        "id": "byXOGY8WIPIF",
        "outputId": "3f35fc0c-0574-420d-f180-9b17ab77fc6c"
      },
      "outputs": [
        {
          "name": "stdout",
          "output_type": "stream",
          "text": [
            "Archive:  /content/ncd.zip?download=1\n",
            "   creating: ncd/\n",
            "  inflating: ncd/ncd.234.jpg         \n",
            "  inflating: ncd/ncd.346.jpg         \n",
            "  inflating: ncd/ncd.33.jpg          \n",
            "  inflating: ncd/ncd.371.jpg         \n",
            "  inflating: ncd/ncd.45.jpg          \n",
            "  inflating: ncd/ncd.48.jpg          \n",
            "  inflating: ncd/ncd.369.jpg         \n",
            "  inflating: ncd/ncd.297.jpg         \n",
            "  inflating: ncd/ncd.135.jpg         \n",
            "  inflating: ncd/ncd.292.jpg         \n",
            "  inflating: ncd/ncd.173.jpg         \n",
            "  inflating: ncd/ncd.14.jpg          \n",
            "  inflating: ncd/ncd.246.jpg         \n",
            "  inflating: ncd/ncd.209.jpg         \n",
            "  inflating: ncd/ncd.368.jpg         \n",
            "  inflating: ncd/ncd.176.jpg         \n",
            "  inflating: ncd/ncd.204.jpg         \n",
            "  inflating: ncd/ncd.156.jpg         \n",
            "  inflating: ncd/ncd.73.jpg          \n",
            "  inflating: ncd/ncd.23.jpg          \n",
            "  inflating: ncd/ncd.119.jpg         \n",
            "  inflating: ncd/ncd.165.jpg         \n",
            "  inflating: ncd/ncd.28.jpg          \n",
            "  inflating: ncd/ncd.22.jpg          \n",
            "  inflating: ncd/ncd.244.jpg         \n",
            "  inflating: ncd/ncd.274.jpg         \n",
            "  inflating: ncd/ncd.208.jpg         \n",
            "  inflating: ncd/ncd.223.jpg         \n",
            "  inflating: ncd/ncd.194.jpg         \n",
            "  inflating: ncd/ncd.72.jpg          \n",
            "  inflating: ncd/ncd.26.jpg          \n",
            "  inflating: ncd/ncd.132.jpg         \n",
            "  inflating: ncd/ncd.189.jpg         \n",
            "  inflating: ncd/ncd.374.jpg         \n",
            "  inflating: ncd/ncd.159.jpg         \n",
            "  inflating: ncd/ncd.106.jpg         \n",
            "  inflating: ncd/ncd.175.jpg         \n",
            "  inflating: ncd/ncd.170.jpg         \n",
            "  inflating: ncd/ncd.118.jpg         \n",
            "  inflating: ncd/ncd.201.jpg         \n",
            "  inflating: ncd/ncd.316.jpg         \n",
            "  inflating: ncd/ncd.128.jpg         \n",
            "  inflating: ncd/ncd.168.jpg         \n",
            "  inflating: ncd/ncd.188.jpg         \n",
            "  inflating: ncd/ncd.302.jpg         \n",
            "  inflating: ncd/ncd.199.jpg         \n",
            "  inflating: ncd/ncd.9.jpg           \n",
            "  inflating: ncd/ncd.232.jpg         \n",
            "  inflating: ncd/ncd.94.jpg          \n",
            "  inflating: ncd/ncd.63.jpg          \n",
            "  inflating: ncd/ncd.348.jpg         \n",
            "  inflating: ncd/ncd.43.jpg          \n",
            "  inflating: ncd/ncd.88.jpg          \n",
            "  inflating: ncd/ncd.171.jpg         \n",
            "  inflating: ncd/ncd.25.jpg          \n",
            "  inflating: ncd/ncd.62.jpg          \n",
            "  inflating: ncd/ncd.343.jpg         \n",
            "  inflating: ncd/ncd.36.jpg          \n",
            "  inflating: ncd/ncd.313.jpg         \n",
            "  inflating: ncd/ncd.233.jpg         \n",
            "  inflating: ncd/ncd.253.jpg         \n",
            "  inflating: ncd/ncd.69.jpg          \n",
            "  inflating: ncd/ncd.212.jpg         \n",
            "  inflating: ncd/ncd.114.jpg         \n",
            "  inflating: ncd/ncd.155.jpg         \n",
            "  inflating: ncd/ncd.326.jpg         \n",
            "  inflating: ncd/ncd.68.jpg          \n",
            "  inflating: ncd/ncd.207.jpg         \n",
            "  inflating: ncd/ncd.255.jpg         \n",
            "  inflating: ncd/ncd.227.jpg         \n",
            "  inflating: ncd/ncd.308.jpg         \n",
            "  inflating: ncd/ncd.129.jpg         \n",
            "  inflating: ncd/ncd.64.jpg          \n",
            "  inflating: ncd/ncd.269.jpg         \n",
            "  inflating: ncd/ncd.40.jpg          \n",
            "  inflating: ncd/ncd.126.jpg         \n",
            "  inflating: ncd/ncd.196.jpg         \n",
            "  inflating: ncd/ncd.330.jpg         \n",
            "  inflating: ncd/ncd.218.jpg         \n",
            "  inflating: ncd/ncd.184.jpg         \n",
            "  inflating: ncd/ncd.338.jpg         \n",
            "  inflating: ncd/ncd.356.jpg         \n",
            "  inflating: ncd/ncd.187.jpg         \n",
            "  inflating: ncd/ncd.240.jpg         \n",
            "  inflating: ncd/ncd.130.jpg         \n",
            "  inflating: ncd/ncd.92.jpg          \n",
            "  inflating: ncd/ncd.325.jpg         \n",
            "  inflating: ncd/ncd.267.jpg         \n",
            "  inflating: ncd/ncd.289.jpg         \n",
            "  inflating: ncd/ncd.67.jpg          \n",
            "  inflating: ncd/ncd.229.jpg         \n",
            "  inflating: ncd/ncd.158.jpg         \n",
            "  inflating: ncd/ncd.259.jpg         \n",
            "  inflating: ncd/ncd.320.jpg         \n",
            "  inflating: ncd/ncd.291.jpg         \n",
            "  inflating: ncd/ncd.351.jpg         \n",
            "  inflating: ncd/ncd.142.jpg         \n",
            "  inflating: ncd/ncd.264.jpg         \n",
            "  inflating: ncd/ncd.180.jpg         \n",
            "  inflating: ncd/ncd.272.jpg         \n",
            "  inflating: ncd/ncd.86.jpg          \n",
            "  inflating: ncd/ncd.18.jpg          \n",
            "  inflating: ncd/ncd.150.jpg         \n",
            "  inflating: ncd/ncd.66.jpg          \n",
            "  inflating: ncd/ncd.220.jpg         \n",
            "  inflating: ncd/ncd.365.jpg         \n",
            "  inflating: ncd/ncd.303.jpg         \n",
            "  inflating: ncd/ncd.286.jpg         \n",
            "  inflating: ncd/ncd.331.jpg         \n",
            "  inflating: ncd/ncd.117.jpg         \n",
            "  inflating: ncd/ncd.11.jpg          \n",
            "  inflating: ncd/ncd.319.jpg         \n",
            "  inflating: ncd/ncd.140.jpg         \n",
            "  inflating: ncd/ncd.202.jpg         \n",
            "  inflating: ncd/ncd.154.jpg         \n",
            "  inflating: ncd/ncd.13.jpg          \n",
            "  inflating: ncd/ncd.254.jpg         \n",
            "  inflating: ncd/ncd.239.jpg         \n",
            "  inflating: ncd/ncd.139.jpg         \n",
            "  inflating: ncd/ncd.198.jpg         \n",
            "  inflating: ncd/ncd.79.jpg          \n",
            "  inflating: ncd/ncd.215.jpg         \n",
            "  inflating: ncd/ncd.217.jpg         \n",
            "  inflating: ncd/ncd.278.jpg         \n",
            "  inflating: ncd/ncd.329.jpg         \n",
            "  inflating: ncd/ncd.224.jpg         \n",
            "  inflating: ncd/ncd.336.jpg         \n",
            "  inflating: ncd/ncd.145.jpg         \n",
            "  inflating: ncd/ncd.137.jpg         \n",
            "  inflating: ncd/ncd.12.jpg          \n",
            "  inflating: ncd/ncd.161.jpg         \n",
            "  inflating: ncd/ncd.138.jpg         \n",
            "  inflating: ncd/ncd.30.jpg          \n",
            "  inflating: ncd/ncd.304.jpg         \n",
            "  inflating: ncd/ncd.353.jpg         \n",
            "  inflating: ncd/ncd.333.jpg         \n",
            "  inflating: ncd/ncd.87.jpg          \n",
            "  inflating: ncd/ncd.373.jpg         \n",
            "  inflating: ncd/ncd.98.jpg          \n",
            "  inflating: ncd/ncd.146.jpg         \n",
            "  inflating: ncd/ncd.271.jpg         \n",
            "  inflating: ncd/ncd.193.jpg         \n",
            "  inflating: ncd/ncd.147.jpg         \n",
            "  inflating: ncd/ncd.300.jpg         \n",
            "  inflating: ncd/ncd.16.jpg          \n",
            "  inflating: ncd/ncd.280.jpg         \n",
            "  inflating: ncd/ncd.95.jpg          \n",
            "  inflating: ncd/ncd.301.jpg         \n",
            "  inflating: ncd/ncd.318.jpg         \n",
            "  inflating: ncd/ncd.123.jpg         \n",
            "  inflating: ncd/ncd.324.jpg         \n",
            "  inflating: ncd/ncd.93.jpg          \n",
            "  inflating: ncd/ncd.342.jpg         \n",
            "  inflating: ncd/ncd.337.jpg         \n",
            "  inflating: ncd/ncd.31.jpg          \n",
            "  inflating: ncd/ncd.339.jpg         \n",
            "  inflating: ncd/ncd.191.jpg         \n",
            "  inflating: ncd/ncd.177.jpg         \n",
            "  inflating: ncd/ncd.144.jpg         \n",
            "  inflating: ncd/ncd.21.jpg          \n",
            "  inflating: ncd/ncd.375.jpg         \n",
            "  inflating: ncd/ncd.121.jpg         \n",
            "  inflating: ncd/ncd.295.jpg         \n",
            "  inflating: ncd/ncd.39.jpg          \n",
            "  inflating: ncd/ncd.105.jpg         \n",
            "  inflating: ncd/ncd.53.jpg          \n",
            "  inflating: ncd/ncd.55.jpg          \n",
            "  inflating: ncd/ncd.100.jpg         \n",
            "  inflating: ncd/ncd.0.jpg           \n",
            "  inflating: ncd/ncd.149.jpg         \n",
            "  inflating: ncd/ncd.51.jpg          \n",
            "  inflating: ncd/ncd.335.jpg         \n",
            "  inflating: ncd/ncd.245.jpg         \n",
            "  inflating: ncd/ncd.243.jpg         \n",
            "  inflating: ncd/ncd.172.jpg         \n",
            "  inflating: ncd/ncd.113.jpg         \n",
            "  inflating: ncd/ncd.78.jpg          \n",
            "  inflating: ncd/ncd.116.jpg         \n",
            "  inflating: ncd/ncd.164.jpg         \n",
            "  inflating: ncd/ncd.284.jpg         \n",
            "  inflating: ncd/ncd.347.jpg         \n",
            "  inflating: ncd/ncd.231.jpg         \n",
            "  inflating: ncd/ncd.211.jpg         \n",
            "  inflating: ncd/ncd.47.jpg          \n",
            "  inflating: ncd/ncd.49.jpg          \n",
            "  inflating: ncd/ncd.265.jpg         \n",
            "  inflating: ncd/ncd.185.jpg         \n",
            "  inflating: ncd/ncd.108.jpg         \n",
            "  inflating: ncd/ncd.309.jpg         \n",
            "  inflating: ncd/ncd.247.jpg         \n",
            "  inflating: ncd/ncd.290.jpg         \n",
            "  inflating: ncd/ncd.32.jpg          \n",
            "  inflating: ncd/ncd.349.jpg         \n",
            "  inflating: ncd/ncd.109.jpg         \n",
            "  inflating: ncd/ncd.19.jpg          \n",
            "  inflating: ncd/ncd.216.jpg         \n",
            "  inflating: ncd/ncd.70.jpg          \n",
            "  inflating: ncd/ncd.282.jpg         \n",
            "  inflating: ncd/ncd.241.jpg         \n",
            "  inflating: ncd/ncd.260.jpg         \n",
            "  inflating: ncd/ncd.203.jpg         \n",
            "  inflating: ncd/ncd.167.jpg         \n",
            "  inflating: ncd/ncd.252.jpg         \n",
            "  inflating: ncd/ncd.35.jpg          \n",
            "  inflating: ncd/ncd.61.jpg          \n",
            "  inflating: ncd/ncd.17.jpg          \n",
            "  inflating: ncd/ncd.372.jpg         \n",
            "  inflating: ncd/ncd.222.jpg         \n",
            "  inflating: ncd/ncd.99.jpg          \n",
            "  inflating: ncd/ncd.20.jpg          \n",
            "  inflating: ncd/ncd.305.jpg         \n",
            "  inflating: ncd/ncd.85.jpg          \n",
            "  inflating: ncd/ncd.362.jpg         \n",
            "  inflating: ncd/ncd.2.jpg           \n",
            "  inflating: ncd/ncd.57.jpg          \n",
            "  inflating: ncd/ncd.81.jpg          \n",
            "  inflating: ncd/ncd.364.jpg         \n",
            "  inflating: ncd/ncd.321.jpg         \n",
            "  inflating: ncd/ncd.110.jpg         \n",
            "  inflating: ncd/ncd.317.jpg         \n",
            "  inflating: ncd/ncd.315.jpg         \n",
            "  inflating: ncd/ncd.183.jpg         \n",
            "  inflating: ncd/ncd.29.jpg          \n",
            "  inflating: ncd/ncd.238.jpg         \n",
            "  inflating: ncd/ncd.307.jpg         \n",
            "  inflating: ncd/ncd.276.jpg         \n",
            "  inflating: ncd/ncd.169.jpg         \n",
            "  inflating: ncd/ncd.352.jpg         \n",
            "  inflating: ncd/ncd.350.jpg         \n",
            "  inflating: ncd/ncd.152.jpg         \n",
            "  inflating: ncd/ncd.91.jpg          \n",
            "  inflating: ncd/ncd.219.jpg         \n",
            "  inflating: ncd/ncd.205.jpg         \n",
            "  inflating: ncd/ncd.15.jpg          \n",
            "  inflating: ncd/ncd.270.jpg         \n",
            "  inflating: ncd/ncd.174.jpg         \n",
            "  inflating: ncd/ncd.163.jpg         \n",
            "  inflating: ncd/ncd.112.jpg         \n",
            "  inflating: ncd/ncd.266.jpg         \n",
            "  inflating: ncd/ncd.277.jpg         \n",
            "  inflating: ncd/ncd.268.jpg         \n",
            "  inflating: ncd/ncd.27.jpg          \n",
            "  inflating: ncd/ncd.226.jpg         \n",
            "  inflating: ncd/ncd.279.jpg         \n",
            "  inflating: ncd/ncd.341.jpg         \n",
            "  inflating: ncd/ncd.104.jpg         \n",
            "  inflating: ncd/ncd.230.jpg         \n",
            "  inflating: ncd/ncd.54.jpg          \n",
            "  inflating: ncd/ncd.287.jpg         \n",
            "  inflating: ncd/ncd.358.jpg         \n",
            "  inflating: ncd/ncd.293.jpg         \n",
            "  inflating: ncd/ncd.127.jpg         \n",
            "  inflating: ncd/ncd.354.jpg         \n",
            "  inflating: ncd/ncd.24.jpg          \n",
            "  inflating: ncd/ncd.102.jpg         \n",
            "  inflating: ncd/ncd.60.jpg          \n",
            "  inflating: ncd/ncd.235.jpg         \n",
            "  inflating: ncd/ncd.89.jpg          \n",
            "  inflating: ncd/ncd.283.jpg         \n",
            "  inflating: ncd/ncd.71.jpg          \n",
            "  inflating: ncd/ncd.74.jpg          \n",
            "  inflating: ncd/ncd.262.jpg         \n",
            "  inflating: ncd/ncd.37.jpg          \n",
            "  inflating: ncd/ncd.96.jpg          \n",
            "  inflating: ncd/ncd.332.jpg         \n",
            "  inflating: ncd/ncd.115.jpg         \n",
            "  inflating: ncd/ncd.306.jpg         \n",
            "  inflating: ncd/ncd.97.jpg          \n",
            "  inflating: ncd/ncd.1.jpg           \n",
            "  inflating: ncd/ncd.322.jpg         \n",
            "  inflating: ncd/ncd.148.jpg         \n",
            "  inflating: ncd/ncd.38.jpg          \n",
            "  inflating: ncd/ncd.248.jpg         \n",
            "  inflating: ncd/ncd.285.jpg         \n",
            "  inflating: ncd/ncd.77.jpg          \n",
            "  inflating: ncd/ncd.206.jpg         \n",
            "  inflating: ncd/ncd.221.jpg         \n",
            "  inflating: ncd/ncd.370.jpg         \n",
            "  inflating: ncd/ncd.50.jpg          \n",
            "  inflating: ncd/ncd.359.jpg         \n",
            "  inflating: ncd/ncd.7.jpg           \n",
            "  inflating: ncd/ncd.153.jpg         \n",
            "  inflating: ncd/ncd.225.jpg         \n",
            "  inflating: ncd/ncd.334.jpg         \n",
            "  inflating: ncd/ncd.162.jpg         \n",
            "  inflating: ncd/ncd.357.jpg         \n",
            "  inflating: ncd/ncd.299.jpg         \n",
            "  inflating: ncd/ncd.124.jpg         \n",
            "  inflating: ncd/ncd.310.jpg         \n",
            "  inflating: ncd/ncd.120.jpg         \n",
            "  inflating: ncd/ncd.236.jpg         \n",
            "  inflating: ncd/ncd.3.jpg           \n",
            "  inflating: ncd/ncd.327.jpg         \n",
            "  inflating: ncd/ncd.186.jpg         \n",
            "  inflating: ncd/ncd.6.jpg           \n",
            "  inflating: ncd/ncd.157.jpg         \n",
            "  inflating: ncd/ncd.103.jpg         \n",
            "  inflating: ncd/ncd.10.jpg          \n",
            "  inflating: ncd/ncd.75.jpg          \n",
            "  inflating: ncd/ncd.178.jpg         \n",
            "  inflating: ncd/ncd.160.jpg         \n",
            "  inflating: ncd/ncd.366.jpg         \n",
            "  inflating: ncd/ncd.52.jpg          \n",
            "  inflating: ncd/ncd.214.jpg         \n",
            "  inflating: ncd/ncd.294.jpg         \n",
            "  inflating: ncd/ncd.200.jpg         \n",
            "  inflating: ncd/ncd.250.jpg         \n",
            "  inflating: ncd/ncd.59.jpg          \n",
            "  inflating: ncd/ncd.179.jpg         \n",
            "  inflating: ncd/ncd.197.jpg         \n",
            "  inflating: ncd/ncd.111.jpg         \n",
            "  inflating: ncd/ncd.257.jpg         \n",
            "  inflating: ncd/ncd.367.jpg         \n",
            "  inflating: ncd/ncd.192.jpg         \n",
            "  inflating: ncd/ncd.288.jpg         \n",
            "  inflating: ncd/ncd.296.jpg         \n",
            "  inflating: ncd/ncd.328.jpg         \n",
            "  inflating: ncd/ncd.122.jpg         \n",
            "  inflating: ncd/ncd.42.jpg          \n",
            "  inflating: ncd/ncd.275.jpg         \n",
            "  inflating: ncd/ncd.256.jpg         \n",
            "  inflating: ncd/ncd.4.jpg           \n",
            "  inflating: ncd/ncd.228.jpg         \n",
            "  inflating: ncd/ncd.355.jpg         \n",
            "  inflating: ncd/ncd.136.jpg         \n",
            "  inflating: ncd/ncd.34.jpg          \n",
            "  inflating: ncd/ncd.258.jpg         \n",
            "  inflating: ncd/ncd.314.jpg         \n",
            "  inflating: ncd/ncd.143.jpg         \n",
            "  inflating: ncd/ncd.249.jpg         \n",
            "  inflating: ncd/ncd.80.jpg          \n",
            "  inflating: ncd/ncd.84.jpg          \n",
            "  inflating: ncd/ncd.273.jpg         \n",
            "  inflating: ncd/ncd.182.jpg         \n",
            "  inflating: ncd/ncd.298.jpg         \n",
            "  inflating: ncd/ncd.263.jpg         \n",
            "  inflating: ncd/ncd.281.jpg         \n",
            "  inflating: ncd/ncd.251.jpg         \n",
            "  inflating: ncd/ncd.323.jpg         \n",
            "  inflating: ncd/ncd.312.jpg         \n",
            "  inflating: ncd/ncd.133.jpg         \n",
            "  inflating: ncd/ncd.340.jpg         \n",
            "  inflating: ncd/ncd.363.jpg         \n",
            "  inflating: ncd/ncd.345.jpg         \n",
            "  inflating: ncd/ncd.65.jpg          \n",
            "  inflating: ncd/ncd.8.jpg           \n",
            "  inflating: ncd/ncd.344.jpg         \n",
            "  inflating: ncd/ncd.44.jpg          \n",
            "  inflating: ncd/ncd.90.jpg          \n",
            "  inflating: ncd/ncd.261.jpg         \n",
            "  inflating: ncd/ncd.151.jpg         \n",
            "  inflating: ncd/ncd.101.jpg         \n",
            "  inflating: ncd/ncd.166.jpg         \n",
            "  inflating: ncd/ncd.360.jpg         \n",
            "  inflating: ncd/ncd.311.jpg         \n",
            "  inflating: ncd/ncd.76.jpg          \n",
            "  inflating: ncd/ncd.195.jpg         \n",
            "  inflating: ncd/ncd.141.jpg         \n",
            "  inflating: ncd/ncd.237.jpg         \n",
            "  inflating: ncd/ncd.361.jpg         \n",
            "  inflating: ncd/ncd.107.jpg         \n",
            "  inflating: ncd/ncd.213.jpg         \n",
            "  inflating: ncd/ncd.5.jpg           \n",
            "  inflating: ncd/ncd.190.jpg         \n",
            "  inflating: ncd/ncd.46.jpg          \n",
            "  inflating: ncd/ncd.83.jpg          \n",
            "  inflating: ncd/ncd.134.jpg         \n",
            "  inflating: ncd/ncd.56.jpg          \n",
            "  inflating: ncd/ncd.41.jpg          \n",
            "  inflating: ncd/ncd.58.jpg          \n",
            "  inflating: ncd/ncd.242.jpg         \n",
            "  inflating: ncd/ncd.125.jpg         \n",
            "  inflating: ncd/ncd.181.jpg         \n",
            "  inflating: ncd/ncd.210.jpg         \n",
            "  inflating: ncd/ncd.131.jpg         \n",
            "  inflating: ncd/ncd.82.jpg          \n"
          ]
        }
      ],
      "source": [
        "!unzip /content/ncd.zip?download=1"
      ]
    },
    {
      "cell_type": "code",
      "execution_count": null,
      "metadata": {
        "id": "kgoRjvq7IkUn"
      },
      "outputs": [],
      "source": [
        "os.mkdir('gdrive/MyDrive/data/Resized-ncd')"
      ]
    },
    {
      "cell_type": "code",
      "execution_count": null,
      "metadata": {
        "id": "bXoqf0FmInZu"
      },
      "outputs": [],
      "source": [
        "def resize(folder,save_to):\n",
        "  i= 0\n",
        "  images = glob.glob(folder + \"/*.jpg\")\n",
        "  for img in  images:\n",
        "    image= Image.open(img)\n",
        "    image= image.resize((299,299))\n",
        "    image.save(f\"{save_to}/resized{i}.jpg\")\n",
        "    i+=1\n",
        "  print(f'successfully saved to {save_to}')"
      ]
    },
    {
      "cell_type": "code",
      "execution_count": null,
      "metadata": {
        "colab": {
          "base_uri": "https://localhost:8080/"
        },
        "id": "OLsETpHzIsyS",
        "outputId": "fa2b716a-25d1-4977-d6cf-9b79c68aa8c0"
      },
      "outputs": [
        {
          "name": "stdout",
          "output_type": "stream",
          "text": [
            "successfully saved to gdrive/MyDrive/data/Resized-ncd\n"
          ]
        }
      ],
      "source": [
        "resize('/content/ncd','gdrive/MyDrive/data/Resized-ncd')"
      ]
    },
    {
      "cell_type": "markdown",
      "metadata": {
        "id": "YzeJQ2v9edbO"
      },
      "source": [
        "Augmentaion of images"
      ]
    },
    {
      "cell_type": "code",
      "execution_count": null,
      "metadata": {
        "id": "xCLIsTwtX8cx"
      },
      "outputs": [],
      "source": [
        "# we need to fix data imbalance (class NCD )\n",
        "#Using Data Augmentation we can quickly increase the amount of data for our imbalanced classes,\n",
        "#this will ensure that our model does not see the same image twice and helps avoid overfitting and aids the model to generalise better.\n",
        "datagen = ImageDataGenerator(\n",
        "        rotation_range=40,\n",
        "        width_shift_range=0.2,\n",
        "        height_shift_range=0.2,\n",
        "        rescale=1./255,\n",
        "        shear_range=0.2,\n",
        "        zoom_range=0.2,\n",
        "        horizontal_flip=True,\n",
        "        fill_mode='nearest')"
      ]
    },
    {
      "cell_type": "code",
      "execution_count": null,
      "metadata": {
        "id": "gGOWXlusMXcJ"
      },
      "outputs": [],
      "source": [
        "cocci = glob.glob('/content/gdrive/MyDrive/data/Resized-cocci/*')[:500]\n",
        "healthy = glob.glob('/content/gdrive/MyDrive/data/Resized-healthy/*')[:500]\n",
        "salmo = glob.glob('/content/gdrive/MyDrive/data/Resized-salmo/*')[:500]\n",
        "ncd = glob.glob('/content/gdrive/MyDrive/data/Resized-ncd/*')[:500]"
      ]
    },
    {
      "cell_type": "code",
      "execution_count": null,
      "metadata": {
        "colab": {
          "base_uri": "https://localhost:8080/",
          "height": 295
        },
        "id": "s0akJcydOtrS",
        "outputId": "e0565090-2b62-489f-d64e-5111ddcc0437"
      },
      "outputs": [
        {
          "output_type": "display_data",
          "data": {
            "text/plain": [
              "<Figure size 432x288 with 1 Axes>"
            ],
            "image/png": "[encoded data removed]"
          },
          "metadata": {
            "needs_background": "light"
          }
        }
      ],
      "source": [
        "dict_ = {\"Cocci\":len(cocci) ,\"Healthy\":len(healthy),\"Salmo\":len(salmo),\"NCD\":len(ncd)}\n",
        "plt.bar(dict_.keys(), dict_.values(), width = .5)\n",
        "plt.title(\"Number of Images by Class\")\n",
        "plt.xlabel('Class Name');\n",
        "plt.ylabel('# Images');\n",
        "plt.show()"
      ]
    },
    {
      "cell_type": "code",
      "execution_count": null,
      "metadata": {
        "colab": {
          "base_uri": "https://localhost:8080/",
          "height": 537
        },
        "id": "z6dpX6cnPDaJ",
        "outputId": "e67d0e05-514c-47fe-ac45-15af4ab44dc1"
      },
      "outputs": [
        {
          "output_type": "display_data",
          "data": {
            "text/plain": [
              "<Figure size 1152x648 with 1 Axes>"
            ],
            "image/png": "[encoded data removed]"
          },
          "metadata": {}
        }
      ],
      "source": [
        "labels = dict_.keys()\n",
        "targets = dict_.values()\n",
        "plt.style.use(\"ggplot\")\n",
        "plt.figure(figsize=(16, 9))\n",
        "plt.pie(x=targets, labels=labels, autopct=\"%1.1f%%\")\n",
        "plt.title(\"Image Category Distribution\")\n",
        "plt.show()"
      ]
    },
    {
      "cell_type": "code",
      "execution_count": null,
      "metadata": {
        "id": "I4kf7BoRPFHl"
      },
      "outputs": [],
      "source": [
        "labels = []\n",
        "data =[] "
      ]
    },
    {
      "cell_type": "code",
      "execution_count": null,
      "metadata": {
        "id": "V3eV8Zs-PFEW"
      },
      "outputs": [],
      "source": [
        "def prepare_images(array,class_no):\n",
        "  for img in array:\n",
        "    x = load_img(img)\n",
        "    x = img_to_array(x)\n",
        "    data.append(x)\n",
        "    labels.append(class_no)"
      ]
    },
    {
      "cell_type": "code",
      "execution_count": null,
      "metadata": {
        "id": "mdyW-7mtPVOi"
      },
      "outputs": [],
      "source": [
        "prepare_images(cocci,0)\n",
        "prepare_images(healthy,1)\n",
        "prepare_images(salmo,2)\n",
        "prepare_images(ncd,3)"
      ]
    },
    {
      "cell_type": "code",
      "execution_count": null,
      "metadata": {
        "id": "n7EvL9WIQRKu"
      },
      "outputs": [],
      "source": [
        "data = np.array(data)\n",
        "labels = to_categorical(labels)"
      ]
    },
    {
      "cell_type": "code",
      "execution_count": null,
      "metadata": {
        "id": "pTS5X0HUQV4h"
      },
      "outputs": [],
      "source": [
        "X_train, X_test, ytrain, ytest = train_test_split(data, labels, test_size=0.20, random_state=42,shuffle=True)"
      ]
    },
    {
      "cell_type": "code",
      "execution_count": null,
      "metadata": {
        "id": "iCIdd5YSUNZp"
      },
      "outputs": [],
      "source": [
        "base_model = Xception(weights='imagenet', include_top =False, input_shape=(299, 299, 3), classes=4)"
      ]
    },
    {
      "cell_type": "code",
      "execution_count": null,
      "metadata": {
        "id": "N3CHqpIvUU3C"
      },
      "outputs": [],
      "source": [
        "# freeze the base model \n",
        "base_model.trainable = False"
      ]
    },
    {
      "cell_type": "code",
      "execution_count": null,
      "metadata": {
        "id": "l0yvs8h8UZAy"
      },
      "outputs": [],
      "source": [
        "# Add a classification head\n",
        "model = tf.keras.Sequential([\n",
        "  base_model,\n",
        "  tf.keras.layers.GlobalAveragePooling2D(),\n",
        "  tf.keras.layers.Dense(128, activation='relu'),\n",
        "  tf.keras.layers.Dense(4, activation='softmax')\n",
        "])"
      ]
    },
    {
      "cell_type": "code",
      "execution_count": null,
      "metadata": {
        "colab": {
          "base_uri": "https://localhost:8080/"
        },
        "id": "mDgzy34MUctL",
        "outputId": "17e8341f-ed0e-45ad-ba00-26c00320d384"
      },
      "outputs": [
        {
          "output_type": "stream",
          "name": "stdout",
          "text": [
            "Model: \"sequential\"\n",
            "_________________________________________________________________\n",
            " Layer (type)                Output Shape              Param #   \n",
            "=================================================================\n",
            " xception (Functional)       (None, 10, 10, 2048)      20861480  \n",
            "                                                                 \n",
            " global_average_pooling2d (G  (None, 2048)             0         \n",
            " lobalAveragePooling2D)                                          \n",
            "                                                                 \n",
            " dense (Dense)               (None, 128)               262272    \n",
            "                                                                 \n",
            " dense_1 (Dense)             (None, 4)                 516       \n",
            "                                                                 \n",
            "=================================================================\n",
            "Total params: 21,124,268\n",
            "Trainable params: 262,788\n",
            "Non-trainable params: 20,861,480\n",
            "_________________________________________________________________\n"
          ]
        }
      ],
      "source": [
        "model.summary()"
      ]
    },
    {
      "cell_type": "code",
      "execution_count": null,
      "metadata": {
        "id": "pTmXY-GXUhyB"
      },
      "outputs": [],
      "source": [
        "early_stopping = EarlyStopping(monitor='val_loss', patience=10, mode='min')\n",
        "model_checkpoint = keras.callbacks.ModelCheckpoint(filepath='best_model_tl.h5', monitor='val_accuracy', save_best_only=True, mode='max')"
      ]
    },
    {
      "cell_type": "code",
      "execution_count": null,
      "metadata": {
        "id": "qqNo0m2ZUmC6"
      },
      "outputs": [],
      "source": [
        "model.compile(loss='categorical_crossentropy', optimizer=keras.optimizers.Adam(learning_rate=1e-3),  metrics=['accuracy'])"
      ]
    },
    {
      "cell_type": "code",
      "execution_count": null,
      "metadata": {
        "colab": {
          "base_uri": "https://localhost:8080/"
        },
        "id": "XgMEDMvAUqP9",
        "outputId": "72d73f39-4ced-4720-d024-1cf7e433b5c6"
      },
      "outputs": [
        {
          "output_type": "stream",
          "name": "stdout",
          "text": [
            "Epoch 1/100\n",
            "134/134 [==============================] - 26s 138ms/step - loss: 5.1318 - accuracy: 0.5238 - val_loss: 1.5329 - val_accuracy: 0.6075\n",
            "Epoch 2/100\n",
            "134/134 [==============================] - 15s 111ms/step - loss: 1.8862 - accuracy: 0.6025 - val_loss: 1.4296 - val_accuracy: 0.6325\n",
            "Epoch 3/100\n",
            "134/134 [==============================] - 15s 109ms/step - loss: 1.0447 - accuracy: 0.6888 - val_loss: 1.2089 - val_accuracy: 0.6300\n",
            "Epoch 4/100\n",
            "134/134 [==============================] - 17s 130ms/step - loss: 0.8578 - accuracy: 0.7212 - val_loss: 0.9862 - val_accuracy: 0.6725\n",
            "Epoch 5/100\n",
            "134/134 [==============================] - 17s 128ms/step - loss: 0.7754 - accuracy: 0.7437 - val_loss: 1.7104 - val_accuracy: 0.5550\n",
            "Epoch 6/100\n",
            "134/134 [==============================] - 15s 115ms/step - loss: 0.8973 - accuracy: 0.7250 - val_loss: 0.9395 - val_accuracy: 0.6900\n",
            "Epoch 7/100\n",
            "134/134 [==============================] - 15s 114ms/step - loss: 0.7032 - accuracy: 0.7606 - val_loss: 1.3684 - val_accuracy: 0.6025\n",
            "Epoch 8/100\n",
            "134/134 [==============================] - 16s 117ms/step - loss: 0.6817 - accuracy: 0.7681 - val_loss: 1.0076 - val_accuracy: 0.7075\n",
            "Epoch 9/100\n",
            "134/134 [==============================] - 15s 116ms/step - loss: 0.6083 - accuracy: 0.7875 - val_loss: 0.8401 - val_accuracy: 0.7025\n",
            "Epoch 10/100\n",
            "134/134 [==============================] - 16s 116ms/step - loss: 0.5286 - accuracy: 0.8062 - val_loss: 1.0544 - val_accuracy: 0.6850\n",
            "Epoch 11/100\n",
            "134/134 [==============================] - 16s 117ms/step - loss: 0.5925 - accuracy: 0.7862 - val_loss: 0.9826 - val_accuracy: 0.6925\n",
            "Epoch 12/100\n",
            "134/134 [==============================] - 16s 121ms/step - loss: 0.5046 - accuracy: 0.8213 - val_loss: 0.8185 - val_accuracy: 0.7175\n",
            "Epoch 13/100\n",
            "134/134 [==============================] - 16s 119ms/step - loss: 0.6126 - accuracy: 0.7962 - val_loss: 1.0330 - val_accuracy: 0.6850\n",
            "Epoch 14/100\n",
            "134/134 [==============================] - 16s 122ms/step - loss: 0.5195 - accuracy: 0.8200 - val_loss: 0.7787 - val_accuracy: 0.7400\n",
            "Epoch 15/100\n",
            "134/134 [==============================] - 16s 119ms/step - loss: 0.4419 - accuracy: 0.8400 - val_loss: 0.8416 - val_accuracy: 0.7250\n",
            "Epoch 16/100\n",
            "134/134 [==============================] - 16s 119ms/step - loss: 0.3809 - accuracy: 0.8512 - val_loss: 0.8411 - val_accuracy: 0.7225\n",
            "Epoch 17/100\n",
            "134/134 [==============================] - 16s 120ms/step - loss: 0.3671 - accuracy: 0.8706 - val_loss: 0.8838 - val_accuracy: 0.7125\n",
            "Epoch 18/100\n",
            "134/134 [==============================] - 16s 120ms/step - loss: 0.4327 - accuracy: 0.8388 - val_loss: 0.8970 - val_accuracy: 0.7175\n",
            "Epoch 19/100\n",
            "134/134 [==============================] - 16s 120ms/step - loss: 0.4552 - accuracy: 0.8244 - val_loss: 0.8065 - val_accuracy: 0.7275\n",
            "Epoch 20/100\n",
            "134/134 [==============================] - 16s 120ms/step - loss: 0.4007 - accuracy: 0.8487 - val_loss: 0.7461 - val_accuracy: 0.7400\n",
            "Epoch 21/100\n",
            "134/134 [==============================] - 17s 125ms/step - loss: 0.4075 - accuracy: 0.8500 - val_loss: 0.8086 - val_accuracy: 0.7450\n",
            "Epoch 22/100\n",
            "134/134 [==============================] - 16s 121ms/step - loss: 0.3305 - accuracy: 0.8794 - val_loss: 1.2425 - val_accuracy: 0.6400\n",
            "Epoch 23/100\n",
            "134/134 [==============================] - 17s 124ms/step - loss: 0.3490 - accuracy: 0.8794 - val_loss: 0.7758 - val_accuracy: 0.7500\n",
            "Epoch 24/100\n",
            "134/134 [==============================] - 17s 124ms/step - loss: 0.2644 - accuracy: 0.9062 - val_loss: 0.7974 - val_accuracy: 0.7700\n",
            "Epoch 25/100\n",
            "134/134 [==============================] - 16s 121ms/step - loss: 0.3582 - accuracy: 0.8619 - val_loss: 0.8499 - val_accuracy: 0.7525\n",
            "Epoch 26/100\n",
            "134/134 [==============================] - 18s 136ms/step - loss: 0.3808 - accuracy: 0.8600 - val_loss: 0.9063 - val_accuracy: 0.7225\n",
            "Epoch 27/100\n",
            "134/134 [==============================] - 16s 121ms/step - loss: 0.3129 - accuracy: 0.8763 - val_loss: 0.8623 - val_accuracy: 0.7425\n",
            "Epoch 28/100\n",
            "134/134 [==============================] - 16s 121ms/step - loss: 0.2812 - accuracy: 0.8931 - val_loss: 0.8284 - val_accuracy: 0.7400\n",
            "Epoch 29/100\n",
            "134/134 [==============================] - 16s 121ms/step - loss: 0.3646 - accuracy: 0.8500 - val_loss: 0.7840 - val_accuracy: 0.7650\n",
            "Epoch 30/100\n",
            "134/134 [==============================] - 16s 121ms/step - loss: 0.3421 - accuracy: 0.8687 - val_loss: 0.7274 - val_accuracy: 0.7500\n",
            "Epoch 31/100\n",
            "134/134 [==============================] - 16s 122ms/step - loss: 0.3306 - accuracy: 0.8694 - val_loss: 0.7929 - val_accuracy: 0.7450\n",
            "Epoch 32/100\n",
            "134/134 [==============================] - 16s 122ms/step - loss: 0.2322 - accuracy: 0.9175 - val_loss: 0.9474 - val_accuracy: 0.7325\n",
            "Epoch 33/100\n",
            "134/134 [==============================] - 16s 122ms/step - loss: 0.2448 - accuracy: 0.9081 - val_loss: 0.8975 - val_accuracy: 0.7250\n",
            "Epoch 34/100\n",
            "134/134 [==============================] - 16s 122ms/step - loss: 0.3369 - accuracy: 0.8625 - val_loss: 1.0891 - val_accuracy: 0.6975\n",
            "Epoch 35/100\n",
            "134/134 [==============================] - 16s 122ms/step - loss: 0.2498 - accuracy: 0.9069 - val_loss: 0.7966 - val_accuracy: 0.7550\n",
            "Epoch 36/100\n",
            "134/134 [==============================] - 16s 122ms/step - loss: 0.1790 - accuracy: 0.9300 - val_loss: 1.0103 - val_accuracy: 0.6950\n",
            "Epoch 37/100\n",
            "134/134 [==============================] - 16s 122ms/step - loss: 0.3005 - accuracy: 0.8856 - val_loss: 0.8884 - val_accuracy: 0.7425\n",
            "Epoch 38/100\n",
            "134/134 [==============================] - 16s 123ms/step - loss: 0.2125 - accuracy: 0.9194 - val_loss: 0.8539 - val_accuracy: 0.7250\n",
            "Epoch 39/100\n",
            "134/134 [==============================] - 16s 122ms/step - loss: 0.2515 - accuracy: 0.9019 - val_loss: 1.2717 - val_accuracy: 0.6500\n",
            "Epoch 40/100\n",
            "134/134 [==============================] - 16s 122ms/step - loss: 0.2606 - accuracy: 0.8963 - val_loss: 0.9676 - val_accuracy: 0.7000\n"
          ]
        }
      ],
      "source": [
        "history = model.fit(\n",
        "    X_train,ytrain,epochs=100,batch_size=12,validation_data=(X_test, ytest),callbacks=[early_stopping, model_checkpoint])"
      ]
    },
    {
      "cell_type": "code",
      "source": [
        "plt.plot(history.history['accuracy'])\n",
        "plt.plot(history.history['val_accuracy'])\n",
        "plt.title('Model accuracy')\n",
        "plt.ylabel('Accuracy')\n",
        "plt.xlabel('Epoch')\n",
        "plt.legend(['Train', 'Validation'], loc='lower right')\n",
        "plt.show()"
      ],
      "metadata": {
        "colab": {
          "base_uri": "https://localhost:8080/",
          "height": 295
        },
        "id": "OcPglvlhfVlW",
        "outputId": "5b5a7465-67d7-46e6-d9f1-bcdb0c8e2393"
      },
      "execution_count": null,
      "outputs": [
        {
          "output_type": "display_data",
          "data": {
            "text/plain": [
              "<Figure size 432x288 with 1 Axes>"
            ],
            "image/png": "[encoded data removed]"
          },
          "metadata": {
            "needs_background": "light"
          }
        }
      ]
    },
    {
      "cell_type": "code",
      "source": [
        "# load the best model\n",
        "best_model_tl = keras.models.load_model('best_model_tl.h5')"
      ],
      "metadata": {
        "id": "a5Bp_ZAhfV3h"
      },
      "execution_count": null,
      "outputs": []
    },
    {
      "cell_type": "code",
      "source": [
        "# Get predictions\n",
        "y_pred = best_model_tl.predict(X_test)\n",
        "\n",
        "# Convert predictions to class labels\n",
        "y_pred_class = np.argmax(y_pred, axis=1)\n",
        "\n",
        "# Convert true labels to class labels\n",
        "y_true_class = np.argmax(ytest, axis=1)\n",
        "\n",
        "# Get confusion matrix\n",
        "confusion_mat = confusion_matrix(y_true_class, y_pred_class)\n",
        "print(\"\\n--- Confusion Matrix ---\\n\")\n",
        "print(confusion_mat)\n",
        "# Get classification report\n",
        "classification = classification_report(y_true_class, y_pred_class)\n",
        "print(\"\\n\\n\\t\\t--- Classification Report ---\\n\")\n",
        "print(classification)"
      ],
      "metadata": {
        "colab": {
          "base_uri": "https://localhost:8080/"
        },
        "id": "k94IYf-AfZzG",
        "outputId": "d35237ef-4b62-4ef1-b7ea-7f08fda36e7d"
      },
      "execution_count": null,
      "outputs": [
        {
          "output_type": "stream",
          "name": "stdout",
          "text": [
            "13/13 [==============================] - 6s 317ms/step\n",
            "\n",
            "--- Confusion Matrix ---\n",
            "\n",
            "[[96  2  1  5]\n",
            " [ 5 84  2  4]\n",
            " [11  3 52 22]\n",
            " [15  9 13 76]]\n",
            "\n",
            "\n",
            "\t\t--- Classification Report ---\n",
            "\n",
            "              precision    recall  f1-score   support\n",
            "\n",
            "           0       0.76      0.92      0.83       104\n",
            "           1       0.86      0.88      0.87        95\n",
            "           2       0.76      0.59      0.67        88\n",
            "           3       0.71      0.67      0.69       113\n",
            "\n",
            "    accuracy                           0.77       400\n",
            "   macro avg       0.77      0.77      0.76       400\n",
            "weighted avg       0.77      0.77      0.76       400\n",
            "\n"
          ]
        }
      ]
    },
    {
      "cell_type": "code",
      "execution_count": null,
      "metadata": {
        "id": "-k8J59uye7Jd"
      },
      "outputs": [],
      "source": [
        "# Unfreeze some layers in the base model\n",
        "base_model.trainable = True"
      ]
    },
    {
      "cell_type": "code",
      "source": [
        "# free some memory \n",
        "del data \n",
        "del labels \n",
        "del best_model_tl"
      ],
      "metadata": {
        "id": "wMpiaCZ4es_S"
      },
      "execution_count": null,
      "outputs": []
    },
    {
      "cell_type": "code",
      "execution_count": null,
      "metadata": {
        "id": "3iow-YyYfAb4"
      },
      "outputs": [],
      "source": [
        "model.compile(loss='categorical_crossentropy', optimizer=keras.optimizers.Adam(learning_rate=1e-4),  metrics=['accuracy'])"
      ]
    },
    {
      "cell_type": "code",
      "source": [
        "early_stopping = EarlyStopping(monitor='val_loss', patience=10, mode='min')\n",
        "model_checkpoint = keras.callbacks.ModelCheckpoint(filepath='best_model_fn.h5', monitor='val_accuracy', save_best_only=True, mode='max')"
      ],
      "metadata": {
        "id": "BobDEJpXiMho"
      },
      "execution_count": null,
      "outputs": []
    },
    {
      "cell_type": "code",
      "execution_count": null,
      "metadata": {
        "colab": {
          "base_uri": "https://localhost:8080/"
        },
        "id": "eh7Fr3pefOIg",
        "outputId": "fb678e5e-228c-4f2e-ffda-2803d142c974"
      },
      "outputs": [
        {
          "output_type": "stream",
          "name": "stdout",
          "text": [
            "Epoch 1/100\n",
            "50/50 [==============================] - 72s 1s/step - loss: 0.8253 - accuracy: 0.7281 - val_loss: 1.1779 - val_accuracy: 0.5800\n",
            "Epoch 2/100\n",
            "50/50 [==============================] - 66s 1s/step - loss: 0.0989 - accuracy: 0.9669 - val_loss: 0.2079 - val_accuracy: 0.9250\n",
            "Epoch 3/100\n",
            "50/50 [==============================] - 66s 1s/step - loss: 0.0294 - accuracy: 0.9931 - val_loss: 0.1537 - val_accuracy: 0.9400\n",
            "Epoch 4/100\n",
            "50/50 [==============================] - 66s 1s/step - loss: 0.0086 - accuracy: 0.9987 - val_loss: 0.0833 - val_accuracy: 0.9775\n",
            "Epoch 5/100\n",
            "50/50 [==============================] - 65s 1s/step - loss: 0.0113 - accuracy: 0.9962 - val_loss: 0.0942 - val_accuracy: 0.9700\n",
            "Epoch 6/100\n",
            "50/50 [==============================] - 65s 1s/step - loss: 0.0054 - accuracy: 1.0000 - val_loss: 0.0700 - val_accuracy: 0.9775\n",
            "Epoch 7/100\n",
            "50/50 [==============================] - 65s 1s/step - loss: 0.0024 - accuracy: 1.0000 - val_loss: 0.0675 - val_accuracy: 0.9750\n",
            "Epoch 8/100\n",
            "50/50 [==============================] - 65s 1s/step - loss: 0.0041 - accuracy: 0.9981 - val_loss: 0.0731 - val_accuracy: 0.9775\n",
            "Epoch 9/100\n",
            "50/50 [==============================] - 67s 1s/step - loss: 0.0033 - accuracy: 0.9994 - val_loss: 0.0589 - val_accuracy: 0.9800\n",
            "Epoch 10/100\n",
            "50/50 [==============================] - 65s 1s/step - loss: 0.0023 - accuracy: 1.0000 - val_loss: 0.0691 - val_accuracy: 0.9775\n",
            "Epoch 11/100\n",
            "50/50 [==============================] - 67s 1s/step - loss: 0.0018 - accuracy: 1.0000 - val_loss: 0.0558 - val_accuracy: 0.9875\n",
            "Epoch 12/100\n",
            "50/50 [==============================] - 65s 1s/step - loss: 0.0015 - accuracy: 0.9994 - val_loss: 0.0540 - val_accuracy: 0.9850\n",
            "Epoch 13/100\n",
            "50/50 [==============================] - 65s 1s/step - loss: 0.0103 - accuracy: 0.9981 - val_loss: 0.0930 - val_accuracy: 0.9675\n",
            "Epoch 14/100\n",
            "50/50 [==============================] - 66s 1s/step - loss: 0.0086 - accuracy: 0.9981 - val_loss: 0.1239 - val_accuracy: 0.9575\n",
            "Epoch 15/100\n",
            "50/50 [==============================] - 65s 1s/step - loss: 0.0047 - accuracy: 0.9981 - val_loss: 0.0941 - val_accuracy: 0.9700\n",
            "Epoch 16/100\n",
            "50/50 [==============================] - 65s 1s/step - loss: 0.0036 - accuracy: 0.9987 - val_loss: 0.0832 - val_accuracy: 0.9675\n",
            "Epoch 17/100\n",
            "50/50 [==============================] - 65s 1s/step - loss: 0.0057 - accuracy: 0.9975 - val_loss: 0.0784 - val_accuracy: 0.9700\n",
            "Epoch 18/100\n",
            "50/50 [==============================] - 65s 1s/step - loss: 0.0029 - accuracy: 0.9987 - val_loss: 0.0688 - val_accuracy: 0.9800\n",
            "Epoch 19/100\n",
            "50/50 [==============================] - 65s 1s/step - loss: 0.0250 - accuracy: 0.9931 - val_loss: 0.1751 - val_accuracy: 0.9625\n",
            "Epoch 20/100\n",
            "50/50 [==============================] - 65s 1s/step - loss: 0.0133 - accuracy: 0.9956 - val_loss: 0.1767 - val_accuracy: 0.9550\n",
            "Epoch 21/100\n",
            "50/50 [==============================] - 65s 1s/step - loss: 0.0205 - accuracy: 0.9944 - val_loss: 0.1911 - val_accuracy: 0.9550\n",
            "Epoch 22/100\n",
            "50/50 [==============================] - 66s 1s/step - loss: 0.0118 - accuracy: 0.9975 - val_loss: 0.1822 - val_accuracy: 0.9700\n"
          ]
        }
      ],
      "source": [
        "history = model.fit(\n",
        "    X_train,ytrain,epochs=100,batch_size=32,validation_data=(X_test, ytest),callbacks=[early_stopping, model_checkpoint])"
      ]
    },
    {
      "cell_type": "code",
      "source": [
        "plt.plot(history.history['accuracy'])\n",
        "plt.plot(history.history['val_accuracy'])\n",
        "plt.title('Model accuracy')\n",
        "plt.ylabel('Accuracy')\n",
        "plt.xlabel('Epoch')\n",
        "plt.legend(['Train', 'Validation'], loc='lower right')\n",
        "plt.show()"
      ],
      "metadata": {
        "colab": {
          "base_uri": "https://localhost:8080/",
          "height": 295
        },
        "id": "n7GZQRQOiQ2O",
        "outputId": "0005a59b-15a7-477b-933d-150f0b361cb2"
      },
      "execution_count": null,
      "outputs": [
        {
          "output_type": "display_data",
          "data": {
            "text/plain": [
              "<Figure size 432x288 with 1 Axes>"
            ],
            "image/png": "[encoded data removed]"
          },
          "metadata": {
            "needs_background": "light"
          }
        }
      ]
    },
    {
      "cell_type": "code",
      "source": [
        "# load the best model\n",
        "best_model_fn = keras.models.load_model('best_model_fn.h5')"
      ],
      "metadata": {
        "id": "bMbW59ZhiTkF"
      },
      "execution_count": null,
      "outputs": []
    },
    {
      "cell_type": "code",
      "source": [
        "# Get predictions\n",
        "y_pred = best_model_fn.predict(X_test)\n",
        "\n",
        "# Convert predictions to class labels\n",
        "y_pred_class = np.argmax(y_pred, axis=1)\n",
        "\n",
        "# Convert true labels to class labels\n",
        "y_true_class = np.argmax(ytest, axis=1)\n",
        "\n",
        "# Get confusion matrix\n",
        "confusion_mat = confusion_matrix(y_true_class, y_pred_class)\n",
        "print(\"\\n--- Confusion Matrix ---\\n\")\n",
        "print(confusion_mat)\n",
        "# Get classification report\n",
        "classification = classification_report(y_true_class, y_pred_class)\n",
        "print(\"\\n\\n\\t\\t--- Classification Report ---\\n\")\n",
        "print(classification)"
      ],
      "metadata": {
        "id": "cOPdLiC99fmr"
      },
      "execution_count": null,
      "outputs": []
    }
  ],
  "metadata": {
    "colab": {
      "provenance": []
    },
    "kernelspec": {
      "display_name": "Python 3",
      "name": "python3"
    },
    "language_info": {
      "name": "python"
    },
    "accelerator": "GPU",
    "gpuClass": "standard"
  },
  "nbformat": 4,
  "nbformat_minor": 0
}