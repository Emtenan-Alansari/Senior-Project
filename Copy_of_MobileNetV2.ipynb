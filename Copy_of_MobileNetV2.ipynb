{
  "nbformat": 4,
  "nbformat_minor": 0,
  "metadata": {
    "colab": {
      "provenance": []
    },
    "kernelspec": {
      "name": "python3",
      "display_name": "Python 3"
    },
    "language_info": {
      "name": "python"
    },
    "accelerator": "GPU",
    "gpuClass": "standard"
  },
  "cells": [
    {
      "cell_type": "code",
      "execution_count": null,
      "metadata": {
        "id": "u5qflXUvzisD"
      },
      "outputs": [],
      "source": [
        "import requests, zipfile, io\n",
        "import cv2\n",
        "import glob\n",
        "from tensorflow.keras.utils import array_to_img, img_to_array, load_img\n",
        "import matplotlib.pyplot as plt\n",
        "import numpy as np \n",
        "from PIL import Image\n",
        "import os \n",
        "import pandas as pd\n",
        "from keras.preprocessing.image import ImageDataGenerator \n",
        "from sklearn.model_selection import train_test_split\n",
        "from keras.callbacks import EarlyStopping\n",
        "import keras\n",
        "import tensorflow as tf\n",
        "import random\n",
        "from keras.utils import to_categorical\n",
        "from google.colab import drive,files\n",
        "from sklearn.metrics import confusion_matrix\n",
        "from sklearn.metrics import classification_report\n",
        "# Set the seed for TensorFlow\n",
        "tf.random.set_seed(1)\n",
        "# Set the seed for NumPy\n",
        "np.random.seed(1)\n",
        "# Set the seed for the Python random module\n",
        "random.seed(1)"
      ]
    },
    {
      "cell_type": "code",
      "source": [
        "drive.mount('/content/gdrive')"
      ],
      "metadata": {
        "colab": {
          "base_uri": "https://localhost:8080/"
        },
        "id": "0tfBe1O1zmrz",
        "outputId": "72c92b8c-7715-4350-d4ae-a0a058666f63"
      },
      "execution_count": null,
      "outputs": [
        {
          "output_type": "stream",
          "name": "stdout",
          "text": [
            "Mounted at /content/gdrive\n"
          ]
        }
      ]
    },
    {
      "cell_type": "markdown",
      "source": [
        "**storing data to google cloud**\n",
        "(Code to be run only once)"
      ],
      "metadata": {
        "id": "dOibp6-r8GDq"
      }
    },
    {
      "cell_type": "code",
      "source": [
        "# os.mkdir('gdrive/MyDrive/data')\n",
        "# os.mkdir('gdrive/MyDrive/data/Resized-cocci-224')\n",
        "# os.mkdir('gdrive/MyDrive/data/Resized-healthy-224')\n",
        "# os.mkdir('gdrive/MyDrive/data/Resized-salmo-224')"
      ],
      "metadata": {
        "id": "LcLAJXv7zssh"
      },
      "execution_count": null,
      "outputs": []
    },
    {
      "cell_type": "code",
      "source": [
        "#r = requests.get(\"https://zenodo.org/record/4628934/files/cocci.zip\")\n",
        "#z = zipfile.ZipFile(io.BytesIO(r.content))\n",
        "#z.extractall('gdrive/MyDrive/data')"
      ],
      "metadata": {
        "id": "lX9mD7hmz9jf"
      },
      "execution_count": null,
      "outputs": []
    },
    {
      "cell_type": "code",
      "source": [
        "#r = requests.get(\"https://zenodo.org/record/4628934/files/healthy.zip\")\n",
        "#z = zipfile.ZipFile(io.BytesIO(r.content))\n",
        "#z.extractall('gdrive/MyDrive/data')"
      ],
      "metadata": {
        "id": "JFcosaD50BPl"
      },
      "execution_count": null,
      "outputs": []
    },
    {
      "cell_type": "code",
      "source": [
        "#r = requests.get(\"https://zenodo.org/record/4628934/files/salmo.zip\")\n",
        "#z = zipfile.ZipFile(io.BytesIO(r.content))\n",
        "#z.extractall('gdrive/MyDrive/data')"
      ],
      "metadata": {
        "id": "Opun3Qrz0BTi"
      },
      "execution_count": null,
      "outputs": []
    },
    {
      "cell_type": "code",
      "source": [
        "#r = requests.get(\"https://zenodo.org/record/4628934/files/ncd.zip\")\n",
        "#z = zipfile.ZipFile(io.BytesIO(r.content))\n",
        "#z.extractall('gdrive/MyDrive/data')"
      ],
      "metadata": {
        "id": "ggNKE9Bc0BYp"
      },
      "execution_count": null,
      "outputs": []
    },
    {
      "cell_type": "code",
      "source": [
        "#def resize(folder,save_to):\n",
        "#  i= 0\n",
        "#  images = glob.glob(folder + \"/*.jpg\")\n",
        "#  for img in  images[:500]:\n",
        "#    image= Image.open(img)\n",
        "#    image= image.resize((224,224))\n",
        "#    image.save(f\"{save_to}/resized{i}.jpg\")\n",
        "#    i+=1\n",
        "#  print(f'successfully saved to {save_to}')"
      ],
      "metadata": {
        "id": "jRpQl7H70Bbb"
      },
      "execution_count": null,
      "outputs": []
    },
    {
      "cell_type": "code",
      "source": [
        "#resize('gdrive/MyDrive/data/salmo','gdrive/MyDrive/data/Resized-salmo-224')\n",
        "#resize('gdrive/MyDrive/data/healthy','gdrive/MyDrive/data/Resized-healthy-224')\n",
        "#resize('gdrive/MyDrive/data/cocci','gdrive/MyDrive/data/Resized-cocci-224')"
      ],
      "metadata": {
        "colab": {
          "base_uri": "https://localhost:8080/"
        },
        "id": "Zvnvt9o00Bd3",
        "outputId": "336e6e22-fd65-48b9-9f75-fb0cd4a88c3a"
      },
      "execution_count": null,
      "outputs": [
        {
          "output_type": "stream",
          "name": "stdout",
          "text": [
            "successfully saved to gdrive/MyDrive/data/Resized-salmo-224\n",
            "successfully saved to gdrive/MyDrive/data/Resized-healthy-224\n",
            "successfully saved to gdrive/MyDrive/data/Resized-cocci-224\n"
          ]
        }
      ]
    },
    {
      "cell_type": "markdown",
      "source": [
        "Reading data from google cloud "
      ],
      "metadata": {
        "id": "a4Hh8bo37-ND"
      }
    },
    {
      "cell_type": "code",
      "source": [
        "# We will take only 500 images of each class \n",
        "cocci = glob.glob('/content/gdrive/MyDrive/data/Resized-cocci/*.jpg')[:500]\n",
        "healthy = glob.glob('/content/gdrive/MyDrive/data/Resized-healthy/*.jpg')[:500]\n",
        "salmo = glob.glob('/content/gdrive/MyDrive/data/Resized-salmo/*.jpg')[:500]"
      ],
      "metadata": {
        "id": "y4ajbwW00BgT"
      },
      "execution_count": null,
      "outputs": []
    },
    {
      "cell_type": "code",
      "source": [
        "dict_ = {\"Cocci\":len(cocci) ,\n",
        "         \"Healthy\":len(healthy),\n",
        "         \"Salmo\":len(salmo)}\n",
        "plt.bar(dict_.keys(), dict_.values(), width = .5)\n",
        "plt.title(\"Number of Images by Class\")\n",
        "plt.xlabel('Class Name');\n",
        "plt.ylabel('# Images');\n",
        "plt.show()"
      ],
      "metadata": {
        "colab": {
          "base_uri": "https://localhost:8080/",
          "height": 295
        },
        "id": "egxKqJU60BjE",
        "outputId": "ae783d55-9177-465f-a33f-390cee2e5ed1"
      },
      "execution_count": null,
      "outputs": [
        {
          "output_type": "display_data",
          "data": {
            "text/plain": [
              "<Figure size 432x288 with 1 Axes>"
            ],
            "image/png": "[encoded data removed]"
          },
          "metadata": {
            "needs_background": "light"
          }
        }
      ]
    },
    {
      "cell_type": "code",
      "source": [
        "labels = dict_.keys()\n",
        "targets = dict_.values()\n",
        "plt.style.use(\"ggplot\")\n",
        "plt.figure(figsize=(16, 9))\n",
        "plt.pie(x=targets, labels=labels, autopct=\"%1.1f%%\")\n",
        "plt.title(\"Image Category Distribution\")\n",
        "plt.show()"
      ],
      "metadata": {
        "colab": {
          "base_uri": "https://localhost:8080/",
          "height": 537
        },
        "id": "40haYUgF0BlI",
        "outputId": "04a00a2f-fcac-4d37-924a-89c853390088"
      },
      "execution_count": null,
      "outputs": [
        {
          "output_type": "display_data",
          "data": {
            "text/plain": [
              "<Figure size 1152x648 with 1 Axes>"
            ],
            "image/png": "[encoded data removed]"
          },
          "metadata": {}
        }
      ]
    },
    {
      "cell_type": "markdown",
      "source": [
        "Prepare data for training "
      ],
      "metadata": {
        "id": "TWHtwQjs71YW"
      }
    },
    {
      "cell_type": "code",
      "source": [
        "labels = []\n",
        "data =[] "
      ],
      "metadata": {
        "id": "PY30jdHu0Bnj"
      },
      "execution_count": null,
      "outputs": []
    },
    {
      "cell_type": "code",
      "source": [
        "def prepare_images(array,class_no):\n",
        "  for img in array:\n",
        "    x = load_img(img)\n",
        "    x = img_to_array(x)\n",
        "    data.append(x)\n",
        "    labels.append(class_no)"
      ],
      "metadata": {
        "id": "IuhkSeQ_0Bpq"
      },
      "execution_count": null,
      "outputs": []
    },
    {
      "cell_type": "code",
      "source": [
        "prepare_images(cocci,0)\n",
        "prepare_images(healthy,1)\n",
        "prepare_images(salmo,2)"
      ],
      "metadata": {
        "id": "1n0lwNXv0Br5"
      },
      "execution_count": null,
      "outputs": []
    },
    {
      "cell_type": "code",
      "source": [
        "data = np.array(data)\n",
        "labels = to_categorical(labels)"
      ],
      "metadata": {
        "id": "4ytnI0oj1Xzc"
      },
      "execution_count": null,
      "outputs": []
    },
    {
      "cell_type": "code",
      "source": [
        "X_train, X_test, ytrain, ytest = train_test_split(data, labels, test_size=0.2, random_state=1,shuffle=True)"
      ],
      "metadata": {
        "id": "tX-n4uZy1ZP8"
      },
      "execution_count": null,
      "outputs": []
    },
    {
      "cell_type": "markdown",
      "source": [
        "Transfer Learning"
      ],
      "metadata": {
        "id": "BikMejed7m3k"
      }
    },
    {
      "cell_type": "code",
      "source": [
        "base_model = tf.keras.applications.MobileNetV2(input_shape=(224,224,3),include_top=False, # Transfer learning\n",
        "                                                weights=\"imagenet\")"
      ],
      "metadata": {
        "colab": {
          "base_uri": "https://localhost:8080/"
        },
        "id": "pkrBRtTe1ana",
        "outputId": "6c4d616f-7e57-45d3-896f-8659680b3ab4"
      },
      "execution_count": null,
      "outputs": [
        {
          "output_type": "stream",
          "name": "stdout",
          "text": [
            "Downloading data from https://storage.googleapis.com/tensorflow/keras-applications/mobilenet_v2/mobilenet_v2_weights_tf_dim_ordering_tf_kernels_1.0_224_no_top.h5\n",
            "9406464/9406464 [==============================] - 0s 0us/step\n"
          ]
        }
      ]
    },
    {
      "cell_type": "code",
      "source": [
        "# freeze the base model \n",
        "base_model.trainable = False"
      ],
      "metadata": {
        "id": "x-yLHr--1iD0"
      },
      "execution_count": null,
      "outputs": []
    },
    {
      "cell_type": "code",
      "source": [
        "# Add a classification head\n",
        "model = tf.keras.Sequential([\n",
        "  base_model,\n",
        "  tf.keras.layers.GlobalAveragePooling2D(),\n",
        "  tf.keras.layers.Dense(128, activation='relu'),\n",
        "  tf.keras.layers.Dense(3, activation='softmax')\n",
        "])"
      ],
      "metadata": {
        "id": "h7Wqvh6p1jyO"
      },
      "execution_count": null,
      "outputs": []
    },
    {
      "cell_type": "code",
      "source": [
        "model.summary()"
      ],
      "metadata": {
        "colab": {
          "base_uri": "https://localhost:8080/"
        },
        "id": "uLK21Va51lWf",
        "outputId": "3aaf7abc-5b81-4d66-b181-0d6580058055"
      },
      "execution_count": null,
      "outputs": [
        {
          "output_type": "stream",
          "name": "stdout",
          "text": [
            "Model: \"sequential\"\n",
            "_________________________________________________________________\n",
            " Layer (type)                Output Shape              Param #   \n",
            "=================================================================\n",
            " mobilenetv2_1.00_224 (Funct  (None, 7, 7, 1280)       2257984   \n",
            " ional)                                                          \n",
            "                                                                 \n",
            " global_average_pooling2d (G  (None, 1280)             0         \n",
            " lobalAveragePooling2D)                                          \n",
            "                                                                 \n",
            " dense (Dense)               (None, 128)               163968    \n",
            "                                                                 \n",
            " dense_1 (Dense)             (None, 3)                 387       \n",
            "                                                                 \n",
            "=================================================================\n",
            "Total params: 2,422,339\n",
            "Trainable params: 164,355\n",
            "Non-trainable params: 2,257,984\n",
            "_________________________________________________________________\n"
          ]
        }
      ]
    },
    {
      "cell_type": "code",
      "source": [
        "early_stopping = EarlyStopping(monitor='val_loss', patience=10, mode='min')\n",
        "model_checkpoint = keras.callbacks.ModelCheckpoint(filepath='best_model_tl.h5', monitor='val_accuracy', save_best_only=True, mode='max')"
      ],
      "metadata": {
        "id": "n6N8oF4U1m8X"
      },
      "execution_count": null,
      "outputs": []
    },
    {
      "cell_type": "code",
      "source": [
        "model.compile(loss='categorical_crossentropy', optimizer=keras.optimizers.Adam(learning_rate=1e-3),  metrics=['accuracy'])"
      ],
      "metadata": {
        "id": "2yfwmbml1omr"
      },
      "execution_count": null,
      "outputs": []
    },
    {
      "cell_type": "code",
      "source": [
        "history = model.fit(\n",
        "    X_train,ytrain,epochs=100,batch_size=32,validation_data=(X_test, ytest),callbacks=[early_stopping,model_checkpoint])"
      ],
      "metadata": {
        "colab": {
          "base_uri": "https://localhost:8080/"
        },
        "id": "5x8qvnmB5km6",
        "outputId": "4173094c-f41b-41da-8656-1868c5b613ed"
      },
      "execution_count": null,
      "outputs": [
        {
          "output_type": "stream",
          "name": "stdout",
          "text": [
            "Epoch 1/100\n",
            "38/38 [==============================] - 14s 110ms/step - loss: 0.5410 - accuracy: 0.7975 - val_loss: 0.2989 - val_accuracy: 0.8933\n",
            "Epoch 2/100\n",
            "38/38 [==============================] - 2s 64ms/step - loss: 0.3078 - accuracy: 0.8858 - val_loss: 0.2721 - val_accuracy: 0.9067\n",
            "Epoch 3/100\n",
            "38/38 [==============================] - 2s 57ms/step - loss: 0.2647 - accuracy: 0.8992 - val_loss: 0.2962 - val_accuracy: 0.8800\n",
            "Epoch 4/100\n",
            "38/38 [==============================] - 2s 58ms/step - loss: 0.2268 - accuracy: 0.9150 - val_loss: 0.2906 - val_accuracy: 0.8933\n",
            "Epoch 5/100\n",
            "38/38 [==============================] - 2s 65ms/step - loss: 0.2058 - accuracy: 0.9200 - val_loss: 0.2327 - val_accuracy: 0.8967\n",
            "Epoch 6/100\n",
            "38/38 [==============================] - 2s 60ms/step - loss: 0.1831 - accuracy: 0.9325 - val_loss: 0.2397 - val_accuracy: 0.9000\n",
            "Epoch 7/100\n",
            "38/38 [==============================] - 2s 64ms/step - loss: 0.1595 - accuracy: 0.9375 - val_loss: 0.2312 - val_accuracy: 0.9100\n",
            "Epoch 8/100\n",
            "38/38 [==============================] - 2s 57ms/step - loss: 0.1477 - accuracy: 0.9533 - val_loss: 0.2400 - val_accuracy: 0.9100\n",
            "Epoch 9/100\n",
            "38/38 [==============================] - 2s 57ms/step - loss: 0.1271 - accuracy: 0.9592 - val_loss: 0.2355 - val_accuracy: 0.9100\n",
            "Epoch 10/100\n",
            "38/38 [==============================] - 2s 58ms/step - loss: 0.1309 - accuracy: 0.9558 - val_loss: 0.2205 - val_accuracy: 0.9100\n",
            "Epoch 11/100\n",
            "38/38 [==============================] - 2s 63ms/step - loss: 0.1001 - accuracy: 0.9725 - val_loss: 0.2256 - val_accuracy: 0.9067\n",
            "Epoch 12/100\n",
            "38/38 [==============================] - 2s 66ms/step - loss: 0.0871 - accuracy: 0.9733 - val_loss: 0.2753 - val_accuracy: 0.8867\n",
            "Epoch 13/100\n",
            "38/38 [==============================] - 2s 65ms/step - loss: 0.0832 - accuracy: 0.9725 - val_loss: 0.2031 - val_accuracy: 0.9167\n",
            "Epoch 14/100\n",
            "38/38 [==============================] - 2s 64ms/step - loss: 0.0684 - accuracy: 0.9833 - val_loss: 0.2066 - val_accuracy: 0.9200\n",
            "Epoch 15/100\n",
            "38/38 [==============================] - 2s 57ms/step - loss: 0.0773 - accuracy: 0.9767 - val_loss: 0.2369 - val_accuracy: 0.9000\n",
            "Epoch 16/100\n",
            "38/38 [==============================] - 2s 59ms/step - loss: 0.0759 - accuracy: 0.9800 - val_loss: 0.2469 - val_accuracy: 0.9033\n",
            "Epoch 17/100\n",
            "38/38 [==============================] - 3s 76ms/step - loss: 0.0715 - accuracy: 0.9733 - val_loss: 0.2192 - val_accuracy: 0.9233\n",
            "Epoch 18/100\n",
            "38/38 [==============================] - 2s 57ms/step - loss: 0.0535 - accuracy: 0.9850 - val_loss: 0.2323 - val_accuracy: 0.9033\n",
            "Epoch 19/100\n",
            "38/38 [==============================] - 2s 63ms/step - loss: 0.0498 - accuracy: 0.9842 - val_loss: 0.2202 - val_accuracy: 0.9167\n",
            "Epoch 20/100\n",
            "38/38 [==============================] - 2s 63ms/step - loss: 0.0312 - accuracy: 0.9933 - val_loss: 0.2217 - val_accuracy: 0.9100\n",
            "Epoch 21/100\n",
            "38/38 [==============================] - 2s 57ms/step - loss: 0.0325 - accuracy: 0.9942 - val_loss: 0.2143 - val_accuracy: 0.9200\n",
            "Epoch 22/100\n",
            "38/38 [==============================] - 3s 70ms/step - loss: 0.0220 - accuracy: 0.9983 - val_loss: 0.2114 - val_accuracy: 0.9300\n",
            "Epoch 23/100\n",
            "38/38 [==============================] - 2s 63ms/step - loss: 0.0193 - accuracy: 0.9983 - val_loss: 0.2236 - val_accuracy: 0.9233\n"
          ]
        }
      ]
    },
    {
      "cell_type": "code",
      "source": [
        "plt.plot(history.history['accuracy'])\n",
        "plt.plot(history.history['val_accuracy'])\n",
        "plt.title('Model accuracy')\n",
        "plt.ylabel('Accuracy')\n",
        "plt.xlabel('Epoch')\n",
        "plt.legend(['Train', 'Validation'], loc='lower right')\n",
        "plt.show()"
      ],
      "metadata": {
        "id": "rF30EP28aGIR",
        "outputId": "91aea60d-6e01-4276-cbf8-58f8d28cad76",
        "colab": {
          "base_uri": "https://localhost:8080/",
          "height": 299
        }
      },
      "execution_count": null,
      "outputs": [
        {
          "output_type": "display_data",
          "data": {
            "text/plain": [
              "<Figure size 432x288 with 1 Axes>"
            ],
            "image/png": "[encoded data removed]"
          },
          "metadata": {}
        }
      ]
    },
    {
      "cell_type": "code",
      "source": [
        "# load the best model\n",
        "best_model_tl = keras.models.load_model('best_model_tl.h5')"
      ],
      "metadata": {
        "id": "r_zswM3nWmIN"
      },
      "execution_count": null,
      "outputs": []
    },
    {
      "cell_type": "code",
      "source": [
        "# Get predictions\n",
        "y_pred = best_model_tl.predict(X_test)\n",
        "\n",
        "# Convert predictions to class labels\n",
        "y_pred_class = np.argmax(y_pred, axis=1)\n",
        "\n",
        "# Convert true labels to class labels\n",
        "y_true_class = np.argmax(ytest, axis=1)\n",
        "\n",
        "# Get confusion matrix\n",
        "confusion_mat = confusion_matrix(y_true_class, y_pred_class)\n",
        "print(\"\\n--- Confusion Matrix ---\\n\")\n",
        "print(confusion_mat)\n",
        "# Get classification report\n",
        "classification = classification_report(y_true_class, y_pred_class)\n",
        "print(\"\\n\\n\\t\\t--- Classification Report ---\\n\")\n",
        "print(classification)"
      ],
      "metadata": {
        "id": "NITrjuM2sUzQ",
        "outputId": "57ad0c96-1587-44af-a8c5-b3e7deffac44",
        "colab": {
          "base_uri": "https://localhost:8080/"
        }
      },
      "execution_count": null,
      "outputs": [
        {
          "output_type": "stream",
          "name": "stdout",
          "text": [
            "10/10 [==============================] - 1s 47ms/step\n",
            "\n",
            "--- Confusion Matrix ---\n",
            "\n",
            "[[ 89   1   5]\n",
            " [  0 103   4]\n",
            " [  6   5  87]]\n",
            "\n",
            "\n",
            "\t\t--- Classification Report ---\n",
            "\n",
            "              precision    recall  f1-score   support\n",
            "\n",
            "           0       0.94      0.94      0.94        95\n",
            "           1       0.94      0.96      0.95       107\n",
            "           2       0.91      0.89      0.90        98\n",
            "\n",
            "    accuracy                           0.93       300\n",
            "   macro avg       0.93      0.93      0.93       300\n",
            "weighted avg       0.93      0.93      0.93       300\n",
            "\n"
          ]
        }
      ]
    },
    {
      "cell_type": "markdown",
      "source": [
        "Fine-tuning "
      ],
      "metadata": {
        "id": "0ToRu9Ph7sei"
      }
    },
    {
      "cell_type": "code",
      "source": [
        "# Unfreeze some layers in the base model\n",
        "base_model.trainable = True"
      ],
      "metadata": {
        "id": "2kJfk3u45mK8"
      },
      "execution_count": null,
      "outputs": []
    },
    {
      "cell_type": "code",
      "source": [
        "model.compile(loss='categorical_crossentropy', optimizer=keras.optimizers.Adam(learning_rate=1e-4),  metrics=['accuracy'])"
      ],
      "metadata": {
        "id": "a8HIU-cP5oBP"
      },
      "execution_count": null,
      "outputs": []
    },
    {
      "cell_type": "code",
      "source": [
        "early_stopping = EarlyStopping(monitor='val_loss', patience=10, mode='min')\n",
        "model_checkpoint = keras.callbacks.ModelCheckpoint(filepath='best_model_fn.h5', monitor='val_accuracy', save_best_only=True, mode='max')"
      ],
      "metadata": {
        "id": "Uj0apTcsslgh"
      },
      "execution_count": null,
      "outputs": []
    },
    {
      "cell_type": "code",
      "source": [
        "history = model.fit(\n",
        "    X_train,ytrain,epochs=100,batch_size=32,validation_data=(X_test, ytest),callbacks=[early_stopping,model_checkpoint])"
      ],
      "metadata": {
        "colab": {
          "base_uri": "https://localhost:8080/"
        },
        "id": "-tjyoK8y5p5n",
        "outputId": "401c32a8-ff32-46d4-fe72-b64f07efb50d"
      },
      "execution_count": null,
      "outputs": [
        {
          "output_type": "stream",
          "name": "stdout",
          "text": [
            "Epoch 1/100\n",
            "38/38 [==============================] - 16s 264ms/step - loss: 0.7003 - accuracy: 0.8600 - val_loss: 3.0860 - val_accuracy: 0.5233\n",
            "Epoch 2/100\n",
            "38/38 [==============================] - 8s 215ms/step - loss: 0.0667 - accuracy: 0.9783 - val_loss: 6.3585 - val_accuracy: 0.3467\n",
            "Epoch 3/100\n",
            "38/38 [==============================] - 8s 215ms/step - loss: 0.0319 - accuracy: 0.9883 - val_loss: 5.2409 - val_accuracy: 0.3733\n",
            "Epoch 4/100\n",
            "38/38 [==============================] - 9s 230ms/step - loss: 0.0461 - accuracy: 0.9867 - val_loss: 2.9964 - val_accuracy: 0.5467\n",
            "Epoch 5/100\n",
            "38/38 [==============================] - 8s 215ms/step - loss: 0.0279 - accuracy: 0.9900 - val_loss: 3.6007 - val_accuracy: 0.5367\n",
            "Epoch 6/100\n",
            "38/38 [==============================] - 8s 214ms/step - loss: 0.0251 - accuracy: 0.9917 - val_loss: 3.6167 - val_accuracy: 0.5367\n",
            "Epoch 7/100\n",
            "38/38 [==============================] - 8s 217ms/step - loss: 0.0360 - accuracy: 0.9892 - val_loss: 3.5510 - val_accuracy: 0.5367\n",
            "Epoch 8/100\n",
            "38/38 [==============================] - 9s 227ms/step - loss: 0.0195 - accuracy: 0.9967 - val_loss: 2.7548 - val_accuracy: 0.5833\n",
            "Epoch 9/100\n",
            "38/38 [==============================] - 8s 216ms/step - loss: 0.0062 - accuracy: 0.9992 - val_loss: 2.8966 - val_accuracy: 0.5800\n",
            "Epoch 10/100\n",
            "38/38 [==============================] - 9s 235ms/step - loss: 0.0125 - accuracy: 0.9958 - val_loss: 1.8884 - val_accuracy: 0.6800\n",
            "Epoch 11/100\n",
            "38/38 [==============================] - 8s 216ms/step - loss: 0.0046 - accuracy: 0.9983 - val_loss: 2.1743 - val_accuracy: 0.6667\n",
            "Epoch 12/100\n",
            "38/38 [==============================] - 9s 238ms/step - loss: 0.0085 - accuracy: 0.9967 - val_loss: 1.1947 - val_accuracy: 0.8100\n",
            "Epoch 13/100\n",
            "38/38 [==============================] - 9s 237ms/step - loss: 0.0035 - accuracy: 0.9983 - val_loss: 0.7805 - val_accuracy: 0.8533\n",
            "Epoch 14/100\n",
            "38/38 [==============================] - 9s 239ms/step - loss: 0.0056 - accuracy: 0.9967 - val_loss: 0.9986 - val_accuracy: 0.8700\n",
            "Epoch 15/100\n",
            "38/38 [==============================] - 9s 241ms/step - loss: 0.0022 - accuracy: 1.0000 - val_loss: 0.9176 - val_accuracy: 0.8800\n",
            "Epoch 16/100\n",
            "38/38 [==============================] - 9s 239ms/step - loss: 0.0015 - accuracy: 0.9992 - val_loss: 0.8607 - val_accuracy: 0.8967\n",
            "Epoch 17/100\n",
            "38/38 [==============================] - 9s 233ms/step - loss: 0.0017 - accuracy: 0.9992 - val_loss: 0.7609 - val_accuracy: 0.9000\n",
            "Epoch 18/100\n",
            "38/38 [==============================] - 9s 234ms/step - loss: 0.0128 - accuracy: 0.9975 - val_loss: 0.5786 - val_accuracy: 0.9200\n",
            "Epoch 19/100\n",
            "38/38 [==============================] - 9s 238ms/step - loss: 0.0170 - accuracy: 0.9942 - val_loss: 0.5188 - val_accuracy: 0.9433\n",
            "Epoch 20/100\n",
            "38/38 [==============================] - 8s 218ms/step - loss: 0.0048 - accuracy: 0.9983 - val_loss: 0.5628 - val_accuracy: 0.9433\n",
            "Epoch 21/100\n",
            "38/38 [==============================] - 8s 220ms/step - loss: 0.0011 - accuracy: 1.0000 - val_loss: 0.4908 - val_accuracy: 0.9433\n",
            "Epoch 22/100\n",
            "38/38 [==============================] - 8s 218ms/step - loss: 0.0072 - accuracy: 0.9967 - val_loss: 0.5291 - val_accuracy: 0.9433\n",
            "Epoch 23/100\n",
            "38/38 [==============================] - 9s 233ms/step - loss: 0.0065 - accuracy: 0.9983 - val_loss: 0.5376 - val_accuracy: 0.9533\n",
            "Epoch 24/100\n",
            "38/38 [==============================] - 8s 221ms/step - loss: 0.0157 - accuracy: 0.9975 - val_loss: 0.6436 - val_accuracy: 0.9433\n",
            "Epoch 25/100\n",
            "38/38 [==============================] - 8s 220ms/step - loss: 0.0097 - accuracy: 0.9950 - val_loss: 0.7724 - val_accuracy: 0.9000\n",
            "Epoch 26/100\n",
            "38/38 [==============================] - 8s 221ms/step - loss: 0.0030 - accuracy: 0.9975 - val_loss: 0.9987 - val_accuracy: 0.8733\n",
            "Epoch 27/100\n",
            "38/38 [==============================] - 8s 222ms/step - loss: 6.8576e-04 - accuracy: 1.0000 - val_loss: 0.8587 - val_accuracy: 0.9000\n",
            "Epoch 28/100\n",
            "38/38 [==============================] - 8s 222ms/step - loss: 0.0166 - accuracy: 0.9933 - val_loss: 0.7269 - val_accuracy: 0.8900\n",
            "Epoch 29/100\n",
            "38/38 [==============================] - 8s 222ms/step - loss: 0.0212 - accuracy: 0.9942 - val_loss: 0.4732 - val_accuracy: 0.9467\n",
            "Epoch 30/100\n",
            "38/38 [==============================] - 8s 222ms/step - loss: 0.0121 - accuracy: 0.9975 - val_loss: 0.8314 - val_accuracy: 0.9167\n",
            "Epoch 31/100\n",
            "38/38 [==============================] - 8s 221ms/step - loss: 0.0253 - accuracy: 0.9933 - val_loss: 1.1031 - val_accuracy: 0.9000\n",
            "Epoch 32/100\n",
            "38/38 [==============================] - 9s 225ms/step - loss: 0.0191 - accuracy: 0.9917 - val_loss: 0.9691 - val_accuracy: 0.8867\n",
            "Epoch 33/100\n",
            "38/38 [==============================] - 9s 228ms/step - loss: 0.0186 - accuracy: 0.9942 - val_loss: 1.4921 - val_accuracy: 0.8733\n",
            "Epoch 34/100\n",
            "38/38 [==============================] - 9s 229ms/step - loss: 0.0204 - accuracy: 0.9958 - val_loss: 0.7062 - val_accuracy: 0.9033\n",
            "Epoch 35/100\n",
            "38/38 [==============================] - 9s 238ms/step - loss: 0.0076 - accuracy: 0.9983 - val_loss: 0.4100 - val_accuracy: 0.9567\n",
            "Epoch 36/100\n",
            "38/38 [==============================] - 8s 220ms/step - loss: 0.0124 - accuracy: 0.9958 - val_loss: 0.6948 - val_accuracy: 0.9133\n",
            "Epoch 37/100\n",
            "38/38 [==============================] - 8s 222ms/step - loss: 0.0107 - accuracy: 0.9958 - val_loss: 0.2852 - val_accuracy: 0.9567\n",
            "Epoch 38/100\n",
            "38/38 [==============================] - 9s 228ms/step - loss: 0.0076 - accuracy: 0.9975 - val_loss: 0.3164 - val_accuracy: 0.9500\n",
            "Epoch 39/100\n",
            "38/38 [==============================] - 9s 236ms/step - loss: 0.0016 - accuracy: 1.0000 - val_loss: 0.2672 - val_accuracy: 0.9600\n",
            "Epoch 40/100\n",
            "38/38 [==============================] - 9s 236ms/step - loss: 0.0035 - accuracy: 0.9983 - val_loss: 0.2609 - val_accuracy: 0.9700\n",
            "Epoch 41/100\n",
            "38/38 [==============================] - 9s 225ms/step - loss: 9.0537e-04 - accuracy: 1.0000 - val_loss: 0.2392 - val_accuracy: 0.9667\n",
            "Epoch 42/100\n",
            "38/38 [==============================] - 8s 221ms/step - loss: 0.0065 - accuracy: 0.9983 - val_loss: 0.3263 - val_accuracy: 0.9533\n",
            "Epoch 43/100\n",
            "38/38 [==============================] - 9s 224ms/step - loss: 0.0026 - accuracy: 0.9983 - val_loss: 0.2793 - val_accuracy: 0.9667\n",
            "Epoch 44/100\n",
            "38/38 [==============================] - 8s 224ms/step - loss: 6.1895e-04 - accuracy: 1.0000 - val_loss: 0.2567 - val_accuracy: 0.9667\n",
            "Epoch 45/100\n",
            "38/38 [==============================] - 9s 237ms/step - loss: 0.0082 - accuracy: 0.9983 - val_loss: 0.2002 - val_accuracy: 0.9733\n",
            "Epoch 46/100\n",
            "38/38 [==============================] - 8s 222ms/step - loss: 0.0162 - accuracy: 0.9958 - val_loss: 0.2842 - val_accuracy: 0.9700\n",
            "Epoch 47/100\n",
            "38/38 [==============================] - 9s 227ms/step - loss: 0.0027 - accuracy: 0.9992 - val_loss: 0.2301 - val_accuracy: 0.9733\n",
            "Epoch 48/100\n",
            "38/38 [==============================] - 9s 231ms/step - loss: 0.0095 - accuracy: 0.9975 - val_loss: 0.2671 - val_accuracy: 0.9667\n",
            "Epoch 49/100\n",
            "38/38 [==============================] - 9s 225ms/step - loss: 0.0036 - accuracy: 0.9992 - val_loss: 0.3286 - val_accuracy: 0.9667\n",
            "Epoch 50/100\n",
            "38/38 [==============================] - 8s 220ms/step - loss: 8.2343e-04 - accuracy: 1.0000 - val_loss: 0.3013 - val_accuracy: 0.9667\n",
            "Epoch 51/100\n",
            "38/38 [==============================] - 9s 225ms/step - loss: 6.8038e-04 - accuracy: 1.0000 - val_loss: 0.2816 - val_accuracy: 0.9700\n",
            "Epoch 52/100\n",
            "38/38 [==============================] - 8s 221ms/step - loss: 0.0011 - accuracy: 1.0000 - val_loss: 0.3029 - val_accuracy: 0.9700\n",
            "Epoch 53/100\n",
            "38/38 [==============================] - 8s 223ms/step - loss: 0.0062 - accuracy: 0.9983 - val_loss: 0.2292 - val_accuracy: 0.9733\n",
            "Epoch 54/100\n",
            "38/38 [==============================] - 9s 242ms/step - loss: 0.0036 - accuracy: 0.9992 - val_loss: 0.2235 - val_accuracy: 0.9800\n",
            "Epoch 55/100\n",
            "38/38 [==============================] - 8s 223ms/step - loss: 9.8401e-05 - accuracy: 1.0000 - val_loss: 0.2254 - val_accuracy: 0.9800\n"
          ]
        }
      ]
    },
    {
      "cell_type": "code",
      "source": [
        "plt.plot(history.history['accuracy'])\n",
        "plt.plot(history.history['val_accuracy'])\n",
        "plt.title('Model accuracy')\n",
        "plt.ylabel('Accuracy')\n",
        "plt.xlabel('Epoch')\n",
        "plt.legend(['Train', 'Validation'], loc='lower right')\n",
        "plt.show()"
      ],
      "metadata": {
        "id": "2J5S3tYd6jn8",
        "colab": {
          "base_uri": "https://localhost:8080/",
          "height": 299
        },
        "outputId": "530bef8e-faf7-470c-a5d1-10dddb41caa9"
      },
      "execution_count": null,
      "outputs": [
        {
          "output_type": "display_data",
          "data": {
            "text/plain": [
              "<Figure size 432x288 with 1 Axes>"
            ],
            "image/png": "[encoded data removed]"
          },
          "metadata": {}
        }
      ]
    },
    {
      "cell_type": "code",
      "source": [
        "# load the best model\n",
        "best_model_fn = keras.models.load_model('best_model_fn.h5')"
      ],
      "metadata": {
        "id": "6ux9wzewsuwh"
      },
      "execution_count": null,
      "outputs": []
    },
    {
      "cell_type": "code",
      "source": [
        "# Get predictions\n",
        "y_pred = model.predict(X_test)\n",
        "\n",
        "# Convert predictions to class labels\n",
        "y_pred_class = np.argmax(y_pred, axis=1)\n",
        "\n",
        "# Convert true labels to class labels\n",
        "y_true_class = np.argmax(ytest, axis=1)\n",
        "\n",
        "# Get confusion matrix\n",
        "confusion_mat = confusion_matrix(y_true_class, y_pred_class)\n",
        "print(\"\\n--- Confusion Matrix ---\\n\")\n",
        "print(confusion_mat)\n",
        "# Get classification report\n",
        "classification_report = classification_report(y_true_class, y_pred_class)\n",
        "print(\"\\n\\n\\t\\t--- Classification Report ---\\n\")\n",
        "print(classification_report)\n"
      ],
      "metadata": {
        "colab": {
          "base_uri": "https://localhost:8080/"
        },
        "id": "hSS6yJxdZser",
        "outputId": "a7404042-45c7-486c-89b8-265753d8c006"
      },
      "execution_count": null,
      "outputs": [
        {
          "output_type": "stream",
          "name": "stdout",
          "text": [
            "10/10 [==============================] - 1s 46ms/step\n",
            "\n",
            "--- Confusion Matrix ---\n",
            "\n",
            "[[ 94   0   1]\n",
            " [  0 104   3]\n",
            " [  0   2  96]]\n",
            "\n",
            "\n",
            "\t\t--- Classification Report ---\n",
            "\n",
            "              precision    recall  f1-score   support\n",
            "\n",
            "           0       1.00      0.99      0.99        95\n",
            "           1       0.98      0.97      0.98       107\n",
            "           2       0.96      0.98      0.97        98\n",
            "\n",
            "    accuracy                           0.98       300\n",
            "   macro avg       0.98      0.98      0.98       300\n",
            "weighted avg       0.98      0.98      0.98       300\n",
            "\n"
          ]
        }
      ]
    },
    {
      "cell_type": "code",
      "source": [],
      "metadata": {
        "id": "VJEBoJ4ZdzM2"
      },
      "execution_count": null,
      "outputs": []
    }
  ]
}